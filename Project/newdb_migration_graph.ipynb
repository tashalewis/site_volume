{
 "cells": [
  {
   "cell_type": "markdown",
   "id": "089164e2-6afc-4562-89bc-4d63336f0bf7",
   "metadata": {},
   "source": [
    "## Migration Graph \n"
   ]
  },
  {
   "cell_type": "code",
   "execution_count": 4,
   "id": "a9144126-7b9c-4682-b3d9-25f8555a8b6f",
   "metadata": {},
   "outputs": [],
   "source": [
    "from maggma.stores.advanced_stores import MongograntStore"
   ]
  },
  {
   "cell_type": "code",
   "execution_count": 5,
   "id": "9e5e4062-9b61-4afa-a7cb-e6c66066f34f",
   "metadata": {},
   "outputs": [],
   "source": [
    "from pymatgen.core import Structure\n",
    "from pymatgen.analysis.diffusion.neb.full_path_mapper import MigrationGraph"
   ]
  },
  {
   "cell_type": "markdown",
   "id": "1d14e86b-5cb8-4e40-9a34-72efbd3c2d79",
   "metadata": {},
   "source": [
    "Connect to Databases"
   ]
  },
  {
   "cell_type": "code",
   "execution_count": 6,
   "id": "e6ed7097-3f3c-49c4-862f-8944cf20dec0",
   "metadata": {},
   "outputs": [
    {
     "ename": "ConfigurationError",
     "evalue": "Unknown option username",
     "output_type": "error",
     "traceback": [
      "\u001b[0;31m---------------------------------------------------------------------------\u001b[0m",
      "\u001b[0;31mConfigurationError\u001b[0m                        Traceback (most recent call last)",
      "Input \u001b[0;32mIn [6]\u001b[0m, in \u001b[0;36m<cell line: 2>\u001b[0;34m()\u001b[0m\n\u001b[1;32m      1\u001b[0m aneba_store \u001b[38;5;241m=\u001b[39m MongograntStore(\u001b[38;5;124m\"\u001b[39m\u001b[38;5;124mro:mongodb07-ext.nersc.gov/fw_acr_mv\u001b[39m\u001b[38;5;124m\"\u001b[39m, \u001b[38;5;124m\"\u001b[39m\u001b[38;5;124mapprox_neb_analysis\u001b[39m\u001b[38;5;124m\"\u001b[39m, key\u001b[38;5;241m=\u001b[39m\u001b[38;5;124m\"\u001b[39m\u001b[38;5;124mwf_uuid\u001b[39m\u001b[38;5;124m\"\u001b[39m)\n\u001b[0;32m----> 2\u001b[0m \u001b[43maneba_store\u001b[49m\u001b[38;5;241;43m.\u001b[39;49m\u001b[43mconnect\u001b[49m\u001b[43m(\u001b[49m\u001b[43m)\u001b[49m\n",
      "File \u001b[0;32m~/opt/anaconda3/envs/cms/lib/python3.9/site-packages/maggma/stores/mongolike.py:177\u001b[0m, in \u001b[0;36mMongoStore.connect\u001b[0;34m(self, force_reset)\u001b[0m\n\u001b[1;32m    173\u001b[0m     \u001b[38;5;28mself\u001b[39m\u001b[38;5;241m.\u001b[39mssh_tunnel\u001b[38;5;241m.\u001b[39mstart()\n\u001b[1;32m    174\u001b[0m     host, port \u001b[38;5;241m=\u001b[39m \u001b[38;5;28mself\u001b[39m\u001b[38;5;241m.\u001b[39mssh_tunnel\u001b[38;5;241m.\u001b[39mlocal_address\n\u001b[1;32m    176\u001b[0m conn: MongoClient \u001b[38;5;241m=\u001b[39m (\n\u001b[0;32m--> 177\u001b[0m     \u001b[43mMongoClient\u001b[49m\u001b[43m(\u001b[49m\n\u001b[1;32m    178\u001b[0m \u001b[43m        \u001b[49m\u001b[43mhost\u001b[49m\u001b[38;5;241;43m=\u001b[39;49m\u001b[43mhost\u001b[49m\u001b[43m,\u001b[49m\n\u001b[1;32m    179\u001b[0m \u001b[43m        \u001b[49m\u001b[43mport\u001b[49m\u001b[38;5;241;43m=\u001b[39;49m\u001b[43mport\u001b[49m\u001b[43m,\u001b[49m\n\u001b[1;32m    180\u001b[0m \u001b[43m        \u001b[49m\u001b[43musername\u001b[49m\u001b[38;5;241;43m=\u001b[39;49m\u001b[38;5;28;43mself\u001b[39;49m\u001b[38;5;241;43m.\u001b[39;49m\u001b[43musername\u001b[49m\u001b[43m,\u001b[49m\n\u001b[1;32m    181\u001b[0m \u001b[43m        \u001b[49m\u001b[43mpassword\u001b[49m\u001b[38;5;241;43m=\u001b[39;49m\u001b[38;5;28;43mself\u001b[39;49m\u001b[38;5;241;43m.\u001b[39;49m\u001b[43mpassword\u001b[49m\u001b[43m,\u001b[49m\n\u001b[1;32m    182\u001b[0m \u001b[43m        \u001b[49m\u001b[43mauthSource\u001b[49m\u001b[38;5;241;43m=\u001b[39;49m\u001b[38;5;28;43mself\u001b[39;49m\u001b[38;5;241;43m.\u001b[39;49m\u001b[43mauth_source\u001b[49m\u001b[43m,\u001b[49m\n\u001b[1;32m    183\u001b[0m \u001b[43m        \u001b[49m\u001b[38;5;241;43m*\u001b[39;49m\u001b[38;5;241;43m*\u001b[39;49m\u001b[38;5;28;43mself\u001b[39;49m\u001b[38;5;241;43m.\u001b[39;49m\u001b[43mmongoclient_kwargs\u001b[49m\u001b[43m,\u001b[49m\n\u001b[1;32m    184\u001b[0m \u001b[43m    \u001b[49m\u001b[43m)\u001b[49m\n\u001b[1;32m    185\u001b[0m     \u001b[38;5;28;01mif\u001b[39;00m \u001b[38;5;28mself\u001b[39m\u001b[38;5;241m.\u001b[39musername \u001b[38;5;241m!=\u001b[39m \u001b[38;5;124m\"\u001b[39m\u001b[38;5;124m\"\u001b[39m\n\u001b[1;32m    186\u001b[0m     \u001b[38;5;28;01melse\u001b[39;00m MongoClient(host, port, \u001b[38;5;241m*\u001b[39m\u001b[38;5;241m*\u001b[39m\u001b[38;5;28mself\u001b[39m\u001b[38;5;241m.\u001b[39mmongoclient_kwargs)\n\u001b[1;32m    187\u001b[0m )\n\u001b[1;32m    188\u001b[0m db \u001b[38;5;241m=\u001b[39m conn[\u001b[38;5;28mself\u001b[39m\u001b[38;5;241m.\u001b[39mdatabase]\n\u001b[1;32m    189\u001b[0m \u001b[38;5;28mself\u001b[39m\u001b[38;5;241m.\u001b[39m_coll \u001b[38;5;241m=\u001b[39m db[\u001b[38;5;28mself\u001b[39m\u001b[38;5;241m.\u001b[39mcollection_name]\n",
      "File \u001b[0;32m~/opt/anaconda3/envs/cms/lib/python3.9/site-packages/pymongo/mongo_client.py:421\u001b[0m, in \u001b[0;36mMongoClient.__init__\u001b[0;34m(self, host, port, document_class, tz_aware, connect, **kwargs)\u001b[0m\n\u001b[1;32m    419\u001b[0m keyword_opts[\u001b[38;5;124m'\u001b[39m\u001b[38;5;124mconnect\u001b[39m\u001b[38;5;124m'\u001b[39m] \u001b[38;5;241m=\u001b[39m connect\n\u001b[1;32m    420\u001b[0m \u001b[38;5;66;03m# Validate all keyword options.\u001b[39;00m\n\u001b[0;32m--> 421\u001b[0m keyword_opts \u001b[38;5;241m=\u001b[39m \u001b[38;5;28;43mdict\u001b[39;49m\u001b[43m(\u001b[49m\u001b[43mcommon\u001b[49m\u001b[38;5;241;43m.\u001b[39;49m\u001b[43mvalidate\u001b[49m\u001b[43m(\u001b[49m\u001b[43mk\u001b[49m\u001b[43m,\u001b[49m\u001b[43m \u001b[49m\u001b[43mv\u001b[49m\u001b[43m)\u001b[49m\n\u001b[1;32m    422\u001b[0m \u001b[43m                    \u001b[49m\u001b[38;5;28;43;01mfor\u001b[39;49;00m\u001b[43m \u001b[49m\u001b[43mk\u001b[49m\u001b[43m,\u001b[49m\u001b[43m \u001b[49m\u001b[43mv\u001b[49m\u001b[43m \u001b[49m\u001b[38;5;129;43;01min\u001b[39;49;00m\u001b[43m \u001b[49m\u001b[43mkeyword_opts\u001b[49m\u001b[38;5;241;43m.\u001b[39;49m\u001b[43mitems\u001b[49m\u001b[43m(\u001b[49m\u001b[43m)\u001b[49m\u001b[43m)\u001b[49m\n\u001b[1;32m    423\u001b[0m opts\u001b[38;5;241m.\u001b[39mupdate(keyword_opts)\n\u001b[1;32m    424\u001b[0m \u001b[38;5;28mself\u001b[39m\u001b[38;5;241m.\u001b[39m__options \u001b[38;5;241m=\u001b[39m options \u001b[38;5;241m=\u001b[39m ClientOptions(\n\u001b[1;32m    425\u001b[0m     username, password, dbase, opts)\n",
      "File \u001b[0;32m~/opt/anaconda3/envs/cms/lib/python3.9/site-packages/pymongo/mongo_client.py:421\u001b[0m, in \u001b[0;36m<genexpr>\u001b[0;34m(.0)\u001b[0m\n\u001b[1;32m    419\u001b[0m keyword_opts[\u001b[38;5;124m'\u001b[39m\u001b[38;5;124mconnect\u001b[39m\u001b[38;5;124m'\u001b[39m] \u001b[38;5;241m=\u001b[39m connect\n\u001b[1;32m    420\u001b[0m \u001b[38;5;66;03m# Validate all keyword options.\u001b[39;00m\n\u001b[0;32m--> 421\u001b[0m keyword_opts \u001b[38;5;241m=\u001b[39m \u001b[38;5;28mdict\u001b[39m(\u001b[43mcommon\u001b[49m\u001b[38;5;241;43m.\u001b[39;49m\u001b[43mvalidate\u001b[49m\u001b[43m(\u001b[49m\u001b[43mk\u001b[49m\u001b[43m,\u001b[49m\u001b[43m \u001b[49m\u001b[43mv\u001b[49m\u001b[43m)\u001b[49m\n\u001b[1;32m    422\u001b[0m                     \u001b[38;5;28;01mfor\u001b[39;00m k, v \u001b[38;5;129;01min\u001b[39;00m keyword_opts\u001b[38;5;241m.\u001b[39mitems())\n\u001b[1;32m    423\u001b[0m opts\u001b[38;5;241m.\u001b[39mupdate(keyword_opts)\n\u001b[1;32m    424\u001b[0m \u001b[38;5;28mself\u001b[39m\u001b[38;5;241m.\u001b[39m__options \u001b[38;5;241m=\u001b[39m options \u001b[38;5;241m=\u001b[39m ClientOptions(\n\u001b[1;32m    425\u001b[0m     username, password, dbase, opts)\n",
      "File \u001b[0;32m~/opt/anaconda3/envs/cms/lib/python3.9/site-packages/pymongo/common.py:539\u001b[0m, in \u001b[0;36mvalidate\u001b[0;34m(option, value)\u001b[0m\n\u001b[1;32m    537\u001b[0m lower \u001b[38;5;241m=\u001b[39m option\u001b[38;5;241m.\u001b[39mlower()\n\u001b[1;32m    538\u001b[0m validator \u001b[38;5;241m=\u001b[39m VALIDATORS\u001b[38;5;241m.\u001b[39mget(lower, raise_config_error)\n\u001b[0;32m--> 539\u001b[0m value \u001b[38;5;241m=\u001b[39m \u001b[43mvalidator\u001b[49m\u001b[43m(\u001b[49m\u001b[43moption\u001b[49m\u001b[43m,\u001b[49m\u001b[43m \u001b[49m\u001b[43mvalue\u001b[49m\u001b[43m)\u001b[49m\n\u001b[1;32m    540\u001b[0m \u001b[38;5;28;01mreturn\u001b[39;00m lower, value\n",
      "File \u001b[0;32m~/opt/anaconda3/envs/cms/lib/python3.9/site-packages/pymongo/common.py:117\u001b[0m, in \u001b[0;36mraise_config_error\u001b[0;34m(key, dummy)\u001b[0m\n\u001b[1;32m    115\u001b[0m \u001b[38;5;28;01mdef\u001b[39;00m \u001b[38;5;21mraise_config_error\u001b[39m(key, dummy):\n\u001b[1;32m    116\u001b[0m     \u001b[38;5;124;03m\"\"\"Raise ConfigurationError with the given key name.\"\"\"\u001b[39;00m\n\u001b[0;32m--> 117\u001b[0m     \u001b[38;5;28;01mraise\u001b[39;00m ConfigurationError(\u001b[38;5;124m\"\u001b[39m\u001b[38;5;124mUnknown option \u001b[39m\u001b[38;5;132;01m%s\u001b[39;00m\u001b[38;5;124m\"\u001b[39m \u001b[38;5;241m%\u001b[39m (key,))\n",
      "\u001b[0;31mConfigurationError\u001b[0m: Unknown option username"
     ]
    }
   ],
   "source": [
    "aneba_store = MongograntStore(\"ro:mongodb07-ext.nersc.gov/fw_acr_mv\", \"approx_neb_analysis\", key=\"wf_uuid\")\n",
    "aneba_store.connect()\n"
   ]
  },
  {
   "cell_type": "code",
   "execution_count": 7,
   "id": "aa5b5018-d691-4d9d-bf32-1681db30e72d",
   "metadata": {},
   "outputs": [],
   "source": [
    "elec_store = MongograntStore(\"ro:mongodb07-ext.nersc.gov/fw_acr_mv\",\"vw_elec\",key=\"battid\")\n",
    "elec_store.connect()"
   ]
  },
  {
   "cell_type": "code",
   "execution_count": 8,
   "id": "793081a9-0590-4294-b294-d8596fb0f204",
   "metadata": {},
   "outputs": [],
   "source": [
    "new_elec_store = MongograntStore(\"ro:mongodb07-ext.nersc.gov/fw_acr_mv\",\"rank_electrodes_2022\")\n",
    "new_elec_store.connect()"
   ]
  },
  {
   "cell_type": "code",
   "execution_count": 9,
   "id": "e1a69829-3dee-444c-85bd-29b3d505f3a7",
   "metadata": {},
   "outputs": [],
   "source": [
    "from pymatgen.analysis.structure_matcher import StructureMatcher\n",
    "sm = StructureMatcher()"
   ]
  },
  {
   "cell_type": "markdown",
   "id": "e6843fe5-c126-4e4a-a8c4-670e1390a375",
   "metadata": {},
   "source": [
    "Create list of battids that have Mg"
   ]
  },
  {
   "cell_type": "code",
   "execution_count": 10,
   "id": "e4e9aa35-f228-4c9e-afaf-59b897adf76b",
   "metadata": {},
   "outputs": [],
   "source": [
    "aneba_doc_list = list(aneba_store.query({'battid':{'$regex':'Mg'}}))"
   ]
  },
  {
   "cell_type": "code",
   "execution_count": 11,
   "id": "9427d3fc-d850-4dbc-b0e6-be20fc403e3a",
   "metadata": {},
   "outputs": [
    {
     "data": {
      "text/plain": [
       "147"
      ]
     },
     "execution_count": 11,
     "metadata": {},
     "output_type": "execute_result"
    }
   ],
   "source": [
    "len(aneba_doc_list)"
   ]
  },
  {
   "cell_type": "code",
   "execution_count": 18,
   "id": "001cbf2e-fd77-4c37-a18e-2a7964837ced",
   "metadata": {},
   "outputs": [
    {
     "ename": "IndentationError",
     "evalue": "expected an indented block (2057141279.py, line 19)",
     "output_type": "error",
     "traceback": [
      "\u001b[0;36m  Input \u001b[0;32mIn [18]\u001b[0;36m\u001b[0m\n\u001b[0;31m    \u001b[0m\n\u001b[0m    ^\u001b[0m\n\u001b[0;31mIndentationError\u001b[0m\u001b[0;31m:\u001b[0m expected an indented block\n"
     ]
    }
   ],
   "source": [
    "for doc in aneba_doc_list:\n",
    "    battid = doc['battid']  # Old battery id\n",
    "    wf_uuid = doc['wf_uuid']\n",
    "    struct = Structure.from_dict(doc['host']['input'])\n",
    "    elements = list(struct.composition.as_dict().keys())\n",
    "    if elec_store.count({'battid':battid})>1:\n",
    "        print('more than one elec doc found for battid'+battid)\n",
    "        \n",
    "    elec_doc = elec_store.query_one({\"approx_neb_wf_uuid\":wf_uuid,'battid':battid})  # The old way to query with battery id and wf uuid\n",
    "    if elec_doc:\n",
    "        material_ids = [str(i) for i in elec_doc['material_ids']]   # get material ids\n",
    "        material_ids.extend(['js-'+i for i in material_ids])  \n",
    "        if new_elec_store.count({'material_ids':{'$in':material_ids},'elements':{'$all':elements}}) == 1:\n",
    "            elec_doc = new_elec_store.query_one({'material_ids':{'$in':material_ids},'elements':{'$all':elements}})\n",
    "            mg = MigrationGraph.from_dict(elec_doc['migration_graph'])   # get migration graph\n",
    "            print(\"structures don't match for \"+battid) if sm.fit(struct,mg.host_structure)==False else None\n",
    "        else:\n",
    "            #print(str(new_elec_store.count({'material_ids':{'$in':material_ids},'elements':{'$all':elements}}))+ ' documents found for '+battid,elec_doc['formula_charge'])         \n",
    "    "
   ]
  },
  {
   "cell_type": "code",
   "execution_count": 14,
   "id": "9663f060-19b8-4c03-922b-9fcdbda9c087",
   "metadata": {},
   "outputs": [
    {
     "name": "stdout",
     "output_type": "stream",
     "text": [
      "Number of matching documents in elec_store: 105\n"
     ]
    }
   ],
   "source": [
    "matching_count = 0\n",
    "for doc in aneba_doc_list:\n",
    "    battid = doc['battid']  # Old battery id\n",
    "    wf_uuid = doc['wf_uuid']\n",
    "    \n",
    "    elec_doc = elec_store.query({'approx_neb_wf_uuid': wf_uuid, 'battid': battid})\n",
    "    matching_count += len(list(elec_doc))\n",
    "\n",
    "print(\"Number of matching documents in elec_store:\", matching_count)"
   ]
  },
  {
   "cell_type": "code",
   "execution_count": null,
   "id": "adb0377f-6800-49ef-81c3-b428316e6e1f",
   "metadata": {},
   "outputs": [],
   "source": []
  }
 ],
 "metadata": {
  "kernelspec": {
   "display_name": "Python 3 (ipykernel)",
   "language": "python",
   "name": "python3"
  },
  "language_info": {
   "codemirror_mode": {
    "name": "ipython",
    "version": 3
   },
   "file_extension": ".py",
   "mimetype": "text/x-python",
   "name": "python",
   "nbconvert_exporter": "python",
   "pygments_lexer": "ipython3",
   "version": "3.9.13"
  }
 },
 "nbformat": 4,
 "nbformat_minor": 5
}
