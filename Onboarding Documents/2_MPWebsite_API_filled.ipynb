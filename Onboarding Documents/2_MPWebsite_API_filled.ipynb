{
 "cells": [
  {
   "cell_type": "markdown",
   "id": "43b63a9f-40b8-424d-a96c-9f7f23c1eca0",
   "metadata": {
    "tags": []
   },
   "source": [
    "# Joint Undergraduate Researcher Onboarding #2\n",
    "**Topic:** 1) Materials Project website 2) Materials Project API\n",
    "\n",
    "**Date:** March 28, 2022\n",
    "\n",
    "**Prepared by:** Jiyoon Kim"
   ]
  },
  {
   "cell_type": "markdown",
   "id": "9b32e6d2-6bf1-4393-aaf4-d8ac1ddceee5",
   "metadata": {
    "tags": []
   },
   "source": [
    "# Outline & Relevant Documentation\n",
    "\n",
    "Onboarding Session Demonstration:\n",
    "* Log into Materials Project\n",
    "* Explore the Materials Project website\n",
    "* Store API key in pymatgen config file\n",
    "* `MPRester()`: to query data from Materials Project database\n",
    "\n",
    "Onboarding Independent Exercises Goals:\n",
    "* Get familiar with the Materials Project website and its functionalities \n",
    "* Use `MPRester()` to query materials by chemistry, composition, and property\n",
    "* This will be useful when you need to search for material data or relevant literature\n",
    "\n",
    "For further reading and general reference...\n",
    "* Materials Project website: https://legacy.materialsproject.org/\n",
    "* Materials Project API overview: https://legacy.materialsproject.org/open\n",
    "* Materials Project API documentation: https://docs.materialsproject.org/open-apis/the-materials-api/\n",
    "* Materials Project API Github: https://github.com/materialsproject/mapidoc\n",
    "* 2020 Materials Project Workshop API walkthrough video: https://www.youtube.com/watch?v=N3Mk8ccqtfw&ab_channel=MaterialsProject"
   ]
  },
  {
   "cell_type": "markdown",
   "id": "314f9883-2f8b-47c0-afbb-4cd6fbeb794b",
   "metadata": {},
   "source": [
    "New Materials Project website + API information\n",
    "* Old vs. new Materials Project website + API difference: https://medium.com/materials-project/announcing-a-new-materials-project-2628ded751c\n",
    "* Materials Project website: https://materialsproject.org/\n",
    "* 2021 Materials Project Workshop API walkthrough video: https://www.youtube.com/watch?v=G1KMSKOqeHg&list=PLTjFYVNE7LTi6kGvPAF7DDQYj0KDL-vQL&index=7&ab_channel=MaterialsProject\n",
    "* Materials Project API overview: https://materialsproject.org/api\n",
    "* Materials Project API documentation: https://api.materialsproject.org/docs"
   ]
  },
  {
   "cell_type": "markdown",
   "id": "59171875-88ec-469b-8844-071a4b17274a",
   "metadata": {},
   "source": [
    "## 1. Log into Materials Project\n",
    "* \"Log in or register\": https://legacy.materialsproject.org/\n",
    "* Log in using one of the listed platforms (ie: Google, Github)\n",
    "* Materials Project dashboard and newsletter: https://legacy.materialsproject.org/dashboard"
   ]
  },
  {
   "cell_type": "markdown",
   "id": "36e74a1c-b7b2-434d-9d3f-6095d8c54e3f",
   "metadata": {},
   "source": [
    "## 2. Explore Materials Project website\n",
    "* Materials Project apps\n",
    "* Materials Project forum: https://matsci.org/c/materials-project/8"
   ]
  },
  {
   "cell_type": "markdown",
   "id": "0cfc6c4d-0f7d-46bf-b892-e217a9099d9b",
   "metadata": {},
   "source": [
    "## 3. Store API key in pymatgen config file"
   ]
  },
  {
   "cell_type": "markdown",
   "id": "143eb3ad-a164-48ae-b686-25066f5b721b",
   "metadata": {},
   "source": [
    "* Purpose of API key: to make sure connections/requests between user and database are authorized --> Do not share your API key with anyone else!\n",
    "* Get API key from dashboard: https://legacy.materialsproject.org/dashboard\n",
    "* `conda activate <env>`\n",
    "* `pmg config --add PMG_MAPI_KEY <USER_API_KEY>`\n",
    "* Check your pymatgen config file (`vim ~/.pmgrc.yaml`)"
   ]
  },
  {
   "cell_type": "code",
   "execution_count": 1,
   "id": "b81a3f7a-b7f3-41b7-bd99-413f07c865c3",
   "metadata": {},
   "outputs": [],
   "source": [
    "from pymatgen.ext.matproj import MPRester"
   ]
  },
  {
   "cell_type": "code",
   "execution_count": 2,
   "id": "8d30ca3a-ce15-449c-ace9-62ccf430b09c",
   "metadata": {},
   "outputs": [
    {
     "name": "stderr",
     "output_type": "stream",
     "text": [
      "/Users/tashalewis/miniconda3/envs/torl/lib/python3.9/site-packages/mp_api/client/mprester.py:146: UserWarning: mpcontribs-client not installed. Install the package to query MPContribs data, or construct pourbaix diagrams: 'pip install mpcontribs-client'\n",
      "  warnings.warn(\n"
     ]
    }
   ],
   "source": [
    "mpr = MPRester()"
   ]
  },
  {
   "cell_type": "code",
   "execution_count": 3,
   "id": "a9f851df-84a3-404c-b1a9-d4ae3902767f",
   "metadata": {},
   "outputs": [
    {
     "name": "stdout",
     "output_type": "stream",
     "text": [
      "YvkXGkSNVgVrIQ88UvHA9GXSojc1FI4I\n"
     ]
    }
   ],
   "source": [
    "# Check your configuration\n",
    "print(mpr.api_key)"
   ]
  },
  {
   "cell_type": "markdown",
   "id": "62f558c4-b745-4994-8b76-97e68d9cc5c1",
   "metadata": {
    "tags": []
   },
   "source": [
    "## 4. Query data with MPRester"
   ]
  },
  {
   "cell_type": "markdown",
   "id": "424fb9eb-a068-4c15-8b98-4d98ee1a891f",
   "metadata": {},
   "source": [
    "### Get structure"
   ]
  },
  {
   "cell_type": "code",
   "execution_count": 5,
   "id": "04a4c279-10c8-44af-a29a-6b03f45a190b",
   "metadata": {},
   "outputs": [
    {
     "data": {
      "application/vnd.jupyter.widget-view+json": {
       "model_id": "59baa1a47ae14f14a77791f2d2f4dd84",
       "version_major": 2,
       "version_minor": 0
      },
      "text/plain": [
       "Retrieving MaterialsDoc documents:   0%|          | 0/1 [00:00<?, ?it/s]"
      ]
     },
     "metadata": {},
     "output_type": "display_data"
    }
   ],
   "source": [
    "struct = mpr.get_structure_by_material_id('mp-761263')"
   ]
  },
  {
   "cell_type": "code",
   "execution_count": 6,
   "id": "b0dde074-bdf7-494f-a497-6a141339cb29",
   "metadata": {},
   "outputs": [
    {
     "data": {
      "text/plain": [
       "Structure Summary\n",
       "Lattice\n",
       "    abc : 6.171307270300516 6.171307270300516 9.573302272890844\n",
       " angles : 79.4072668187544 79.4072668187544 34.69368018339109\n",
       " volume : 203.64112019355082\n",
       "      A : 1.840008 5.89062 0.0\n",
       "      B : -1.840008 5.89062 0.0\n",
       "      C : 0.0 1.843684 9.394091\n",
       "    pbc : True True True\n",
       "PeriodicSite: Na (0.0000, 6.8125, 4.6970) [0.5000, 0.5000, 0.5000]\n",
       "PeriodicSite: V (0.0000, 11.0369, 1.5262) [0.9114, 0.9114, 0.1625]\n",
       "PeriodicSite: V (0.0000, 10.9223, 7.8161) [0.7969, 0.7969, 0.8320]\n",
       "PeriodicSite: V (0.0000, 2.7026, 1.5780) [0.2031, 0.2031, 0.1680]\n",
       "PeriodicSite: V (0.0000, 2.5880, 7.8678) [0.0886, 0.0886, 0.8375]\n",
       "PeriodicSite: O (0.0000, 12.6827, 8.4928) [0.9350, 0.9350, 0.9041]\n",
       "PeriodicSite: O (0.0000, 11.2943, 3.1411) [0.9063, 0.9063, 0.3344]\n",
       "PeriodicSite: O (0.0000, 11.2312, 6.2157) [0.8498, 0.8498, 0.6617]\n",
       "PeriodicSite: O (0.0000, 4.6859, 1.2951) [0.3762, 0.3762, 0.1379]\n",
       "PeriodicSite: O (0.0000, 4.6616, 8.2397) [0.2584, 0.2584, 0.8771]\n",
       "PeriodicSite: O (0.0000, 8.9633, 1.1543) [0.7416, 0.7416, 0.1229]\n",
       "PeriodicSite: O (0.0000, 8.9390, 8.0990) [0.6238, 0.6238, 0.8621]\n",
       "PeriodicSite: O (0.0000, 2.3937, 3.1784) [0.1502, 0.1502, 0.3383]\n",
       "PeriodicSite: O (0.0000, 2.3307, 6.2530) [0.0937, 0.0937, 0.6656]\n",
       "PeriodicSite: O (0.0000, 0.9423, 0.9013) [0.0650, 0.0650, 0.0959]"
      ]
     },
     "execution_count": 6,
     "metadata": {},
     "output_type": "execute_result"
    }
   ],
   "source": [
    "struct"
   ]
  },
  {
   "cell_type": "markdown",
   "id": "60ad6e2e-2728-41bf-b346-acff73a91a16",
   "metadata": {},
   "source": [
    "### Get material ids by composition"
   ]
  },
  {
   "cell_type": "code",
   "execution_count": 70,
   "id": "51ab94a5-bb1b-41cb-b4bc-fa0e4e40ab8e",
   "metadata": {},
   "outputs": [
    {
     "name": "stdout",
     "output_type": "stream",
     "text": [
      "Na-O-V\n"
     ]
    }
   ],
   "source": [
    "chemsys = struct.composition.chemical_system\n",
    "print(chemsys)"
   ]
  },
  {
   "cell_type": "code",
   "execution_count": 60,
   "id": "0efda22d-ab64-4d89-babc-af91011a7b8e",
   "metadata": {},
   "outputs": [
    {
     "name": "stdout",
     "output_type": "stream",
     "text": [
      "343\n"
     ]
    }
   ],
   "source": [
    "mpids = mpr.get_materials_ids(chemsys)\n",
    "print(len(mpids))"
   ]
  },
  {
   "cell_type": "markdown",
   "id": "2d621075-deb9-4afa-b73f-1c22981b526a",
   "metadata": {},
   "source": [
    "### Get entry"
   ]
  },
  {
   "cell_type": "code",
   "execution_count": 61,
   "id": "a9da0d7b-d313-4ec2-8a4f-87000f598ead",
   "metadata": {},
   "outputs": [],
   "source": [
    "entry = mpr.get_entry_by_material_id('mp-761263')"
   ]
  },
  {
   "cell_type": "code",
   "execution_count": 62,
   "id": "304012ad-3fd4-443e-b631-61db15180cce",
   "metadata": {},
   "outputs": [
    {
     "data": {
      "text/plain": [
       "mp-761263 ComputedEntry - Na1 V4 O10   (NaV4O10)\n",
       "Energy (Uncorrected)     = -108.2996 eV (-7.2200  eV/atom)\n",
       "Correction               = -13.6700  eV (-0.9113  eV/atom)\n",
       "Energy (Final)           = -121.9696 eV (-8.1313  eV/atom)\n",
       "Energy Adjustments:\n",
       "  MP2020 anion correction (oxide): -6.8700   eV (-0.4580  eV/atom)\n",
       "  MP2020 GGA/GGA+U mixing correction (V): -6.8000   eV (-0.4533  eV/atom)\n",
       "Parameters:\n",
       "  run_type               = GGA+U\n",
       "  is_hubbard             = True\n",
       "  pseudo_potential       = {'functional': 'PBE', 'labels': ['Na_pv', 'V_pv', 'O'], 'pot_type': 'paw'}\n",
       "  hubbards               = {'Na': 0.0, 'V': 3.25, 'O': 0.0}\n",
       "  potcar_symbols         = ['PBE Na_pv', 'PBE V_pv', 'PBE O']\n",
       "  oxide_type             = oxide\n",
       "Data:\n",
       "  oxide_type             = oxide\n",
       "  oxidation_states       = {'Na': 1.0, 'V': 4.75, 'O': -2.0}"
      ]
     },
     "execution_count": 62,
     "metadata": {},
     "output_type": "execute_result"
    }
   ],
   "source": [
    "entry"
   ]
  },
  {
   "cell_type": "markdown",
   "id": "2794d4bb-f82a-42b3-9734-80c3c9df1ecd",
   "metadata": {},
   "source": [
    "### Query by composition or property"
   ]
  },
  {
   "cell_type": "code",
   "execution_count": 63,
   "id": "48e9df99-c4dd-462e-b2d1-aee6e5967404",
   "metadata": {},
   "outputs": [
    {
     "data": {
      "text/plain": [
       "('energy',\n",
       " 'energy_per_atom',\n",
       " 'volume',\n",
       " 'formation_energy_per_atom',\n",
       " 'nsites',\n",
       " 'unit_cell_formula',\n",
       " 'pretty_formula',\n",
       " 'is_hubbard',\n",
       " 'elements',\n",
       " 'nelements',\n",
       " 'e_above_hull',\n",
       " 'hubbards',\n",
       " 'is_compatible',\n",
       " 'spacegroup',\n",
       " 'task_ids',\n",
       " 'band_gap',\n",
       " 'density',\n",
       " 'icsd_id',\n",
       " 'icsd_ids',\n",
       " 'cif',\n",
       " 'total_magnetization',\n",
       " 'material_id',\n",
       " 'oxide_type',\n",
       " 'tags',\n",
       " 'elasticity')"
      ]
     },
     "execution_count": 63,
     "metadata": {},
     "output_type": "execute_result"
    }
   ],
   "source": [
    "mpr.supported_properties"
   ]
  },
  {
   "cell_type": "code",
   "execution_count": 75,
   "id": "3c1e94e2-0c3b-4c9e-88f0-4f07568f4101",
   "metadata": {},
   "outputs": [
    {
     "name": "stdout",
     "output_type": "stream",
     "text": [
      "318\n"
     ]
    }
   ],
   "source": [
    "query = mpr.query(\n",
    "    criteria={'elements':{'$all':['Na', 'V', 'O']}},\n",
    "    properties=['material_id', 'structure', 'volume', 'e_above_hull', 'spacegroup.symbol']\n",
    ")\n",
    "print(len(query))"
   ]
  },
  {
   "cell_type": "code",
   "execution_count": 72,
   "id": "eea5ce12-5158-4dc4-accd-fb7f020630b0",
   "metadata": {},
   "outputs": [
    {
     "data": {
      "text/plain": [
       "dict_keys(['material_id', 'structure', 'volume', 'e_above_hull'])"
      ]
     },
     "execution_count": 72,
     "metadata": {},
     "output_type": "execute_result"
    }
   ],
   "source": [
    "query[0].keys()"
   ]
  },
  {
   "cell_type": "code",
   "execution_count": 79,
   "id": "92c693f3-db0c-48a0-bb63-bdb50fc7b2f2",
   "metadata": {},
   "outputs": [
    {
     "data": {
      "text/plain": [
       "Comp: Na6 V10 O20"
      ]
     },
     "execution_count": 79,
     "metadata": {},
     "output_type": "execute_result"
    }
   ],
   "source": [
    "query[0]['structure'].composition"
   ]
  },
  {
   "cell_type": "code",
   "execution_count": 74,
   "id": "3723f8c6-144b-4cbd-8eb6-b5ed23fd724f",
   "metadata": {},
   "outputs": [
    {
     "data": {
      "text/plain": [
       "0.025022667777771623"
      ]
     },
     "execution_count": 74,
     "metadata": {},
     "output_type": "execute_result"
    }
   ],
   "source": [
    "query[0]['e_above_hull']"
   ]
  },
  {
   "cell_type": "code",
   "execution_count": 76,
   "id": "263de4df-9008-4497-a630-b93c65f47049",
   "metadata": {},
   "outputs": [
    {
     "data": {
      "text/plain": [
       "'P-1'"
      ]
     },
     "execution_count": 76,
     "metadata": {},
     "output_type": "execute_result"
    }
   ],
   "source": [
    "query[0]['spacegroup.symbol']"
   ]
  },
  {
   "cell_type": "markdown",
   "id": "cb772f57-1c09-4c2e-b330-26cfa8c9529d",
   "metadata": {
    "tags": []
   },
   "source": [
    "# Onboarding Independent Exercises"
   ]
  },
  {
   "cell_type": "markdown",
   "id": "658d8e69-0d5b-4338-be13-e814b6e03798",
   "metadata": {},
   "source": [
    "1. Get the structure of `LiCoO2` using a material id from the Materials Project and `MPRester()`"
   ]
  },
  {
   "cell_type": "code",
   "execution_count": 115,
   "id": "7d538c64-b7c8-4515-bb45-5d86cedcf7f2",
   "metadata": {},
   "outputs": [],
   "source": [
    "mpid = 'mp-22526' # on Materials Project if you search by \"LiCoO2\""
   ]
  },
  {
   "cell_type": "code",
   "execution_count": 119,
   "id": "b980f873-6b0b-4ec4-b041-61dabe39b5d3",
   "metadata": {},
   "outputs": [
    {
     "name": "stdout",
     "output_type": "stream",
     "text": [
      "Li1 Co1 O2\n"
     ]
    }
   ],
   "source": [
    "struct = mpr.get_structure_by_material_id(mpid)\n",
    "print(struct.composition)"
   ]
  },
  {
   "cell_type": "markdown",
   "id": "9f1d6d22-ae42-4c0d-8cbc-610dd38f4d9c",
   "metadata": {},
   "source": [
    "2. How many material ids share the formula `LiCoO2`?"
   ]
  },
  {
   "cell_type": "code",
   "execution_count": 117,
   "id": "e67ab67b-f6c9-4375-9fb2-47febb74d449",
   "metadata": {},
   "outputs": [
    {
     "name": "stdout",
     "output_type": "stream",
     "text": [
      "Li1Co1O2\n"
     ]
    }
   ],
   "source": [
    "pretty_formula = struct.composition.to_pretty_string()\n",
    "print(pretty_formula)"
   ]
  },
  {
   "cell_type": "code",
   "execution_count": 118,
   "id": "b84e199a-39a6-406f-8793-8397746f08b4",
   "metadata": {},
   "outputs": [
    {
     "name": "stdout",
     "output_type": "stream",
     "text": [
      "7\n"
     ]
    }
   ],
   "source": [
    "print(len(mpr.get_materials_ids(formula)))"
   ]
  },
  {
   "cell_type": "markdown",
   "id": "f19d39b3-d8ed-44b3-af16-efc83653849b",
   "metadata": {},
   "source": [
    "3. Using the entry data that corresponds to the material id you used in Q1, what type of DFT calculation was done to produce the data?"
   ]
  },
  {
   "cell_type": "code",
   "execution_count": 120,
   "id": "55b7f4d7-3031-4603-919c-7bfd3e4120db",
   "metadata": {},
   "outputs": [],
   "source": [
    "entry = mpr.get_entry_by_material_id(mpid)"
   ]
  },
  {
   "cell_type": "code",
   "execution_count": 121,
   "id": "c054acb6-fc3c-4d36-88ed-bf91f8254b3c",
   "metadata": {},
   "outputs": [
    {
     "data": {
      "text/plain": [
       "'GGA+U'"
      ]
     },
     "execution_count": 121,
     "metadata": {},
     "output_type": "execute_result"
    }
   ],
   "source": [
    "entry.parameters['run_type']"
   ]
  },
  {
   "cell_type": "markdown",
   "id": "a1ebb449-7712-4a88-9c60-bd695680b681",
   "metadata": {},
   "source": [
    "4. Use `MPRester().query` and the material id you used from Q1 to search for its corresponding ICSD ids"
   ]
  },
  {
   "cell_type": "code",
   "execution_count": 123,
   "id": "f01d0c25-1dd8-4fd0-9153-0feeaa21cb5f",
   "metadata": {},
   "outputs": [
    {
     "name": "stdout",
     "output_type": "stream",
     "text": [
      "1\n"
     ]
    }
   ],
   "source": [
    "query = mpr.query(\n",
    "    criteria={'material_id':mpid},\n",
    "    properties=['icsd_ids']\n",
    ")\n",
    "print(len(query))"
   ]
  },
  {
   "cell_type": "code",
   "execution_count": 124,
   "id": "b0e2fee0-189b-4a11-9596-284e27c6fcf3",
   "metadata": {},
   "outputs": [
    {
     "data": {
      "text/plain": [
       "[193442,\n",
       " 164802,\n",
       " 51767,\n",
       " 164320,\n",
       " 51381,\n",
       " 246414,\n",
       " 29225,\n",
       " 51182,\n",
       " 180989,\n",
       " 182443,\n",
       " 182444,\n",
       " 248640,\n",
       " 248635,\n",
       " 156395,\n",
       " 246412,\n",
       " 172909,\n",
       " 246413,\n",
       " 246411,\n",
       " 182346,\n",
       " 160714,\n",
       " 155284,\n",
       " 98270,\n",
       " 164801,\n",
       " 182442,\n",
       " 51382]"
      ]
     },
     "execution_count": 124,
     "metadata": {},
     "output_type": "execute_result"
    }
   ],
   "source": [
    "query[0]['icsd_ids']"
   ]
  },
  {
   "cell_type": "markdown",
   "id": "833cbfca-633b-48cf-a712-e25de9f1ec6b",
   "metadata": {},
   "source": [
    "5. Use `MPRester().query` to find the energies per atom and volumes of compounds (1) with 'Na', 'V', (2) with O or S, (3) with a volume less than 80 Å^3"
   ]
  },
  {
   "cell_type": "code",
   "execution_count": 136,
   "id": "bb97ae41-f410-459f-9581-536d9a785e18",
   "metadata": {},
   "outputs": [
    {
     "name": "stdout",
     "output_type": "stream",
     "text": [
      "4\n"
     ]
    }
   ],
   "source": [
    "query = mpr.query(\n",
    "    criteria={'elements':{'$all':['Na', 'V'], '$in': ['O', 'S']}, 'volume':{'$lt':80}},\n",
    "    properties=['unit_cell_formula', 'energy_per_atom', 'volume']\n",
    ")\n",
    "print(len(query))"
   ]
  },
  {
   "cell_type": "code",
   "execution_count": 141,
   "id": "22acb1f0-4314-4c98-a04f-d0eb9485b941",
   "metadata": {},
   "outputs": [
    {
     "name": "stdout",
     "output_type": "stream",
     "text": [
      "{'Na': 1.0, 'V': 1.0, 'O': 3.0} -6.535529563999999 53\n",
      "{'Na': 1.0, 'V': 1.0, 'S': 2.0} -5.60350741 72\n",
      "{'Na': 1.0, 'V': 1.0, 'S': 2.0} -5.609729715 72\n",
      "{'Na': 1.0, 'V': 1.0, 'S': 2.0} -5.5942246425 73\n"
     ]
    }
   ],
   "source": [
    "for q in query:\n",
    "    print(q['unit_cell_formula'], q['energy_per_atom'], int(q['volume']))"
   ]
  }
 ],
 "metadata": {
  "kernelspec": {
   "display_name": "Python 3 (ipykernel)",
   "language": "python",
   "name": "python3"
  },
  "language_info": {
   "codemirror_mode": {
    "name": "ipython",
    "version": 3
   },
   "file_extension": ".py",
   "mimetype": "text/x-python",
   "name": "python",
   "nbconvert_exporter": "python",
   "pygments_lexer": "ipython3",
   "version": "3.9.16"
  }
 },
 "nbformat": 4,
 "nbformat_minor": 5
}
