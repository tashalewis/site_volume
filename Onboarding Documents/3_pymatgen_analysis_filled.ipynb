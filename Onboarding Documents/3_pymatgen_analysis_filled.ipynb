{
 "cells": [
  {
   "cell_type": "markdown",
   "id": "cc1ae416-ca0b-4e3c-8425-f93e4278aae1",
   "metadata": {},
   "source": [
    "# Joint Undergraduate Researcher Onboarding #3\n",
    "**Topic:** Analysis in pymatgen for 1) structure matching, 2) local environment coordinator, 3) site volume\n",
    "\n",
    "**Date:** March 28, 2022\n",
    "\n",
    "**Prepared by:** Ann Rutt"
   ]
  },
  {
   "cell_type": "markdown",
   "id": "e8d7cd2f-43ec-4313-9700-cfa92036e694",
   "metadata": {
    "tags": []
   },
   "source": [
    "# Outline & Relevant Documentation\n",
    "\n",
    "Onboarding Session Demonstration:\n",
    "* Get structures for olivine LiFePO4 for demonstration\n",
    "* `StructureMatcher()`: for comparing and grouping by structure\n",
    "* `CrystalNN()`: for analyzing coordination based on neighest neighbor algorithm\n",
    "* `ChemEnv` simplest vs. multi weights strategy: advanced method for analyzing coordination\n",
    "* `VoronoiNN()`: for getting site specific volume\n",
    "\n",
    "Onboarding Independent Exercises Goals:\n",
    "* Reinforce how to work with `MPRester()` and manipulate pymatgen's structure objects\n",
    "* Practice using structure grouping and comparison methods from `StructureMatcher()`\n",
    "* Practice using `get_cn()` and `get_local_order_parameters()` methodes from `CrystalNN()`\n",
    "* Practice getting site volumes using `VoronoiNN()`\n",
    "* Exercise materials were selected to provide **context for factors that influence solid-state mobility** such as how anion selection and coordination can impact the working ion site volume.\n",
    "\n",
    "For further reading and general reference...\n",
    "* Pymatgen: https://github.com/materialsproject/pymatgen\n",
    "* Structure Matcher: https://github.com/materialsproject/pymatgen/blob/master/pymatgen/analysis/structure_matcher.py#L298\n",
    "* CrystalNN: https://dx.doi.org/10.1021/acs.inorgchem.0c02996\n",
    "* ChemEnv: https://doi.org/10.1021/acs.chemmater.7b02766\n",
    "* Site Volume via VoronoiNN: https://github.com/materialsproject/pymatgen/blob/master/pymatgen/analysis/local_env.py#L614"
   ]
  },
  {
   "cell_type": "markdown",
   "id": "96cd68f8-8249-45cd-ad70-81a9b98d35d3",
   "metadata": {
    "tags": []
   },
   "source": [
    "# Onboarding Session Demonstration"
   ]
  },
  {
   "cell_type": "code",
   "execution_count": 1,
   "id": "e5a530ce-b22f-48d6-8516-efe53708f0ff",
   "metadata": {},
   "outputs": [
    {
     "name": "stderr",
     "output_type": "stream",
     "text": [
      "/Users/tashalewis/opt/anaconda3/envs/cms/lib/python3.9/site-packages/pymatgen/analysis/phase_diagram.py:26: TqdmWarning: IProgress not found. Please update jupyter and ipywidgets. See https://ipywidgets.readthedocs.io/en/stable/user_install.html\n",
      "  from tqdm.autonotebook import tqdm\n"
     ]
    }
   ],
   "source": [
    "from pymatgen.core import Structure, Element, Lattice, PeriodicSite\n",
    "from pymatgen.ext.matproj import MPRester"
   ]
  },
  {
   "cell_type": "markdown",
   "id": "5b75baa1-b436-4bcd-a95c-2212a73d6b00",
   "metadata": {
    "tags": []
   },
   "source": [
    "## Get Structures"
   ]
  },
  {
   "cell_type": "code",
   "execution_count": 2,
   "id": "aaf2e764-fd01-446d-a843-820499e2288e",
   "metadata": {},
   "outputs": [
    {
     "name": "stderr",
     "output_type": "stream",
     "text": [
      "/Users/tashalewis/opt/anaconda3/envs/cms/lib/python3.9/site-packages/mp_api/client/client.py:139: UserWarning: mpcontribs-client not installed. Install the package to query MPContribs data, or construct pourbaix diagrams: 'pip install mpcontribs-client'\n",
      "  warnings.warn(\"mpcontribs-client not installed. \"\n"
     ]
    }
   ],
   "source": [
    "mpr = MPRester()"
   ]
  },
  {
   "cell_type": "code",
   "execution_count": 3,
   "id": "c6cd4289-68b5-479e-95f7-2db0097cf8a4",
   "metadata": {},
   "outputs": [
    {
     "name": "stderr",
     "output_type": "stream",
     "text": [
      "Retrieving MaterialsDoc documents: 100%|██████████| 1/1 [00:00<00:00, 2277.04it/s]\n",
      "Retrieving MaterialsDoc documents: 100%|██████████| 1/1 [00:00<00:00, 15196.75it/s]\n"
     ]
    }
   ],
   "source": [
    "s1 = mpr.get_structure_by_material_id(\"mp-20361\") # empty olivine FePO4\n",
    "s2 = mpr.get_structure_by_material_id(\"mp-19017\") # lithiated olivine FePO4"
   ]
  },
  {
   "cell_type": "code",
   "execution_count": 4,
   "id": "f3a536a4-3afa-4ab6-92d4-dfb80dc2c81a",
   "metadata": {},
   "outputs": [
    {
     "name": "stdout",
     "output_type": "stream",
     "text": [
      "Fe4 P4 O16\n",
      "Li4 Fe4 P4 O16\n"
     ]
    }
   ],
   "source": [
    "print(s1.composition)\n",
    "print(s2.composition)"
   ]
  },
  {
   "cell_type": "markdown",
   "id": "127e8e2d-bbe5-4fa2-bd7e-0cb725717268",
   "metadata": {
    "tags": []
   },
   "source": [
    "### Structure Matcher"
   ]
  },
  {
   "cell_type": "code",
   "execution_count": 5,
   "id": "b9b2fc1a-3951-461d-a5bb-ebc63a41553c",
   "metadata": {},
   "outputs": [],
   "source": [
    "from pymatgen.analysis.structure_matcher import StructureMatcher"
   ]
  },
  {
   "cell_type": "code",
   "execution_count": 6,
   "id": "08e4a2ec-d51d-4fed-abdf-4b149aa1dde3",
   "metadata": {},
   "outputs": [],
   "source": [
    "sm = StructureMatcher()"
   ]
  },
  {
   "cell_type": "code",
   "execution_count": 7,
   "id": "9ee38d1f-b2bb-42ab-aaf1-fde8e2fc8fe6",
   "metadata": {},
   "outputs": [
    {
     "data": {
      "text/plain": [
       "True"
      ]
     },
     "execution_count": 7,
     "metadata": {},
     "output_type": "execute_result"
    }
   ],
   "source": [
    "sm.fit(s1,s1)"
   ]
  },
  {
   "cell_type": "code",
   "execution_count": 8,
   "id": "9d4ed0e4-77bb-4b7c-9438-54f54f46101d",
   "metadata": {},
   "outputs": [],
   "source": [
    "# will return None if provided structures do not have the same number of sites, False only returned if number of sites match\n",
    "sm.fit(s1,s2)"
   ]
  },
  {
   "cell_type": "code",
   "execution_count": 9,
   "id": "56a47698-d356-41fd-bdd7-b5875545b228",
   "metadata": {},
   "outputs": [],
   "source": [
    "sm_woli = StructureMatcher(ignored_species=[Element(\"Li\")])"
   ]
  },
  {
   "cell_type": "code",
   "execution_count": 10,
   "id": "e5c1fd37-e459-4aa4-a8c2-5aa38bcef6fa",
   "metadata": {},
   "outputs": [
    {
     "data": {
      "text/plain": [
       "True"
      ]
     },
     "execution_count": 10,
     "metadata": {},
     "output_type": "execute_result"
    }
   ],
   "source": [
    "sm_woli.fit(s1,s2)"
   ]
  },
  {
   "cell_type": "code",
   "execution_count": 11,
   "id": "322710d0-b4e7-4580-b296-310c2270b373",
   "metadata": {},
   "outputs": [
    {
     "name": "stdout",
     "output_type": "stream",
     "text": [
      "2\n"
     ]
    }
   ],
   "source": [
    "grouped_structs = sm.group_structures([s1,s1,s2,s1])\n",
    "print(len(grouped_structs))"
   ]
  },
  {
   "cell_type": "markdown",
   "id": "4e0bbde5-7dff-4d05-8ee5-57d33d195133",
   "metadata": {
    "tags": []
   },
   "source": [
    "### CrystalNN\n",
    "\n",
    "Analyzes the coordination for a single site specified by the user"
   ]
  },
  {
   "cell_type": "code",
   "execution_count": 12,
   "id": "7bc0543c-8af6-40eb-a1b4-fa3954490b9a",
   "metadata": {},
   "outputs": [],
   "source": [
    "from pymatgen.analysis.local_env import CrystalNN"
   ]
  },
  {
   "cell_type": "code",
   "execution_count": 13,
   "id": "b94a6c6e-08ea-42c4-a882-33b7f4c57b74",
   "metadata": {},
   "outputs": [],
   "source": [
    "cnn = CrystalNN()"
   ]
  },
  {
   "cell_type": "code",
   "execution_count": 14,
   "id": "aed08408-9379-4944-89d5-b1913ab28376",
   "metadata": {},
   "outputs": [
    {
     "name": "stderr",
     "output_type": "stream",
     "text": [
      "/global/homes/a/acrutt/.conda/envs/cms/lib/python3.8/site-packages/pymatgen/analysis/local_env.py:4137: UserWarning: No oxidation states specified on sites! For better results, set the site oxidation states in the structure.\n",
      "  warnings.warn(\n",
      "/global/homes/a/acrutt/.conda/envs/cms/lib/python3.8/site-packages/pymatgen/analysis/local_env.py:3940: UserWarning: CrystalNN: cannot locate an appropriate radius, covalent or atomic radii will be used, this can lead to non-optimal results.\n",
      "  warnings.warn(\n"
     ]
    },
    {
     "data": {
      "text/plain": [
       "6"
      ]
     },
     "execution_count": 14,
     "metadata": {},
     "output_type": "execute_result"
    }
   ],
   "source": [
    "cnn.get_cn(s2,0)"
   ]
  },
  {
   "cell_type": "code",
   "execution_count": 15,
   "id": "f7c0dd0b-13ea-4d02-853e-4c1c7992a007",
   "metadata": {},
   "outputs": [
    {
     "data": {
      "text/plain": [
       "{'hexagonal planar': 0.164617403761537,\n",
       " 'octahedral': 0.743883891668781,\n",
       " 'pentagonal pyramidal': 0.37622166064529555}"
      ]
     },
     "execution_count": 15,
     "metadata": {},
     "output_type": "execute_result"
    }
   ],
   "source": [
    "cnn.get_local_order_parameters(s2,0)"
   ]
  },
  {
   "cell_type": "code",
   "execution_count": 16,
   "id": "e57ddebb-b9e9-46b9-bce4-5b461b6fa58a",
   "metadata": {},
   "outputs": [
    {
     "data": {
      "text/plain": [
       "[PeriodicSite: O (-0.4482, 1.5226, 1.3909) [0.2930, -0.0429, 0.2500],\n",
       " PeriodicSite: O (0.4484, -1.5225, -1.3915) [-0.2932, 0.0429, -0.2500],\n",
       " PeriodicSite: O (1.0103, 1.5226, -1.2252) [-0.2581, 0.0967, 0.2500],\n",
       " PeriodicSite: O (-1.0106, -1.5226, 1.2249) [0.2581, -0.0968, -0.2500],\n",
       " PeriodicSite: O (-1.7281, -0.2865, -1.3504) [-0.2845, -0.1655, -0.0470],\n",
       " PeriodicSite: O (1.7284, 0.2865, 1.3504) [0.2845, 0.1655, 0.0470]]"
      ]
     },
     "execution_count": 16,
     "metadata": {},
     "output_type": "execute_result"
    }
   ],
   "source": [
    "cnn.get_nn(s2,0)"
   ]
  },
  {
   "cell_type": "markdown",
   "id": "c9315d77-d39c-44e2-b2b2-c734f8e8a21b",
   "metadata": {},
   "source": [
    "### ChemEnv\n",
    "Analyzes the coordination for all sites corresponding to the specified element"
   ]
  },
  {
   "cell_type": "code",
   "execution_count": 17,
   "id": "6a724c84-855f-4882-a7a4-aeaefea5bd63",
   "metadata": {},
   "outputs": [],
   "source": [
    "from pymatgen.analysis.chemenv.coordination_environments.coordination_geometry_finder import LocalGeometryFinder\n",
    "from pymatgen.analysis.chemenv.coordination_environments.chemenv_strategies import SimplestChemenvStrategy, MultiWeightsChemenvStrategy\n",
    "from pymatgen.analysis.chemenv.coordination_environments.structure_environments import LightStructureEnvironments"
   ]
  },
  {
   "cell_type": "code",
   "execution_count": 18,
   "id": "da4c2838-ea95-4dac-8580-72a80f135c3c",
   "metadata": {},
   "outputs": [
    {
     "name": "stdout",
     "output_type": "stream",
     "text": [
      "\n",
      "If you use the ChemEnv tool for your research, please consider citing the following reference(s) :\n",
      "==================================================================================================\n",
      "David Waroquiers, Xavier Gonze, Gian-Marco Rignanese, Cathrin Welker-Nieuwoudt, Frank Rosowski,\n",
      "Michael Goebel, Stephan Schenk, Peter Degelmann, Rute Andre, Robert Glaum, and Geoffroy Hautier,\n",
      "\"Statistical analysis of coordination environments in oxides\",\n",
      "Chem. Mater., 2017, 29 (19), pp 8346-8360,\n",
      "DOI: 10.1021/acs.chemmater.7b02766\n",
      "\n"
     ]
    }
   ],
   "source": [
    "lgf = LocalGeometryFinder()"
   ]
  },
  {
   "cell_type": "code",
   "execution_count": 19,
   "id": "a0047856-6019-40fb-8662-c3329ea0939e",
   "metadata": {},
   "outputs": [],
   "source": [
    "lgf.setup_structure(structure=s2)"
   ]
  },
  {
   "cell_type": "code",
   "execution_count": 20,
   "id": "635074f0-9478-4347-a04a-20d7d92b9f95",
   "metadata": {},
   "outputs": [],
   "source": [
    "se = lgf.compute_structure_environments(maximum_distance_factor=1.5, \n",
    "                                        only_atoms=[\"Li\"], # must identify specie interested in\n",
    "                                        max_cn=8, \n",
    "                                        min_cn=2, \n",
    "                                        minimum_angle_factor=0.05)"
   ]
  },
  {
   "cell_type": "code",
   "execution_count": 21,
   "id": "dc92b14b-fa36-4f3f-9b9b-e6d7810ce2d2",
   "metadata": {},
   "outputs": [
    {
     "data": {
      "text/plain": [
       "[[{'ce_symbol': 'O:6',\n",
       "   'ce_fraction': 1.0,\n",
       "   'csm': 2.1010416039777606,\n",
       "   'permutation': [0, 5, 4, 1, 3, 2]}],\n",
       " [{'ce_symbol': 'O:6',\n",
       "   'ce_fraction': 1.0,\n",
       "   'csm': 2.1012978449464805,\n",
       "   'permutation': [1, 4, 5, 0, 3, 2]}],\n",
       " [{'ce_symbol': 'O:6',\n",
       "   'ce_fraction': 1.0,\n",
       "   'csm': 2.1010210124128483,\n",
       "   'permutation': [5, 4, 3, 2, 1, 0]}],\n",
       " [{'ce_symbol': 'O:6',\n",
       "   'ce_fraction': 1.0,\n",
       "   'csm': 2.1010261009944227,\n",
       "   'permutation': [4, 2, 3, 1, 0, 5]}],\n",
       " None,\n",
       " None,\n",
       " None,\n",
       " None,\n",
       " None,\n",
       " None,\n",
       " None,\n",
       " None,\n",
       " None,\n",
       " None,\n",
       " None,\n",
       " None,\n",
       " None,\n",
       " None,\n",
       " None,\n",
       " None,\n",
       " None,\n",
       " None,\n",
       " None,\n",
       " None,\n",
       " None,\n",
       " None,\n",
       " None,\n",
       " None]"
      ]
     },
     "execution_count": 21,
     "metadata": {},
     "output_type": "execute_result"
    }
   ],
   "source": [
    "strategy = SimplestChemenvStrategy(distance_cutoff=1.5, angle_cutoff=0.3)\n",
    "lse = LightStructureEnvironments.from_structure_environments(strategy=strategy, structure_environments=se)\n",
    "lse.coordination_environments"
   ]
  },
  {
   "cell_type": "code",
   "execution_count": 22,
   "id": "4952838e-61dd-41d7-b394-fabf964f8c86",
   "metadata": {},
   "outputs": [
    {
     "data": {
      "text/plain": [
       "[[{'ce_symbol': 'O:6',\n",
       "   'ce_fraction': 1.0,\n",
       "   'csm': 2.1010416039777606,\n",
       "   'permutation': [0, 5, 4, 1, 3, 2]}],\n",
       " [{'ce_symbol': 'O:6',\n",
       "   'ce_fraction': 1.0,\n",
       "   'csm': 2.1012978449464805,\n",
       "   'permutation': [1, 4, 5, 0, 3, 2]}],\n",
       " [{'ce_symbol': 'O:6',\n",
       "   'ce_fraction': 1.0,\n",
       "   'csm': 2.1010210124128483,\n",
       "   'permutation': [5, 4, 3, 2, 1, 0]}],\n",
       " [{'ce_symbol': 'O:6',\n",
       "   'ce_fraction': 1.0,\n",
       "   'csm': 2.1010261009944227,\n",
       "   'permutation': [4, 2, 3, 1, 0, 5]}],\n",
       " None,\n",
       " None,\n",
       " None,\n",
       " None,\n",
       " None,\n",
       " None,\n",
       " None,\n",
       " None,\n",
       " None,\n",
       " None,\n",
       " None,\n",
       " None,\n",
       " None,\n",
       " None,\n",
       " None,\n",
       " None,\n",
       " None,\n",
       " None,\n",
       " None,\n",
       " None,\n",
       " None,\n",
       " None,\n",
       " None,\n",
       " None]"
      ]
     },
     "execution_count": 22,
     "metadata": {},
     "output_type": "execute_result"
    }
   ],
   "source": [
    "multi_strategy = MultiWeightsChemenvStrategy.stats_article_weights_parameters()\n",
    "multi_lse = LightStructureEnvironments.from_structure_environments(strategy=multi_strategy, structure_environments=se)\n",
    "multi_lse.coordination_environments"
   ]
  },
  {
   "cell_type": "markdown",
   "id": "7a85a75d-b55a-4e50-a2ac-2363c79c25b4",
   "metadata": {},
   "source": [
    "### Site Volume"
   ]
  },
  {
   "cell_type": "code",
   "execution_count": 23,
   "id": "6389e442-11ac-43c9-9500-420535b87c74",
   "metadata": {},
   "outputs": [],
   "source": [
    "from pymatgen.analysis.local_env import VoronoiNN"
   ]
  },
  {
   "cell_type": "code",
   "execution_count": 24,
   "id": "931c37a9-8f6d-446b-af1d-fc0e7b6f56a3",
   "metadata": {},
   "outputs": [],
   "source": [
    "vnn = VoronoiNN()"
   ]
  },
  {
   "cell_type": "code",
   "execution_count": 25,
   "id": "2f1a301f-29b6-4ef1-b0db-66aaf823d91f",
   "metadata": {},
   "outputs": [
    {
     "name": "stdout",
     "output_type": "stream",
     "text": [
      "20 0.09969843080414519\n",
      "17 0.031785553911123754\n",
      "9 0.15887804556992208\n",
      "3 1.7062376245790218\n",
      "7 0.016473853236948638\n",
      "4 1.706434011825301\n",
      "1 1.6848895746369061\n",
      "19 0.09957777968030611\n",
      "6 1.7287521232581515\n",
      "10 0.1591181332141011\n",
      "2 1.6851011882198987\n",
      "18 0.0317683658142357\n",
      "5 1.728243940455113\n",
      "8 0.016280256693184354\n"
     ]
    }
   ],
   "source": [
    "for n,d in vnn.get_voronoi_polyhedra(s2,0).items():\n",
    "    print(n,d[\"volume\"])"
   ]
  },
  {
   "cell_type": "code",
   "execution_count": 26,
   "id": "8c9fa150-a9eb-42bd-b554-eccb000e13d4",
   "metadata": {},
   "outputs": [
    {
     "data": {
      "text/plain": [
       "10.853238881898358"
      ]
     },
     "execution_count": 26,
     "metadata": {},
     "output_type": "execute_result"
    }
   ],
   "source": [
    "# sum to get total volume associated with specified site\n",
    "sum([d[\"volume\"] for d in vnn.get_voronoi_polyhedra(s2,0).values()])"
   ]
  },
  {
   "cell_type": "markdown",
   "id": "1d1c07a5-c00a-494b-a000-8b2bff801cf7",
   "metadata": {
    "tags": []
   },
   "source": [
    "# Onboarding Independent Exercises\n",
    "\n",
    "Use the following 5 structures for these exercises: `mp-25275`, `mp-22584`, `mp-677217`, `mp-1045420`, `mp-1443666`\n",
    "\n",
    "1. Identify the working ion in each material (e.g. Li, Na, Mg, Ca, etc.)\n",
    "\n",
    "2. How many distict structures (including working ions) are present? What are the mp_ids of any materials with the same structure (if any)? (hint: try the `anonymous` key word argument or `fit_anonymous` method of structure matcher)\n",
    "\n",
    "3. How many distict host structures (ignoring working ions) are there?\n",
    "\n",
    "4. Using CrystalNN, what is the most likely local order parameter for the working ion sites in `mp-1045420` and `mp-1443666`?\n",
    "\n",
    "5. Using CrystalNN how does the coordination of the working ion compare between `mp-22584` and `mp-1443666`?\n",
    "\n",
    "6. How does the working ion site volume compare between `mp-22584` and `mp-1443666`?\n",
    "\n",
    "7. How does the working ion site volume compare between `mp-1045420` and `mp-1443666`?\n",
    "\n",
    "8. Pick one structure to verify that the total volume of the structure matches the sum of the individual site volumes\n",
    "\n",
    "**Bonus:** What insights can we draw from our results from answering #4-7?"
   ]
  },
  {
   "cell_type": "markdown",
   "id": "9d25a9fe-e869-4cb2-8d1e-3d2d057213ec",
   "metadata": {},
   "source": [
    "**Structure/mp_id Key:**\n",
    "\n",
    "* olivine FePO4: mp-20361\n",
    "* Li in olivine FePO4: mp-19017\n",
    "* spinel MnO2: mp-25275\n",
    "* Li in spinel Mn2O4: mp-22584\n",
    "* Mg in chevrel Mo6S8: mp-677217\n",
    "* oct Mg in spinel Ti2S4: mp-1045420\n",
    "* tet Mg in spinel Ti2S4: mp-1443666\n",
    "* hollandite MnO2: mp-19395\n",
    "* birnessite MnO2: mp-25424"
   ]
  },
  {
   "cell_type": "markdown",
   "id": "52f3e230-3c00-48d4-b091-838d3efd27d3",
   "metadata": {},
   "source": [
    "### 1. Identify the working ion in each material (e.g. Li, Na, Mg, Ca, etc.)"
   ]
  },
  {
   "cell_type": "code",
   "execution_count": 27,
   "id": "fda0f2a3-9d22-485c-a73b-40b235625de4",
   "metadata": {},
   "outputs": [
    {
     "name": "stderr",
     "output_type": "stream",
     "text": [
      "/global/homes/a/acrutt/.conda/envs/cms/lib/python3.8/site-packages/pymatgen/ext/matproj.py:685: UserWarning: The calculation task mp-1045420 is mapped to canonical mp-id mvc-16768, so structure for mvc-16768 returned. This is not an error, see documentation. If original task data for mp-1045420 is required, use get_task_data(). To find the canonical mp-id from a task id use get_materials_id_from_task_id().\n",
      "  warnings.warn(\n",
      "/global/homes/a/acrutt/.conda/envs/cms/lib/python3.8/site-packages/pymatgen/ext/matproj.py:685: UserWarning: The calculation task mp-1443666 is mapped to canonical mp-id mvc-27, so structure for mvc-27 returned. This is not an error, see documentation. If original task data for mp-1443666 is required, use get_task_data(). To find the canonical mp-id from a task id use get_materials_id_from_task_id().\n",
      "  warnings.warn(\n"
     ]
    }
   ],
   "source": [
    "mp_ids = [\"mp-25275\", \"mp-22584\", \"mp-677217\", \"mp-1045420\", \"mp-1443666\"]\n",
    "structs = []\n",
    "for mp_id in mp_ids:\n",
    "    structs.append(mpr.get_structure_by_material_id(mp_id))"
   ]
  },
  {
   "cell_type": "code",
   "execution_count": 28,
   "id": "6c6a3cba-ee32-44a8-9ad7-0442c334d749",
   "metadata": {},
   "outputs": [
    {
     "name": "stdout",
     "output_type": "stream",
     "text": [
      "mp-25275 Mn4 O8\n",
      "mp-22584 Li2 Mn4 O8\n",
      "mp-677217 Mg2 Mo6 S8\n",
      "mp-1045420 Mg2 Ti4 S8\n",
      "mp-1443666 Mg2 Ti4 S8\n"
     ]
    }
   ],
   "source": [
    "for mp_id,struct in zip(mp_ids,structs):\n",
    "    print(mp_id,struct.composition)"
   ]
  },
  {
   "cell_type": "raw",
   "id": "0410e6e0-722d-48f4-8bf0-380ec0759d29",
   "metadata": {},
   "source": [
    "no working ion, Li, Mg, Mg, Mg"
   ]
  },
  {
   "cell_type": "markdown",
   "id": "e20d3e4f-192f-4255-9207-4d49656bf209",
   "metadata": {
    "tags": []
   },
   "source": [
    "### 2. How many distict structures (including working ions) are present? What are the mp_ids of any materials with the same structure (if any)? (hint: try the `anonymous` key word argument or `fit_anonymous` method of structure matcher)"
   ]
  },
  {
   "cell_type": "code",
   "execution_count": 29,
   "id": "cffcbb8d-a9c4-458b-b8b3-da4f5a1a2814",
   "metadata": {},
   "outputs": [
    {
     "name": "stdout",
     "output_type": "stream",
     "text": [
      "4\n"
     ]
    }
   ],
   "source": [
    "grouped_structs = sm.group_structures(structs,anonymous=True)\n",
    "print(len(grouped_structs))"
   ]
  },
  {
   "cell_type": "code",
   "execution_count": 30,
   "id": "4dddeaab-ffa1-4be7-9815-930240f1e2d3",
   "metadata": {},
   "outputs": [
    {
     "name": "stdout",
     "output_type": "stream",
     "text": [
      "mp-25275\n",
      "\n",
      "mp-22584\n",
      "mp-1443666\n",
      "\n",
      "mp-1045420\n",
      "\n",
      "mp-677217\n",
      "\n"
     ]
    }
   ],
   "source": [
    "for group in grouped_structs:\n",
    "    for mp_id,struct in zip(mp_ids,structs):\n",
    "        if sm.fit_anonymous(group[0],struct):\n",
    "            print(mp_id)\n",
    "    print()"
   ]
  },
  {
   "cell_type": "markdown",
   "id": "0c732f0d-0ffc-467e-96e7-58122fdb6eeb",
   "metadata": {},
   "source": [
    "### 3. How many distict host structures (ignoring working ions) are there?"
   ]
  },
  {
   "cell_type": "code",
   "execution_count": 31,
   "id": "17b9c2b4-f5f1-4117-8b59-99a0db3afe13",
   "metadata": {},
   "outputs": [],
   "source": [
    "sm_wowi = StructureMatcher(ignored_species=[Element(\"Li\"),Element(\"Mg\")])"
   ]
  },
  {
   "cell_type": "code",
   "execution_count": 32,
   "id": "ef212223-0bba-4e06-af8c-bea040b23875",
   "metadata": {},
   "outputs": [
    {
     "name": "stdout",
     "output_type": "stream",
     "text": [
      "2\n"
     ]
    }
   ],
   "source": [
    "print(len(sm_wowi.group_structures(structs,anonymous=True)))"
   ]
  },
  {
   "cell_type": "markdown",
   "id": "b9468414-3378-4113-b18d-1b83c9a0ebc8",
   "metadata": {},
   "source": [
    "### 4. Using CrystalNN, what is the most likely local order parameter for the working ion sites in `mp-1045420` and `mp-1443666`?"
   ]
  },
  {
   "cell_type": "code",
   "execution_count": 33,
   "id": "7628b937-0df4-4012-8c70-84b21831c18c",
   "metadata": {},
   "outputs": [],
   "source": [
    "from pprint import pprint"
   ]
  },
  {
   "cell_type": "code",
   "execution_count": 34,
   "id": "c5067c3a-1f9e-45ea-be52-061ec92f1bcb",
   "metadata": {},
   "outputs": [
    {
     "name": "stdout",
     "output_type": "stream",
     "text": [
      "mp-1045420 Full Formula (Mg2 Ti4 S8)\n",
      "Reduced Formula: Mg(TiS2)2\n",
      "abc   :   7.089700   7.089700   7.089700\n",
      "angles: 119.626584 119.588733  90.680912\n",
      "Sites (14)\n",
      "  #  SP           a         b         c    magmom\n",
      "---  ----  --------  --------  --------  --------\n",
      "  0  Mg    0.5       0.5       0           -0\n",
      "  1  Mg    0         0.5       0.5         -0\n",
      "  2  Ti    0         0.5       0           -0.005\n",
      "  3  Ti    0.5       0         0.5         -0.006\n",
      "  4  Ti    0         0         0.5         -0.005\n",
      "  5  Ti    0         0         0           -0.006\n",
      "  6  S     0.760971  0.753127  0.007844     0\n",
      "  7  S     0.250514  0.756215  0.0057      -0\n",
      "  8  S     0.245282  0.753127  0.492156     0\n",
      "  9  S     0.749486  0.755186  0.5057      -0\n",
      " 10  S     0.754718  0.246873  0.507844     0\n",
      " 11  S     0.749486  0.243785  0.9943      -0\n",
      " 12  S     0.250514  0.244814  0.4943      -0\n",
      " 13  S     0.239029  0.246873  0.992156     0\n",
      "{'hexagonal planar': 0.0001733216199670461,\n",
      " 'octahedral': 0.9960356244346299,\n",
      " 'pentagonal pyramidal': 0.4991218747777355}\n",
      "\n",
      "mp-1443666 Full Formula (Mg2 Ti4 S8)\n",
      "Reduced Formula: Mg(TiS2)2\n",
      "abc   :   7.324462   7.324462   7.324462\n",
      "angles:  60.000000  60.000000  60.000000\n",
      "Sites (14)\n",
      "  #  SP           a         b         c    magmom\n",
      "---  ----  --------  --------  --------  --------\n",
      "  0  Mg    0.5       0.5       0.5         -0.002\n",
      "  1  Mg    0.75      0.75      0.75        -0.002\n",
      "  2  Ti    0.125     0.125     0.125       -0.06\n",
      "  3  Ti    0.625     0.125     0.125       -0.067\n",
      "  4  Ti    0.125     0.625     0.125       -0.052\n",
      "  5  Ti    0.125     0.125     0.625       -0.04\n",
      "  6  S     0.365725  0.365725  0.365725     0.001\n",
      "  7  S     0.347175  0.884275  0.884275    -0\n",
      "  8  S     0.884275  0.884275  0.347175     0\n",
      "  9  S     0.884275  0.347175  0.884275    -0\n",
      " 10  S     0.365725  0.365725  0.902825     0\n",
      " 11  S     0.365725  0.902825  0.365725    -0\n",
      " 12  S     0.884275  0.884275  0.884275     0.001\n",
      " 13  S     0.902825  0.365725  0.365725    -0\n",
      "{'rectangular see-saw-like': 0.007024564547697847,\n",
      " 'see-saw-like': 0.23425358997830803,\n",
      " 'square co-planar': 0.07996807066636828,\n",
      " 'tetrahedral': 1.0,\n",
      " 'trigonal pyramidal': 0.24520956460337703}\n",
      "\n"
     ]
    }
   ],
   "source": [
    "for mp_id,struct in zip(mp_ids,structs):\n",
    "    if mp_id in [\"mp-1045420\",\"mp-1443666\"]:\n",
    "        print(mp_id,struct)\n",
    "        d = cnn.get_local_order_parameters(struct,0) # just print the first site in structure\n",
    "        pprint(d)\n",
    "        print()"
   ]
  },
  {
   "cell_type": "code",
   "execution_count": 35,
   "id": "f74b706c-6b50-4fcd-a02f-2fd8e782eb24",
   "metadata": {},
   "outputs": [
    {
     "name": "stdout",
     "output_type": "stream",
     "text": [
      "mp-1045420 Mg2 Ti4 S8\n",
      "octahedral 0.9960356244346299\n",
      "octahedral 0.9960350041234826\n",
      "\n",
      "mp-1443666 Mg2 Ti4 S8\n",
      "tetrahedral 1.0\n",
      "tetrahedral 1.0\n",
      "\n"
     ]
    }
   ],
   "source": [
    "for mp_id,struct in zip(mp_ids,structs):\n",
    "    if mp_id in [\"mp-1045420\",\"mp-1443666\"]:\n",
    "        print(mp_id,struct.composition)\n",
    "        for n,s in enumerate(struct):\n",
    "            if str(s.specie) in [\"Li\",\"Mg\"]:\n",
    "                d = cnn.get_local_order_parameters(struct,n)\n",
    "                for k,v in d.items():\n",
    "                    if v == max(d.values()):\n",
    "                        print(k,v)\n",
    "        print()"
   ]
  },
  {
   "cell_type": "markdown",
   "id": "009403b8-f42b-4b04-ad27-a633b29cf13b",
   "metadata": {
    "tags": []
   },
   "source": [
    "### 5. Using CrystalNN how does the coordination of the working ion compare between `mp-22584` and `mp-1443666`?"
   ]
  },
  {
   "cell_type": "code",
   "execution_count": 36,
   "id": "25afc2d3-24b1-42e8-b71d-cbc2b66d2e5b",
   "metadata": {},
   "outputs": [
    {
     "name": "stdout",
     "output_type": "stream",
     "text": [
      "mp-22584 Li2 Mn4 O8\n",
      "4 [4.211237 4.211237 4.211237] Li\n",
      "4 [6.3168555 6.3168555 6.3168555] Li\n",
      "\n",
      "mp-1443666 Mg2 Ti4 S8\n",
      "4 [5.179177 5.179177 5.179177] Mg\n",
      "4 [7.7687655 7.7687655 7.7687655] Mg\n",
      "\n"
     ]
    }
   ],
   "source": [
    "for mp_id,struct in zip(mp_ids,structs):\n",
    "    if mp_id in [\"mp-22584\",\"mp-1443666\"]:\n",
    "        print(mp_id,struct.composition)\n",
    "        for n,s in enumerate(struct):\n",
    "            if str(s.specie) in [\"Li\",\"Mg\"]:\n",
    "                print(cnn.get_cn(struct,n),s)\n",
    "        print()"
   ]
  },
  {
   "cell_type": "markdown",
   "id": "21143b4f-b393-42b9-a8ba-3bc4d61e607f",
   "metadata": {},
   "source": [
    "### 6. How does the working ion site volume compare between `mp-22584` and `mp-1443666`?"
   ]
  },
  {
   "cell_type": "code",
   "execution_count": 37,
   "id": "10c50461-5c2d-4f58-8b6d-cdd811093533",
   "metadata": {},
   "outputs": [
    {
     "name": "stdout",
     "output_type": "stream",
     "text": [
      "mp-22584 Li2 Mn4 O8\n",
      "12.476338046309975 [4.211237 4.211237 4.211237] Li\n",
      "12.476338046309973 [6.3168555 6.3168555 6.3168555] Li\n",
      "\n",
      "mp-1443666 Mg2 Ti4 S8\n",
      "21.69680035777642 [5.179177 5.179177 5.179177] Mg\n",
      "21.696800357776436 [7.7687655 7.7687655 7.7687655] Mg\n",
      "\n"
     ]
    }
   ],
   "source": [
    "for mp_id,struct in zip(mp_ids,structs):\n",
    "    if mp_id in [\"mp-22584\",\"mp-1443666\"]:\n",
    "        print(mp_id,struct.composition)\n",
    "        for n,s in enumerate(struct):\n",
    "            if str(s.specie) in [\"Li\",\"Mg\"]:\n",
    "                print(sum([d[\"volume\"] for d in vnn.get_voronoi_polyhedra(struct,n).values()]),s)\n",
    "        print()"
   ]
  },
  {
   "cell_type": "markdown",
   "id": "eda632fe-5483-4270-beb1-74ea3f123825",
   "metadata": {},
   "source": [
    "### 7. How does the working ion site volume compare between `mp-1045420` and `mp-1443666`?"
   ]
  },
  {
   "cell_type": "code",
   "execution_count": 38,
   "id": "74f927a7-f4b3-4701-b737-1e15b8e928bf",
   "metadata": {},
   "outputs": [
    {
     "name": "stdout",
     "output_type": "stream",
     "text": [
      "mp-1045420 Mg2 Ti4 S8\n",
      "16.41108952850107 [0.       0.       4.983298] Mg\n",
      "16.411027409606447 [3.564839 0.       0.      ] Mg\n",
      "\n",
      "mp-1443666 Mg2 Ti4 S8\n",
      "21.69680035777642 [5.179177 5.179177 5.179177] Mg\n",
      "21.696800357776436 [7.7687655 7.7687655 7.7687655] Mg\n",
      "\n"
     ]
    }
   ],
   "source": [
    "for mp_id,struct in zip(mp_ids,structs):\n",
    "    if mp_id in [\"mp-1045420\",\"mp-1443666\"]:\n",
    "        print(mp_id,struct.composition)\n",
    "        for n,s in enumerate(struct):\n",
    "            if str(s.specie) in [\"Li\",\"Mg\"]:\n",
    "                print(sum([d[\"volume\"] for d in vnn.get_voronoi_polyhedra(struct,n).values()]),s)\n",
    "        print()"
   ]
  },
  {
   "cell_type": "markdown",
   "id": "537746b6-043e-48dd-89dc-5905beba4a40",
   "metadata": {},
   "source": [
    "### 8. Pick one structure to verify that the total volume of the structure matches the sum of the individual site volumes"
   ]
  },
  {
   "cell_type": "code",
   "execution_count": 39,
   "id": "94a9c003-8fd8-43ac-b761-50093d52a77b",
   "metadata": {},
   "outputs": [
    {
     "name": "stdout",
     "output_type": "stream",
     "text": [
      "139.8945617779943\n"
     ]
    }
   ],
   "source": [
    "struct = structs[0]\n",
    "print(struct.volume)"
   ]
  },
  {
   "cell_type": "code",
   "execution_count": 40,
   "id": "340dcb4f-f184-4ffd-a776-3ad5610ab074",
   "metadata": {},
   "outputs": [
    {
     "name": "stdout",
     "output_type": "stream",
     "text": [
      "139.89456177799434\n"
     ]
    }
   ],
   "source": [
    "vol = 0\n",
    "for n,s in enumerate(struct):\n",
    "    vol += sum([d[\"volume\"] for d in vnn.get_voronoi_polyhedra(struct,n).values()])\n",
    "print(vol)"
   ]
  },
  {
   "cell_type": "markdown",
   "id": "6a430a15-e541-4962-bb5b-8af2ac5d5ddf",
   "metadata": {
    "tags": []
   },
   "source": [
    "### **Bonus:** What insights can we draw from our results from answering #4-7?"
   ]
  },
  {
   "cell_type": "raw",
   "id": "2384cb31-3f82-4cc0-a01c-1715cc1694a5",
   "metadata": {},
   "source": [
    "From #4 and #7 we can compare the volume of a tetrahedral site and octahedral site for Mg in spinel Ti2S4.\n",
    "tet: 22 A^3 vs. oct: 16 A^3\n",
    "The tetrahedral site has a larger volume than the octahedral site."
   ]
  },
  {
   "cell_type": "raw",
   "id": "bd2834b8-6e52-474a-bbfc-94c31e8acbc7",
   "metadata": {},
   "source": [
    "From #5 and #6 we can compare the volume of tetrahedral sites for Li in spinel Mn2O4 vs. spinel Ti2S4.\n",
    "Li in spinel Mn2O4: 12 A^3 vs. Mg in spinel Ti2S4: 22 A^3\n",
    "The tetrahedral site has a larger volume in spinel Ti2S4 compared to spinel Mn2O4"
   ]
  }
 ],
 "metadata": {
  "kernelspec": {
   "display_name": "Python 3 (ipykernel)",
   "language": "python",
   "name": "python3"
  },
  "language_info": {
   "codemirror_mode": {
    "name": "ipython",
    "version": 3
   },
   "file_extension": ".py",
   "mimetype": "text/x-python",
   "name": "python",
   "nbconvert_exporter": "python",
   "pygments_lexer": "ipython3",
   "version": "3.9.16"
  }
 },
 "nbformat": 4,
 "nbformat_minor": 5
}
