{
 "cells": [
  {
   "cell_type": "markdown",
   "id": "0c100ea5-f0ae-44bf-acc8-bbc7a902559e",
   "metadata": {},
   "source": [
    "# Joint Undergraduate Researcher Onboarding #4\n",
    "**Topic:** 1. Introduction to MongoDB 2. Read and save date to a local databse\n",
    "\n",
    "**Date:** March 30, 2022\n",
    "\n",
    "**Prepared by:** Qian Chen"
   ]
  },
  {
   "cell_type": "markdown",
   "id": "713074da-4281-43d6-975c-e4375f32b7f7",
   "metadata": {},
   "source": [
    "# Outline\n",
    "* Introduction to MongoDB\n",
    "* Install MongoDB\n",
    "* Connect and save data in the local database and look at the database in Robo 3T"
   ]
  },
  {
   "cell_type": "markdown",
   "id": "2848fadd-e9db-4149-84b9-0b521e8165c3",
   "metadata": {},
   "source": [
    "# Further reading"
   ]
  },
  {
   "cell_type": "markdown",
   "id": "950309ad-7a81-4a83-ace1-935b943a2a68",
   "metadata": {},
   "source": [
    "- MongoDB Documentation\n",
    "\n",
    "https://docs.mongodb.com/manual/?_ga=2.82372305.61423472.1647972132-534970261.1636954296\n",
    " \n",
    "\n",
    "- MongoDB Primer from the Materials Project Workshop\n",
    "\n",
    "https://workshop.materialsproject.org/primer/03_MongoDB_part1/lessons_filled/\n",
    "\n",
    "\n",
    "- More resources on MongoDB\n",
    "\n",
    "https://www.udacity.com/course/data-wrangling-with-mongodb--ud032\n",
    "\n",
    "https://university.mongodb.com/?tck=docs_landing&_ga=2.41979746.61423472.1647972132-534970261.1636954296\n",
    "\n",
    "\n",
    "- PyMongo Tutorial + Documentation (using python to write MongoDB databases)\n",
    "\n",
    "https://pymongo.readthedocs.io/en/stable/tutorial.html\n",
    "\n",
    "https://pymongo.readthedocs.io/en/stable/index.html"
   ]
  },
  {
   "cell_type": "markdown",
   "id": "2b08da09-e72e-4724-a585-008ad965e1f8",
   "metadata": {},
   "source": [
    "# Before the training"
   ]
  },
  {
   "cell_type": "markdown",
   "id": "ecb0748f-6453-4357-8f1d-3135833378f6",
   "metadata": {},
   "source": [
    "* Install Robo3T\n",
    "   * https://robomongo.org/download\n",
    "   * Select `Download Robo 3T` then fill the required fields with your email, name and `Install for Mac` \n",
    "\n",
    "* LBNL VPN\n",
    "    * Follow the instructions at https://commons.lbl.gov/display/itfaq/Install+Cisco+VPN+client#VPNinstall--768892145"
   ]
  },
  {
   "cell_type": "markdown",
   "id": "d8d730d2-d059-4109-9f4e-d83a6f4c7c9a",
   "metadata": {},
   "source": [
    "# 1. Introduction to MongoDB"
   ]
  },
  {
   "cell_type": "markdown",
   "id": "50204b7c-333f-4600-bc32-b07147a506f1",
   "metadata": {},
   "source": [
    "### MongoDB Structure"
   ]
  },
  {
   "cell_type": "code",
   "execution_count": 1,
   "id": "565d2fe5-dacf-4659-aa89-3e8551a8eae7",
   "metadata": {},
   "outputs": [
    {
     "data": {
      "text/html": [
       "<img src=\"https://studio3t.com/wp-content/uploads/2019/11/mongodb-data-hierarchy.png\"/>"
      ],
      "text/plain": [
       "<IPython.core.display.Image object>"
      ]
     },
     "execution_count": 1,
     "metadata": {},
     "output_type": "execute_result"
    }
   ],
   "source": [
    "from IPython.display import Image\n",
    "Image(url= \"https://studio3t.com/wp-content/uploads/2019/11/mongodb-data-hierarchy.png\")"
   ]
  },
  {
   "cell_type": "markdown",
   "id": "30cb8a94-ae4b-4979-9ee6-a7c7357d6e0a",
   "metadata": {
    "tags": []
   },
   "source": [
    "### Data Structure in MongoDB"
   ]
  },
  {
   "cell_type": "markdown",
   "id": "afe8144b-4fa6-4c8c-b58e-a0f9fa5b1d5c",
   "metadata": {},
   "source": [
    "object → {`field`: `value`, `field1`: `value1`, ...}\n",
    "\n",
    "\n",
    "fields: `string`\n",
    "\n",
    "\n",
    "values:  `string`, `int/double`, `true`, `false`, `null`, `array`, `object`, ...\n",
    "\n",
    "*example:*\n",
    "\n",
    "```\n",
    "{\n",
    "    name: Sue,\n",
    "    age: 28,\n",
    "    lawSpecialties: [copyright, tax],\n",
    "    canMeet:\n",
    "        { \n",
    "            mon: True,\n",
    "            tues: False,\n",
    "            wed: True,\n",
    "            thurs: True,\n",
    "            fri: False,\n",
    "        }    \n",
    "}\n",
    "```"
   ]
  },
  {
   "cell_type": "markdown",
   "id": "402878bc-ef82-484c-a5cf-66fe7147daa0",
   "metadata": {},
   "source": [
    "# 2. Install MongoDB"
   ]
  },
  {
   "cell_type": "markdown",
   "id": "8f4bca14-eb3a-471c-bfa0-88e5a33c2e9c",
   "metadata": {},
   "source": [
    "## Install homebrew if it's not installed on your computer\n",
    "\n",
    "- Check if it's installed `which brew`\n",
    "\n",
    "- Install homebrew\n",
    "    - Go to https://brew.sh/ in your web browser\n",
    "    - Copy and paste the command below Install Homebrew to your Terminal"
   ]
  },
  {
   "cell_type": "markdown",
   "id": "c63051a3-e882-4fd8-a1d3-b87a199c1ead",
   "metadata": {},
   "source": [
    "## Install Mongodb"
   ]
  },
  {
   "cell_type": "markdown",
   "id": "634c1d7d-d9a1-4f57-a711-15ba45d1527b",
   "metadata": {},
   "source": [
    "In Terminal:\n",
    "\n",
    "`brew tap mongodb/brew`\n",
    "\n",
    "`brew install mongodb-community`\n",
    "\n",
    "To start mongodb service:\n",
    "\n",
    "`brew services start mongodb-community`\n",
    "\n",
    "To stop mongodb service:\n",
    "\n",
    "`brew services stop mongodb-community `brew install mongodb-community"
   ]
  },
  {
   "cell_type": "markdown",
   "id": "f109cba6-38db-48d8-9760-25e8028e1531",
   "metadata": {},
   "source": [
    "## Install maggma"
   ]
  },
  {
   "cell_type": "markdown",
   "id": "02ab81c0-dc07-4a47-9ad9-9a0111e22faa",
   "metadata": {},
   "source": [
    "https://github.com/materialsproject/maggma"
   ]
  },
  {
   "cell_type": "markdown",
   "id": "04b64388-1b0e-4b33-a387-879a60519030",
   "metadata": {},
   "source": [
    "In terminal (with the conda enviorment activated): \n",
    "`pip install maggma`"
   ]
  },
  {
   "cell_type": "markdown",
   "id": "916277fe-9a9c-4084-b78f-5c3b523dab21",
   "metadata": {},
   "source": [
    "# 3. Connect to the local database"
   ]
  },
  {
   "cell_type": "code",
   "execution_count": 2,
   "id": "490c6cd3-ddb2-410e-b3f6-2608f2040eac",
   "metadata": {},
   "outputs": [],
   "source": [
    "from pprint import pprint\n",
    "from maggma.stores.mongolike import MongoStore"
   ]
  },
  {
   "cell_type": "markdown",
   "id": "8fefa57c-0af6-49d5-b876-ac13bd86421a",
   "metadata": {},
   "source": [
    "https://github.com/materialsproject/maggma/blob/790dde0b148bc3717e1176df9bd5ffebe87961ef/src/maggma/stores/mongolike.py#L109"
   ]
  },
  {
   "cell_type": "code",
   "execution_count": 3,
   "id": "40433748-2d66-4ae4-acc1-dc50ecdaf138",
   "metadata": {},
   "outputs": [],
   "source": [
    "my_collecion = MongoStore(database=\"my_database\",collection_name='my_collection')"
   ]
  },
  {
   "cell_type": "code",
   "execution_count": 3,
   "id": "10b27fea-d4b8-45c5-b35e-55104701fece",
   "metadata": {},
   "outputs": [],
   "source": [
    "my_collecion.connect()"
   ]
  },
  {
   "cell_type": "code",
   "execution_count": 4,
   "id": "a764f923-82d5-4147-a530-16c398396112",
   "metadata": {},
   "outputs": [
    {
     "name": "stdout",
     "output_type": "stream",
     "text": [
      "localhost\n"
     ]
    }
   ],
   "source": [
    "print(my_collecion.host)"
   ]
  },
  {
   "cell_type": "code",
   "execution_count": 5,
   "id": "4c41993e-28bf-481b-b6d5-a7979fff1a36",
   "metadata": {},
   "outputs": [],
   "source": [
    "# Remove all the documents in my_collection\n",
    "# Don't use it unless you are sure about it\n",
    "my_collecion.remove_docs({})"
   ]
  },
  {
   "cell_type": "code",
   "execution_count": 7,
   "id": "dad20c94-f721-4049-84ac-55b1d8e024c5",
   "metadata": {},
   "outputs": [
    {
     "name": "stdout",
     "output_type": "stream",
     "text": [
      "{'date': 'March 30',\n",
      " 'meeting_name': 'onboarding_meeting_3',\n",
      " 'people': {'instructors': ['Qian', 'Ann'],\n",
      "            'mentees': ['Alex', 'Aryan', 'Tasha']},\n",
      " 'sessions': [4, 5],\n",
      " 'year': 2022}\n"
     ]
    }
   ],
   "source": [
    "new_doc = {\n",
    "    'meeting_name':'onboarding_meeting_3',\n",
    "    'date': 'March 30',\n",
    "    'sessions' :[4,5],\n",
    "    'year': 2022,\n",
    "    'people': {\n",
    "        'mentees':['Alex','Aryan','Tasha'],\n",
    "        'instructors':['Qian','Ann']\n",
    "    }\n",
    "}\n",
    "pprint(new_doc)"
   ]
  },
  {
   "cell_type": "code",
   "execution_count": 8,
   "id": "6bd30784-8135-4181-a4a9-a18dda84b3af",
   "metadata": {},
   "outputs": [],
   "source": [
    "my_collecion.update(new_doc,key='meeting_name')"
   ]
  },
  {
   "cell_type": "code",
   "execution_count": 9,
   "id": "7d9be3cd-cfc2-4d6b-9916-d1e29a43f9e5",
   "metadata": {},
   "outputs": [
    {
     "data": {
      "text/plain": [
       "{'_id': ObjectId('62448d2b758c40ca2a87235f'),\n",
       " 'meeting_name': 'onboarding_meeting_3',\n",
       " 'date': 'March 30',\n",
       " 'sessions': [4, 5],\n",
       " 'year': 2022,\n",
       " 'people': {'mentees': ['Alex', 'Aryan', 'Tasha'],\n",
       "  'instructors': ['Qian', 'Ann']}}"
      ]
     },
     "execution_count": 9,
     "metadata": {},
     "output_type": "execute_result"
    }
   ],
   "source": [
    "my_collecion.query_one({})"
   ]
  },
  {
   "cell_type": "code",
   "execution_count": 10,
   "id": "849300a0-c431-4e42-9b3a-91e79bc67fcb",
   "metadata": {},
   "outputs": [
    {
     "name": "stdout",
     "output_type": "stream",
     "text": [
      "{'date': 'March 28',\n",
      " 'meeting_name': 'onboarding_meeting_2',\n",
      " 'people': {'instructors': ['Jiyoon', 'Ann'],\n",
      "            'mentees': ['Alex', 'Aryan', 'Tasha']},\n",
      " 'sessions': [2, 3],\n",
      " 'year': 2022}\n"
     ]
    }
   ],
   "source": [
    "new_doc = {\n",
    "    'meeting_name':'onboarding_meeting_2',\n",
    "    'date': 'March 28',\n",
    "    'sessions' :[2,3],\n",
    "    'year': 2022,\n",
    "    'people': {\n",
    "        'mentees':['Alex','Aryan','Tasha'],\n",
    "        'instructors':['Jiyoon','Ann']\n",
    "    }\n",
    "}\n",
    "pprint(new_doc)"
   ]
  },
  {
   "cell_type": "code",
   "execution_count": 11,
   "id": "50e5bcac-ea6e-4e37-8c05-0a665c5e7da5",
   "metadata": {},
   "outputs": [],
   "source": [
    "my_collecion.update(new_doc,key='meeting_name')"
   ]
  },
  {
   "cell_type": "markdown",
   "id": "8956eeb4-3a5a-4410-b95a-6c7752f86faf",
   "metadata": {},
   "source": [
    "## Query operators"
   ]
  },
  {
   "cell_type": "markdown",
   "id": "9d1cdb05-1a8a-4207-ab73-a1c83a4b0371",
   "metadata": {},
   "source": [
    "https://www.mongodb.com/docs/manual/reference/operator/query/"
   ]
  },
  {
   "cell_type": "code",
   "execution_count": 12,
   "id": "5b2033e4-1372-4b08-b6cf-af0c36e4fe72",
   "metadata": {},
   "outputs": [
    {
     "name": "stdout",
     "output_type": "stream",
     "text": [
      "[{'_id': ObjectId('62448d2b758c40ca2a87235f'),\n",
      "  'date': 'March 30',\n",
      "  'meeting_name': 'onboarding_meeting_3',\n",
      "  'people': {'instructors': ['Qian', 'Ann'],\n",
      "             'mentees': ['Alex', 'Aryan', 'Tasha']},\n",
      "  'sessions': [4, 5],\n",
      "  'year': 2022},\n",
      " {'_id': ObjectId('62448dbc758c40ca2a8723d2'),\n",
      "  'date': 'March 28',\n",
      "  'meeting_name': 'onboarding_meeting_2',\n",
      "  'people': {'instructors': ['Jiyoon', 'Ann'],\n",
      "             'mentees': ['Alex', 'Aryan', 'Tasha']},\n",
      "  'sessions': [2, 3],\n",
      "  'year': 2022}]\n"
     ]
    }
   ],
   "source": [
    "doc_list = list(my_collecion.query({'year':2022}))\n",
    "pprint(doc_list)"
   ]
  },
  {
   "cell_type": "code",
   "execution_count": 13,
   "id": "740d2c2a-3080-4fd6-98ed-5abb5f07e942",
   "metadata": {},
   "outputs": [
    {
     "name": "stdout",
     "output_type": "stream",
     "text": [
      "[{'_id': ObjectId('62448d2b758c40ca2a87235f'),\n",
      "  'date': 'March 30',\n",
      "  'meeting_name': 'onboarding_meeting_3',\n",
      "  'people': {'instructors': ['Qian', 'Ann'],\n",
      "             'mentees': ['Alex', 'Aryan', 'Tasha']},\n",
      "  'sessions': [4, 5],\n",
      "  'year': 2022},\n",
      " {'_id': ObjectId('62448dbc758c40ca2a8723d2'),\n",
      "  'date': 'March 28',\n",
      "  'meeting_name': 'onboarding_meeting_2',\n",
      "  'people': {'instructors': ['Jiyoon', 'Ann'],\n",
      "             'mentees': ['Alex', 'Aryan', 'Tasha']},\n",
      "  'sessions': [2, 3],\n",
      "  'year': 2022}]\n"
     ]
    }
   ],
   "source": [
    "# $in\n",
    "doc_list =list(my_collecion.query({'sessions':{'$in':[1,2,3,4,5]}}))\n",
    "pprint(doc_list)"
   ]
  },
  {
   "cell_type": "code",
   "execution_count": 14,
   "id": "bf69a1fe-da20-4764-a711-22a836402dbd",
   "metadata": {},
   "outputs": [
    {
     "data": {
      "text/plain": [
       "0"
      ]
     },
     "execution_count": 14,
     "metadata": {},
     "output_type": "execute_result"
    }
   ],
   "source": [
    "# $all\n",
    "my_collecion.count({'sessions':{'$all':[1,2,3,4,5]}})"
   ]
  },
  {
   "cell_type": "code",
   "execution_count": 15,
   "id": "d47bac24-fdc0-4227-a580-df58957e44ab",
   "metadata": {},
   "outputs": [
    {
     "data": {
      "text/plain": [
       "1"
      ]
     },
     "execution_count": 15,
     "metadata": {},
     "output_type": "execute_result"
    }
   ],
   "source": [
    "# $all\n",
    "my_collecion.count({'sessions':{'$all':[2,3]}})"
   ]
  },
  {
   "cell_type": "code",
   "execution_count": 16,
   "id": "4921ac78-0293-4354-9f2b-be92014525f6",
   "metadata": {},
   "outputs": [
    {
     "data": {
      "text/plain": [
       "1"
      ]
     },
     "execution_count": 16,
     "metadata": {},
     "output_type": "execute_result"
    }
   ],
   "source": [
    "# $nin\n",
    "my_collecion.count({'sessions':{'$nin':[1,2,3]}})"
   ]
  },
  {
   "cell_type": "code",
   "execution_count": 18,
   "id": "fbc2c3ff-fa4e-40e1-9729-4b36db081f74",
   "metadata": {},
   "outputs": [
    {
     "data": {
      "text/plain": [
       "2"
      ]
     },
     "execution_count": 18,
     "metadata": {},
     "output_type": "execute_result"
    }
   ],
   "source": [
    "# $gt or $le\n",
    "my_collecion.count({'year':{'$gt':2000}})"
   ]
  },
  {
   "cell_type": "code",
   "execution_count": 19,
   "id": "06c5c057-de15-4bba-90b8-0e770374b71b",
   "metadata": {},
   "outputs": [
    {
     "data": {
      "text/plain": [
       "1"
      ]
     },
     "execution_count": 19,
     "metadata": {},
     "output_type": "execute_result"
    }
   ],
   "source": [
    "my_collecion.count({'people.instructors':{'$in':['Qian']}})"
   ]
  },
  {
   "cell_type": "code",
   "execution_count": 21,
   "id": "b8db6550-1027-486f-a404-8bff91c57ba4",
   "metadata": {},
   "outputs": [
    {
     "data": {
      "text/plain": [
       "2"
      ]
     },
     "execution_count": 21,
     "metadata": {},
     "output_type": "execute_result"
    }
   ],
   "source": [
    "my_collecion.count({'meeting_name':{'$regex':'onboarding*'}})"
   ]
  },
  {
   "cell_type": "code",
   "execution_count": null,
   "id": "182418cf-e003-4ff7-9e3b-a3731bb9a481",
   "metadata": {},
   "outputs": [],
   "source": [
    "# $and\n",
    "my_collection.count({'$and':[{'year':2022},{'people.instructors':{'$in':['Qian']}},{'date':{'$regex':'March'}}]})"
   ]
  },
  {
   "cell_type": "code",
   "execution_count": null,
   "id": "1460302a-0c26-431f-bf0b-9c2c21d08d44",
   "metadata": {},
   "outputs": [],
   "source": []
  },
  {
   "cell_type": "markdown",
   "id": "2587f2ba-a9d6-48f5-b73f-c21fd649d5f0",
   "metadata": {
    "tags": []
   },
   "source": [
    "## Using get in pydash to look at the nested dictionary"
   ]
  },
  {
   "cell_type": "code",
   "execution_count": 22,
   "id": "4ef28cbf-e332-4808-9855-c9b96c9dd28e",
   "metadata": {},
   "outputs": [],
   "source": [
    "from pydash import get"
   ]
  },
  {
   "cell_type": "code",
   "execution_count": 27,
   "id": "4e418a29-9c75-4ffd-b339-eb78279edcc3",
   "metadata": {},
   "outputs": [
    {
     "name": "stdout",
     "output_type": "stream",
     "text": [
      "Qian\n",
      "Jiyoon\n"
     ]
    }
   ],
   "source": [
    "for doc in doc_list:\n",
    "    # print(get(doc,'year'))\n",
    "    print(get(doc,'people.instructors[0]'))"
   ]
  },
  {
   "cell_type": "markdown",
   "id": "39f66425-1d86-4fd6-bbfd-82ef696d6f7f",
   "metadata": {
    "tags": []
   },
   "source": [
    "## Look at the local database in Robo 3T"
   ]
  },
  {
   "cell_type": "markdown",
   "id": "02bb4fde-83fd-4328-9f80-11a56d1694cd",
   "metadata": {},
   "source": [
    "# 4. Excercise"
   ]
  },
  {
   "cell_type": "markdown",
   "id": "abbe38f7-4b4a-41fc-b2e9-944fdf603d68",
   "metadata": {},
   "source": [
    "## Save a new document to the collection"
   ]
  },
  {
   "cell_type": "markdown",
   "id": "da55dfd8-3b3d-4446-80cd-cd47107565ab",
   "metadata": {},
   "source": [
    "Get the structures for  `mp-25275`, `mp-22584`, `mp-677217`, `mp-1045420`, `mp-1443666` from materials project and store the below information as a document in a new collection named `my_structures` using `mp_id` as the key:\n",
    "- mp_id\n",
    "- composition of the structure\n",
    "- a list of elements in the structure\n",
    "- all the information contained in the structure object (lattice, sites,  etc.)\n",
    "- today's date"
   ]
  },
  {
   "cell_type": "markdown",
   "id": "743ecc37-1413-4e67-a830-74e444fc7339",
   "metadata": {},
   "source": [
    "An example for mp-22526 is as below:"
   ]
  },
  {
   "attachments": {
    "d84ecf80-7fc4-47f0-96a7-66b82b329b90.png": {
     "image/png": "[encoded data removed]"
    }
   },
   "cell_type": "markdown",
   "id": "d044aef1-49ff-4df2-9321-cbf41f66a414",
   "metadata": {},
   "source": [
    "![Screen Shot 2022-03-26 at 5.34.21 PM.png](attachment:d84ecf80-7fc4-47f0-96a7-66b82b329b90.png)"
   ]
  },
  {
   "cell_type": "code",
   "execution_count": 28,
   "id": "9c59a2ca-3050-4896-abfd-f664e002d84f",
   "metadata": {},
   "outputs": [],
   "source": [
    "from pymatgen.ext.matproj import MPRester\n",
    "mpr = MPRester()\n",
    "mp_ids = [\"mp-25275\", \"mp-22584\", \"mp-677217\", \"mp-1045420\", \"mp-1443666\"]"
   ]
  },
  {
   "cell_type": "code",
   "execution_count": 29,
   "id": "c2526de6-cfb1-40cb-9350-047b5768ba78",
   "metadata": {},
   "outputs": [
    {
     "name": "stderr",
     "output_type": "stream",
     "text": [
      "/Users/QianChen/opt/miniconda3/envs/cms/lib/python3.9/site-packages/pymatgen/ext/matproj.py:685: UserWarning: The calculation task mp-1045420 is mapped to canonical mp-id mvc-16768, so structure for mvc-16768 returned. This is not an error, see documentation. If original task data for mp-1045420 is required, use get_task_data(). To find the canonical mp-id from a task id use get_materials_id_from_task_id().\n",
      "  warnings.warn(\n",
      "/Users/QianChen/opt/miniconda3/envs/cms/lib/python3.9/site-packages/pymatgen/ext/matproj.py:685: UserWarning: The calculation task mp-1443666 is mapped to canonical mp-id mvc-27, so structure for mvc-27 returned. This is not an error, see documentation. If original task data for mp-1443666 is required, use get_task_data(). To find the canonical mp-id from a task id use get_materials_id_from_task_id().\n",
      "  warnings.warn(\n"
     ]
    }
   ],
   "source": [
    "structure_collection = MongoStore(database='my_database',collection_name='my_structures')\n",
    "structure_collection.connect()\n",
    "structure_collection.remove_docs({})\n",
    "for mp_id in mp_ids:\n",
    "    struct = mpr.get_structure_by_material_id(mp_id)\n",
    "    doc = {\n",
    "        'mp_id': mp_id,\n",
    "        'Composition': struct.composition,\n",
    "        'Elements': [specie.name for specie in struct.composition.elements],\n",
    "        'Structure': struct.as_dict(),\n",
    "        'Date': 'March 30'\n",
    "    }\n",
    "    structure_collection.update(doc,key='mp_id')"
   ]
  },
  {
   "cell_type": "markdown",
   "id": "688b875e-60d0-43bf-9e78-b842c04128c8",
   "metadata": {
    "tags": []
   },
   "source": [
    "## Using query to find the documents"
   ]
  },
  {
   "cell_type": "markdown",
   "id": "749b5525-a992-4c10-8739-98fe35d57341",
   "metadata": {},
   "source": [
    "- Find the document for `mp-25275`"
   ]
  },
  {
   "cell_type": "code",
   "execution_count": 30,
   "id": "66c8a387-2e79-4c8c-95c4-0852354ea319",
   "metadata": {
    "scrolled": true,
    "tags": []
   },
   "outputs": [
    {
     "data": {
      "text/plain": [
       "[{'_id': ObjectId('62449ab2758c40ca2a872eb9'),\n",
       "  'mp_id': 'mp-25275',\n",
       "  'Composition': 'Mn4 O8',\n",
       "  'Elements': ['Mn', 'O'],\n",
       "  'Structure': {'@module': 'pymatgen.core.structure',\n",
       "   '@class': 'Structure',\n",
       "   'charge': None,\n",
       "   'lattice': {'matrix': [[5.046884, 0.00033, 2.914472],\n",
       "     [1.670227, 4.753967, 2.916367],\n",
       "     [0.008062, -0.01135, 5.830838]],\n",
       "    'a': 5.827965790663154,\n",
       "    'b': 5.82194614775051,\n",
       "    'c': 5.8308546200868365,\n",
       "    'alpha': 60.01771288652118,\n",
       "    'beta': 59.91529779884742,\n",
       "    'gamma': 60.066996166749185,\n",
       "    'volume': 139.8945617779943},\n",
       "   'sites': [{'species': [{'element': 'Mn', 'occu': 1}],\n",
       "     'abc': [0.500001, 0.5, 0.499999],\n",
       "     'xyz': [3.362591538822, 2.37147351168, 5.830835583634],\n",
       "     'label': 'Mn',\n",
       "     'properties': {'magmom': 3.25}},\n",
       "    {'species': [{'element': 'Mn', 'occu': 1}],\n",
       "     'abc': [0.0, 0.500001, 0.499999],\n",
       "     'xyz': [0.839146162165, 2.371313265317, 4.373599585529],\n",
       "     'label': 'Mn',\n",
       "     'properties': {'magmom': 3.25}},\n",
       "    {'species': [{'element': 'Mn', 'occu': 1}],\n",
       "     'abc': [0.5, 0.500001, 0.0],\n",
       "     'xyz': [3.3585571702270003, 2.377153253967, 2.915422416367],\n",
       "     'label': 'Mn',\n",
       "     'properties': {'magmom': 3.25}},\n",
       "    {'species': [{'element': 'Mn', 'occu': 1}],\n",
       "     'abc': [0.499999, 0.0, 0.500001],\n",
       "     'xyz': [2.527467961178, -0.00551001168, 4.372657916366],\n",
       "     'label': 'Mn',\n",
       "     'properties': {'magmom': 3.25}},\n",
       "    {'species': [{'element': 'O', 'occu': 1}],\n",
       "     'abc': [0.294476, 0.734618, 0.735878],\n",
       "     'xyz': [2.719097679506, 3.4840946913860003, 7.291443155242],\n",
       "     'label': 'O',\n",
       "     'properties': {'magmom': -0.131}},\n",
       "    {'species': [{'element': 'O', 'occu': 1}],\n",
       "     'abc': [0.735027, 0.735879, 0.734617],\n",
       "     'xyz': [4.944603462655, 3.4902491379529996, 8.571741561383],\n",
       "     'label': 'O',\n",
       "     'properties': {'magmom': -0.131}},\n",
       "    {'species': [{'element': 'O', 'occu': 1}],\n",
       "     'abc': [0.734618, 0.294478, 0.735027],\n",
       "     'xyz': [4.205302724492, 1.3918385617160003, 7.285652875748],\n",
       "     'label': 'O',\n",
       "     'properties': {'magmom': -0.131}},\n",
       "    {'species': [{'element': 'O', 'occu': 1}],\n",
       "     'abc': [0.735878, 0.735027, 0.294478],\n",
       "     'xyz': [4.943926926917, 3.4911946165490004, 6.005357825889],\n",
       "     'label': 'O',\n",
       "     'properties': {'magmom': -0.131}},\n",
       "    {'species': [{'element': 'O', 'occu': 1}],\n",
       "     'abc': [0.264972, 0.264123, 0.265382],\n",
       "     'xyz': [1.7805678228530002, 1.252707381001, 3.089932526041],\n",
       "     'label': 'O',\n",
       "     'properties': {'magmom': -0.131}},\n",
       "    {'species': [{'element': 'O', 'occu': 1}],\n",
       "     'abc': [0.705523, 0.265381, 0.264122],\n",
       "     'xyz': [4.006068603383, 1.258847554317, 4.370228013919],\n",
       "     'label': 'O',\n",
       "     'properties': {'magmom': -0.131}},\n",
       "    {'species': [{'element': 'O', 'occu': 1}],\n",
       "     'abc': [0.264121, 0.264972, 0.705523],\n",
       "     'xyz': [1.7812393640339999, 1.251747617804, 5.65631917411],\n",
       "     'label': 'O',\n",
       "     'properties': {'magmom': -0.131}},\n",
       "    {'species': [{'element': 'O', 'occu': 1}],\n",
       "     'abc': [0.265381, 0.705523, 0.264974],\n",
       "     'xyz': [2.5198669069129997, 3.351113180571, 4.3760299569850005],\n",
       "     'label': 'O',\n",
       "     'properties': {'magmom': -0.131}}]},\n",
       "  'Date': 'March 30'}]"
      ]
     },
     "execution_count": 30,
     "metadata": {},
     "output_type": "execute_result"
    }
   ],
   "source": [
    "list(structure_collection.query({'mp_id':'mp-25275'}))"
   ]
  },
  {
   "cell_type": "markdown",
   "id": "6e092c61-c95d-424d-bb0f-d653983c69ee",
   "metadata": {},
   "source": [
    "- Find the mp-ids for structures that \n",
    "    1. contain 'O' \n",
    "    1. don't contain 'Li' or 'Mg' \n",
    "    1. contain both 'Mn' and 'O' in the elements"
   ]
  },
  {
   "cell_type": "code",
   "execution_count": 31,
   "id": "2af1d9e6-ab52-4e1f-b8c5-34a854718752",
   "metadata": {
    "tags": []
   },
   "outputs": [
    {
     "name": "stdout",
     "output_type": "stream",
     "text": [
      "['mp-25275', 'mp-22584']\n"
     ]
    }
   ],
   "source": [
    "doc_list = list(structure_collection.query({'Elements':{'$in':['O']}}))\n",
    "print([doc['mp_id'] for doc in doc_list])"
   ]
  },
  {
   "cell_type": "code",
   "execution_count": 32,
   "id": "a72689c0-de7c-4784-b7cc-ab829cf01ab9",
   "metadata": {
    "tags": []
   },
   "outputs": [
    {
     "name": "stdout",
     "output_type": "stream",
     "text": [
      "['mp-25275']\n"
     ]
    }
   ],
   "source": [
    "doc_list = list(structure_collection.query({'Elements':{'$nin':['Li','Mg']}}))\n",
    "print([doc['mp_id'] for doc in doc_list])"
   ]
  },
  {
   "cell_type": "code",
   "execution_count": 33,
   "id": "b9972c12-ff59-4f87-9545-5e602338d926",
   "metadata": {
    "tags": []
   },
   "outputs": [
    {
     "name": "stdout",
     "output_type": "stream",
     "text": [
      "['mp-25275', 'mp-22584']\n"
     ]
    }
   ],
   "source": [
    "doc_list = list(structure_collection.query({'Elements':{'$all':['Mn','O']}}))\n",
    "print([doc['mp_id'] for doc in doc_list])"
   ]
  },
  {
   "cell_type": "markdown",
   "id": "988361a7-7296-42b2-b2df-36596dfd475c",
   "metadata": {},
   "source": [
    "- Find the structure(s) that \n",
    "    - starts with 'Li'  in the composition \n",
    "    - and have a lattice parameter a larger than 5 \n",
    "    \n",
    "And export them to cif file(s) using the mp_id as the file name"
   ]
  },
  {
   "cell_type": "code",
   "execution_count": 34,
   "id": "fbd7c1dd-7eb2-41f2-b64d-4a1f3d96e308",
   "metadata": {
    "tags": []
   },
   "outputs": [],
   "source": [
    "from pymatgen.core import Structure\n",
    "doc_list = list(structure_collection.query({'$and':[{'Composition':{'$regex':'Li*'}},{'Structure.lattice.a':{'$gt':5}}]}))\n",
    "for doc in doc_list:\n",
    "    structure = Structure.from_dict(doc['Structure'])\n",
    "    structure.to(filename=doc['mp_id']+'.cif')"
   ]
  },
  {
   "cell_type": "code",
   "execution_count": null,
   "id": "fcce7999-d2a0-4caf-9d2b-f3ae3b49606c",
   "metadata": {},
   "outputs": [],
   "source": []
  }
 ],
 "metadata": {
  "kernelspec": {
   "display_name": "Python 3 (ipykernel)",
   "language": "python",
   "name": "python3"
  },
  "language_info": {
   "codemirror_mode": {
    "name": "ipython",
    "version": 3
   },
   "file_extension": ".py",
   "mimetype": "text/x-python",
   "name": "python",
   "nbconvert_exporter": "python",
   "pygments_lexer": "ipython3",
   "version": "3.9.16"
  },
  "toc-autonumbering": false
 },
 "nbformat": 4,
 "nbformat_minor": 5
}
