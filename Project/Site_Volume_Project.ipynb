{
 "cells": [
  {
   "cell_type": "markdown",
   "id": "402474fb-8ccf-4173-b905-f55c8623a189",
   "metadata": {
    "tags": []
   },
   "source": [
    "## Project #3: Refining Material Design Rules for Good Mg Mobility (Site Volume)\n",
    "Undergraduate Researcher: Tasha Lewis\n",
    "\n",
    "* Combination of coding to characterize materials and analyze a preliminary data set\n",
    "* Develop code for evaluating insertion site volume and study the relationship with Mg mobility\n",
    "* Short term goal: Use 2 materials for code development\n",
    "* Next steps: Apply code to ApproxNEB data set of 118 Mg cathodes and analyze preliminary data \n",
    "\n",
    "Primary Mentor: Qian, Secondary Mentor: Ann\n",
    "\n",
    "Funded as needed by LBNL: Joint Center for Energy Storage Research - Charge Transfer (JCESR 2.0 CT)"
   ]
  },
  {
   "cell_type": "code",
   "execution_count": 1,
   "id": "87a070ce-cfd7-4da6-843a-5ac7211056f5",
   "metadata": {},
   "outputs": [
    {
     "name": "stderr",
     "output_type": "stream",
     "text": [
      "/Users/acrutt/miniconda3/envs/ugr/lib/python3.9/site-packages/maggma/utils.py:20: TqdmWarning: IProgress not found. Please update jupyter and ipywidgets. See https://ipywidgets.readthedocs.io/en/stable/user_install.html\n",
      "  from tqdm.autonotebook import tqdm\n"
     ]
    }
   ],
   "source": [
    "from maggma.stores.advanced_stores import MongograntStore\n",
    "from maggma.stores.compound_stores import ConcatStore"
   ]
  },
  {
   "cell_type": "code",
   "execution_count": 2,
   "id": "b5dc22ef-927d-49f3-8241-2ab53db2d04a",
   "metadata": {},
   "outputs": [],
   "source": [
    "acrt_store = MongograntStore(\"ro:mongodb07-ext.nersc.gov/fw_acr_mv\",\"tasks\",key=\"task_id\")\n",
    "acrt_store.connect()\n",
    "\n",
    "jst_store = MongograntStore(\"ro:mongodb07-ext.nersc.gov/fw_acr_mv\",\"js_tasks\",key=\"task_id\")\n",
    "jst_store.connect()\n",
    "\n",
    "tasks_store = ConcatStore(stores=[acrt_store,jst_store],key=\"task_id\")\n",
    "tasks_store.connect()"
   ]
  },
  {
   "cell_type": "markdown",
   "id": "897da08d-1523-420b-8168-b8af9cd546f7",
   "metadata": {},
   "source": [
    "## Data for Development\n",
    "\n",
    "Open question: What structure is best to look at for using site volume as a predictor? Relaxed Mg inserted unit cell structure? Unrelaxed Mg inserted unit cell structure? Migration graph structure with all inserted sites filled? Can we get away with the relaxed empty base unit cell structure to avoid insertion calculations?\n",
    "\n",
    "* **Sodiated Birnessite NaMn4O8:** \"Good\" larger site volume\n",
    "    * base task_ids: js-46421\n",
    "    * Mg insertions task_ids: js-119679, js-119666\n",
    "    * batt_id: \"119666_Mg\"\n",
    "    * approx_neb wf_uuid: \"9da400ce-b10e-496b-89f4-404c7cda55bb\"\n",
    "    * empty host mp_id: mp-1016155\n",
    "* **Spinel MnO2:** \"Bad\" smaller site volume\n",
    "    * base task_ids: js-18\n",
    "    * Mg insertions task_ids: js-72614, js-113091, js-113096, js-47836, js-47314, js-46959, js-46581\n",
    "    * batt_id: \"113091_Mg\" (approx_neb), \"128543_Mg\" (electrode)\n",
    "    * approx_neb wf_uuid: \"938826bf-676d-473e-b98f-0c3c9f842eed\"\n",
    "    * empty host mp_id: mp-25275"
   ]
  },
  {
   "cell_type": "markdown",
   "id": "ebdd2860-0611-42f3-85ec-fe64d2fa8da7",
   "metadata": {
    "tags": []
   },
   "source": [
    "## Verification Data\n",
    "\n",
    "More cases for confirming analysis works as expected.\n",
    "\n",
    "* **Spinel TiS2:** \"Good\" larger site volume\n",
    "    * base task_ids: 4527\n",
    "    * Mg insertions task_ids: 4702, 4704, 5246\n",
    "    * batt_id: \"spinelTi2S4_Mg\" (approx_neb)\n",
    "    * approx_neb wf_uuid: \n",
    "    * empty host mp_id: mp-9027\n",
    "* **NASICON V2(PO4)3:** \"Good\" larger site volume\n",
    "    * base task_ids: 8772\n",
    "    * Mg insertions task_ids: 14352, 14950, 15209\n",
    "    * batt_id: \"43005_Mg\", \"NVP_Mg\" (approx_neb)\n",
    "    * approx_neb wf_uuid: \"4599dc51-efd2-4b32-ac51-0cc982f08bcd\"\n",
    "    * empty host mp_id: mp-26962\n",
    "* **Tavorite MnPO4F:** \"Bad\" smaller site volume\n",
    "    * base task_ids: js-47435\n",
    "    * Mg insertions task_ids: js-128543, js-128568\n",
    "    * batt_id: \"128543_Mg\"\n",
    "    * approx_neb wf_uuid: \"7bd62bf7-a09c-4bf0-a02e-1224e00663b2\"\n",
    "    * empty host mp_id: mp-25426"
   ]
  },
  {
   "cell_type": "markdown",
   "id": "8dfa772d-cfcb-45ac-ba33-00d8b4d8bc89",
   "metadata": {
    "tags": []
   },
   "source": [
    "## Validation Data\n",
    "\n",
    "Preliminary data set of 118 Mg cathodes to evaluate the value of site volume as a predictor.\n",
    "\n",
    "Battery IDs are stored in `prelim_data_118.json`\n",
    "* 78 prioritized from 230 Mg electrodes selected from screening. Note these batches include some materials outside the prioritized 78.\n",
    "    * 14 from \"20191122_batch\"\n",
    "    * 76 from \"20200214_batch\" \n",
    "    * 18 from \"20200406_batch\"\n",
    "* 9 sulfides (\"20200410_batch\" tag)\n",
    "* 41 thiophosphates (\"20201106_batch\" tag)\n",
    "\n",
    "Get relevant (insertion workflow) unit cell calculations from task_ids specified in electrode docs matching these battery ids"
   ]
  },
  {
   "cell_type": "code",
   "execution_count": 3,
   "id": "70b12c6c-727f-420d-add8-a00948707592",
   "metadata": {},
   "outputs": [],
   "source": [
    "elec_store = MongograntStore(\"ro:mongodb07-ext.nersc.gov/fw_acr_mv\",\"vw_elec\",key=\"battid\")\n",
    "elec_store.connect()"
   ]
  },
  {
   "cell_type": "code",
   "execution_count": 4,
   "id": "ef3387e8-b550-4334-96a8-e1ba8064188c",
   "metadata": {},
   "outputs": [],
   "source": [
    "aneb_store = MongograntStore(\"ro:mongodb07-ext.nersc.gov/fw_acr_mv\",\"approx_neb\",key=\"wf_uuid\")\n",
    "aneb_store.connect()\n",
    "\n",
    "aneba_store = MongograntStore(\"ro:mongodb07-ext.nersc.gov/fw_acr_mv\",\"approx_neb_analysis\",key=\"wf_uuid\")\n",
    "aneba_store.connect()"
   ]
  },
  {
   "cell_type": "code",
   "execution_count": 5,
   "id": "4ec8b3d3-2190-400f-9736-193eeff2e9a3",
   "metadata": {},
   "outputs": [
    {
     "data": {
      "text/plain": [
       "['113245_Mg',\n",
       " '114444_Mg',\n",
       " '119311_Mg',\n",
       " '126477_Mg',\n",
       " '127214_Mg',\n",
       " '128032_Mg',\n",
       " '132383_Mg',\n",
       " '14248_Mg',\n",
       " '17332_Mg']"
      ]
     },
     "execution_count": 5,
     "metadata": {},
     "output_type": "execute_result"
    }
   ],
   "source": [
    "aneb_store.distinct(\"batt_id\",{\"tags\":{\"$in\":[\"20200410_batch\"]}}) "
   ]
  },
  {
   "cell_type": "code",
   "execution_count": 6,
   "id": "242dae03-8ffd-4504-bda2-15369d178444",
   "metadata": {},
   "outputs": [
    {
     "data": {
      "text/plain": [
       "['6765_Mg',\n",
       " '6766_Mg',\n",
       " '6768_Mg',\n",
       " '6769_Mg',\n",
       " '6771_Mg',\n",
       " '6772_Mg',\n",
       " '6776_Mg',\n",
       " '6777_Mg',\n",
       " '6779_Mg',\n",
       " '6781_Mg',\n",
       " '6783_Mg',\n",
       " '6784_Mg',\n",
       " '6785_Mg',\n",
       " '6789_Mg',\n",
       " '6790_Mg',\n",
       " '6792_Mg',\n",
       " '6794_Mg',\n",
       " '6796_Mg',\n",
       " '6798_Mg',\n",
       " '6801_Mg',\n",
       " '6806_Mg',\n",
       " '6807_Mg',\n",
       " '6809_Mg',\n",
       " '6811_Mg',\n",
       " '6813_Mg',\n",
       " '6818_Mg',\n",
       " '6820_Mg',\n",
       " '6821_Mg',\n",
       " '6824_Mg',\n",
       " '6827_Mg',\n",
       " '6845_Mg']"
      ]
     },
     "execution_count": 6,
     "metadata": {},
     "output_type": "execute_result"
    }
   ],
   "source": [
    "aneb_store.distinct(\"batt_id\",{\"tags\":{\"$in\":[\"20201106_batch\"]}}) "
   ]
  },
  {
   "cell_type": "markdown",
   "id": "412398af-62c0-4e0a-8135-05c759c0134a",
   "metadata": {},
   "source": [
    "## Background Reading\n",
    "\n",
    "https://doi.org/10.1021/acs.chemmater.5b02342: summarizes understanding of multivalent ion mobility focused on coordination\n",
    "\n",
    "https://arxiv.org/abs/2204.05383: introduces hypothesis for considering site volume in addition to coordination"
   ]
  }
 ],
 "metadata": {
  "kernelspec": {
   "display_name": "Python 3 (ipykernel)",
   "language": "python",
   "name": "python3"
  },
  "language_info": {
   "codemirror_mode": {
    "name": "ipython",
    "version": 3
   },
   "file_extension": ".py",
   "mimetype": "text/x-python",
   "name": "python",
   "nbconvert_exporter": "python",
   "pygments_lexer": "ipython3",
   "version": "3.9.16"
  }
 },
 "nbformat": 4,
 "nbformat_minor": 5
}
