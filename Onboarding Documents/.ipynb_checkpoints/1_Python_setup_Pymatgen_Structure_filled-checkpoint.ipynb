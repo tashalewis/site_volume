{
 "cells": [
  {
   "cell_type": "markdown",
   "metadata": {},
   "source": [
    "# Joint Undergraduate Researcher Onboarding #1\n",
    "**Topic:** 1. Getting started in the Perssion group. 2. Using the Structure module in Pymatgen 3. Structure visualization in Vesta\n",
    "\n",
    "**Date:** March 16, 2022\n",
    "\n",
    "**Prepared by:** Qian Chen"
   ]
  },
  {
   "cell_type": "markdown",
   "metadata": {},
   "source": [
    "# Outline\n",
    "* Getting started in Persson Group\n",
    "    * Helpful resources: group handbook, Slack channel, etc.\n",
    "* Python environment set-up\n",
    "    * Create a conda environment\n",
    "* Install pymatgen, jupyter notebook and pymongo\n",
    "* Introduction to Structure in Pymatgen(https://pymatgen.org/)\n",
    "    * Use pymatgen to load, modify and store structures (olivine structure as an example)\n",
    "* Visualize the structures in Vesta"
   ]
  },
  {
   "cell_type": "markdown",
   "metadata": {},
   "source": [
    "# Further reading"
   ]
  },
  {
   "cell_type": "markdown",
   "metadata": {},
   "source": [
    "Conda enviorment\n",
    "- https://docs.conda.io/projects/conda/en/latest/user-guide/concepts/environments.html\n",
    "\n",
    "Structure in Pymatgen\n",
    "- https://pymatgen.org/usage.html#structures-and-molecules\n",
    "- https://workshop.materialsproject.org/lessons/02_intro_pymatgen/1%20-%20pymatgen%20foundations/"
   ]
  },
  {
   "cell_type": "markdown",
   "metadata": {},
   "source": [
    "# Before the training"
   ]
  },
  {
   "cell_type": "markdown",
   "metadata": {},
   "source": [
    "- Install anaconda\n",
    "   * Anaconda (https://docs.conda.io/en/latest/miniconda.html)\n",
    "   * Miniconda3 macOS 64-bit with Python 3.9 Miniconda3 macOS\n",
    "- Install Vesta\n",
    "   * Vesta (https://jp-minerals.org/vesta/en/download.html)\n",
    "   * The latest version for macos\n"
   ]
  },
  {
   "cell_type": "markdown",
   "metadata": {},
   "source": [
    "# Getting started in Persson group"
   ]
  },
  {
   "cell_type": "markdown",
   "metadata": {},
   "source": [
    "* Group handbook: \n",
    "https://materialsproject.gitbook.io/persson-group-handbook/group-policies/meetings\n",
    "\n",
    "* Slack channel (Berkeley theory/ Persson Huddle)\n",
    "* Google calendar "
   ]
  },
  {
   "cell_type": "markdown",
   "metadata": {},
   "source": [
    "# Python enviorment setup"
   ]
  },
  {
   "cell_type": "markdown",
   "metadata": {
    "tags": []
   },
   "source": [
    "Enter in terminal:\n",
    "\n",
    "- Create a conda enviorment with python version 3.9 (cms short for computational materials science):\n",
    "\n",
    "`conda create --name cms python=3.9`\n",
    "\n",
    "- Activate the conda enviorment. Make sure to have it activated each time using/installing the packages within the enviorment\n",
    "\n",
    "`conda activate cms`\n",
    "\n",
    "- Install jupyterlab, pymatgen and pymongo\n",
    "\n",
    "`conda install -c conda-forge jupyterlab`\n",
    "\n",
    "`conda install -c conda-forge pymatgen`\n",
    "\n",
    "`conda install pymongo`\n",
    "\n",
    "- Open the Jupyter notebook (need the conda enviorment activated)\n",
    "\n",
    "`jupyter lab`\n"
   ]
  },
  {
   "cell_type": "markdown",
   "metadata": {},
   "source": [
    "# Using Structure in Pymatgen"
   ]
  },
  {
   "cell_type": "code",
   "execution_count": 1,
   "metadata": {},
   "outputs": [],
   "source": [
    "import json\n",
    "import os\n",
    "from pprint import pprint\n",
    "from pymatgen.core import Structure"
   ]
  },
  {
   "cell_type": "markdown",
   "metadata": {
    "tags": []
   },
   "source": [
    "## Loading and saving a structure\n",
    "- Structure.from_file()\n",
    "- Structure.from_dict()\n",
    "- Structure.to()"
   ]
  },
  {
   "cell_type": "code",
   "execution_count": 2,
   "metadata": {
    "tags": []
   },
   "outputs": [],
   "source": [
    "# Load a structure with Structure.from_file()\n",
    "struct = Structure.from_file('olivine_Li.cif')"
   ]
  },
  {
   "cell_type": "code",
   "execution_count": 3,
   "metadata": {
    "scrolled": true,
    "tags": []
   },
   "outputs": [
    {
     "name": "stdout",
     "output_type": "stream",
     "text": [
      "Full Formula (Li1 Fe8 P8 O32)\n",
      "Reduced Formula: LiFe8(PO4)8\n",
      "abc   :   9.985695  11.979389   4.908758\n",
      "angles:  90.000000  90.000000  90.000000\n",
      "Sites (49)\n",
      "  #  SP           a         b         c\n",
      "---  ----  --------  --------  --------\n",
      "  0  Li    0.500046  0.750012  0.500012\n",
      "  1  Fe    0.774467  0.126064  0.529933\n",
      "  2  Fe    0.779089  0.622021  0.530516\n",
      "  3  Fe    0.725841  0.372833  0.02997\n",
      "  4  Fe    0.728394  0.878594  0.027979\n",
      "  5  Fe    0.274137  0.127176  0.97014\n",
      "  6  Fe    0.271657  0.621427  0.971883\n",
      "  7  Fe    0.225519  0.373944  0.470117\n",
      "  8  Fe    0.220893  0.877967  0.469455\n",
      "  9  P     0.09893   0.124712  0.419093\n",
      " 10  P     0.100163  0.626274  0.418052\n",
      " 11  P     0.401588  0.375536  0.919163\n",
      " 12  P     0.402134  0.873778  0.92012\n",
      " 13  P     0.598415  0.124466  0.080839\n",
      " 14  P     0.597883  0.62622   0.079886\n",
      " 15  P     0.901071  0.375284  0.580933\n",
      " 16  P     0.89981   0.873726  0.581856\n",
      " 17  O     0.123151  0.125049  0.726639\n",
      " 18  O     0.121794  0.62603   0.726401\n",
      " 19  O     0.828153  0.275272  0.726643\n",
      " 20  O     0.82617   0.773299  0.724154\n",
      " 21  O     0.82779   0.476243  0.72384\n",
      " 22  O     0.826968  0.974596  0.724243\n",
      " 23  O     0.876852  0.374936  0.273406\n",
      " 24  O     0.878211  0.873972  0.273479\n",
      " 25  O     0.051293  0.375603  0.643349\n",
      " 26  O     0.049869  0.873824  0.648839\n",
      " 27  O     0.377223  0.375274  0.226779\n",
      " 28  O     0.385533  0.868192  0.230985\n",
      " 29  O     0.172219  0.023758  0.276212\n",
      " 30  O     0.173012  0.525408  0.275679\n",
      " 31  O     0.671919  0.224259  0.226562\n",
      " 32  O     0.664366  0.728413  0.235084\n",
      " 33  O     0.328088  0.275742  0.773475\n",
      " 34  O     0.335644  0.771576  0.764961\n",
      " 35  O     0.330346  0.477074  0.775598\n",
      " 36  O     0.324669  0.972969  0.785465\n",
      " 37  O     0.948714  0.124393  0.356676\n",
      " 38  O     0.950072  0.626184  0.351126\n",
      " 39  O     0.448137  0.124812  0.143437\n",
      " 40  O     0.448872  0.627802  0.162785\n",
      " 41  O     0.55186   0.375186  0.856605\n",
      " 42  O     0.551144  0.872183  0.837168\n",
      " 43  O     0.622789  0.124737  0.773214\n",
      " 44  O     0.614457  0.631796  0.769031\n",
      " 45  O     0.669656  0.02293   0.224429\n",
      " 46  O     0.675337  0.527027  0.214581\n",
      " 47  O     0.171856  0.224721  0.273417\n",
      " 48  O     0.1738    0.726703  0.275798\n"
     ]
    }
   ],
   "source": [
    "print(struct)"
   ]
  },
  {
   "cell_type": "code",
   "execution_count": 5,
   "metadata": {
    "tags": []
   },
   "outputs": [],
   "source": [
    "# Save a structure with Structure.to()\n",
    "struct.to(filename='olivine_Li.json');"
   ]
  },
  {
   "cell_type": "code",
   "execution_count": 6,
   "metadata": {},
   "outputs": [],
   "source": [
    "# Load a structure from a json file\n",
    "file = open('olivine_Li.json')\n",
    "json_doc = json.load(file)"
   ]
  },
  {
   "cell_type": "code",
   "execution_count": 8,
   "metadata": {
    "scrolled": true,
    "tags": []
   },
   "outputs": [
    {
     "name": "stdout",
     "output_type": "stream",
     "text": [
      "{'@class': 'Structure',\n",
      " '@module': 'pymatgen.core.structure',\n",
      " 'charge': 0.0,\n",
      " 'lattice': {'a': 9.985695,\n",
      "             'alpha': 90.0,\n",
      "             'b': 11.979389,\n",
      "             'beta': 90.0,\n",
      "             'c': 4.908758,\n",
      "             'gamma': 90.0,\n",
      "             'matrix': [[9.985695, 0.0, 6.114474709505864e-16],\n",
      "                        [-7.335260197295506e-16,\n",
      "                         11.979389,\n",
      "                         7.335260197295506e-16],\n",
      "                        [0.0, 0.0, 4.908758]],\n",
      "             'volume': 587.1980257902912},\n",
      " 'sites': [{'abc': [0.50004626, 0.75001246, 0.50001196],\n",
      "            'label': 'Li',\n",
      "            'properties': {},\n",
      "            'species': [{'element': 'Li', 'occu': 1.0}],\n",
      "            'xyz': [4.993309438250699, 8.98469101318694, 2.454437708745681]},\n",
      "           {'abc': [0.77446684, 0.12606367, 0.52993346],\n",
      "            'label': 'Fe',\n",
      "            'properties': {},\n",
      "            'species': [{'element': 'Fe', 'occu': 1.0}],\n",
      "            'xyz': [7.7335896518538, 1.5101657416976297, 2.60131511124268]},\n",
      "           {'abc': [0.77908884, 0.62202103, 0.53051572],\n",
      "            'label': 'Fe',\n",
      "            'properties': {},\n",
      "            'species': [{'element': 'Fe', 'occu': 1.0}],\n",
      "            'xyz': [7.779743534143799, 7.4514318845506695, 2.604173284675761]},\n",
      "           {'abc': [0.72584123, 0.37283343, 0.02996993],\n",
      "            'label': 'Fe',\n",
      "            'properties': {},\n",
      "            'species': [{'element': 'Fe', 'occu': 1.0}],\n",
      "            'xyz': [7.24802914120485, 4.46631669017427, 0.1471151336469407]},\n",
      "           {'abc': [0.7283937, 0.87859409, 0.02797867],\n",
      "            'label': 'Fe',\n",
      "            'properties': {},\n",
      "            'species': [{'element': 'Fe', 'occu': 1.0}],\n",
      "            'xyz': [7.273517328121499,\n",
      "                    10.525020377211009,\n",
      "                    0.13734052019186108]},\n",
      "           {'abc': [0.2741367, 0.127176, 0.97013987],\n",
      "            'label': 'Fe',\n",
      "            'properties': {},\n",
      "            'species': [{'element': 'Fe', 'occu': 1.0}],\n",
      "            'xyz': [2.7374454745065, 1.5234907754640001, 4.76218184798146]},\n",
      "           {'abc': [0.27165748, 0.62142731, 0.97188259],\n",
      "            'label': 'Fe',\n",
      "            'properties': {},\n",
      "            'species': [{'element': 'Fe', 'occu': 1.0}],\n",
      "            'xyz': [2.7126887397485997, 7.444319481713589, 4.770736438723221]},\n",
      "           {'abc': [0.22551889, 0.37394422, 0.47011741],\n",
      "            'label': 'Fe',\n",
      "            'properties': {},\n",
      "            'species': [{'element': 'Fe', 'occu': 1.0}],\n",
      "            'xyz': [2.2519628522785493, 4.47962327568158, 2.3076925972767803]},\n",
      "           {'abc': [0.22089287, 0.87796672, 0.46945527],\n",
      "            'label': 'Fe',\n",
      "            'properties': {},\n",
      "            'species': [{'element': 'Fe', 'occu': 1.0}],\n",
      "            'xyz': [2.205768827494649, 10.517504867934079, 2.3044423122546607]},\n",
      "           {'abc': [0.09892995, 0.12471209, 0.41909348],\n",
      "            'label': 'P',\n",
      "            'properties': {},\n",
      "            'species': [{'element': 'P', 'occu': 1.0}],\n",
      "            'xyz': [0.9878843070652499, 1.49397463911301, 2.05722847269784]},\n",
      "           {'abc': [0.1001631, 0.62627406, 0.41805221],\n",
      "            'label': 'P',\n",
      "            'properties': {},\n",
      "            'species': [{'element': 'P', 'occu': 1.0}],\n",
      "            'xyz': [1.0001981668544995, 7.502380585349339, 2.0521171302551804]},\n",
      "           {'abc': [0.40158829, 0.37553614, 0.91916325],\n",
      "            'label': 'P',\n",
      "            'properties': {},\n",
      "            'species': [{'element': 'P', 'occu': 1.0}],\n",
      "            'xyz': [4.01013817951155, 4.49869350461846, 4.511949956743501]},\n",
      "           {'abc': [0.40213438, 0.87377838, 0.9201196],\n",
      "            'label': 'P',\n",
      "            'properties': {},\n",
      "            'species': [{'element': 'P', 'occu': 1.0}],\n",
      "            'xyz': [4.0155912676940995, 10.467331113809818, 4.516644447456801]},\n",
      "           {'abc': [0.59841459, 0.1244664, 0.08083875],\n",
      "            'label': 'P',\n",
      "            'properties': {},\n",
      "            'species': [{'element': 'P', 'occu': 1.0}],\n",
      "            'xyz': [5.975585579290049, 1.4910314230296, 0.3968178607725004]},\n",
      "           {'abc': [0.59788326, 0.6262198, 0.07988595],\n",
      "            'label': 'P',\n",
      "            'properties': {},\n",
      "            'species': [{'element': 'P', 'occu': 1.0}],\n",
      "            'xyz': [5.970279879965699, 7.5017305837022, 0.3921407961501008]},\n",
      "           {'abc': [0.90107119, 0.37528365, 0.58093274],\n",
      "            'label': 'P',\n",
      "            'properties': {},\n",
      "            'species': [{'element': 'P', 'occu': 1.0}],\n",
      "            'xyz': [8.99782207662705, 4.49566882868985, 2.8516582349369206]},\n",
      "           {'abc': [0.89981032, 0.87372628, 0.58185648],\n",
      "            'label': 'P',\n",
      "            'properties': {},\n",
      "            'species': [{'element': 'P', 'occu': 1.0}],\n",
      "            'xyz': [8.9852314133724, 10.466706987642919, 2.8561926510518414]},\n",
      "           {'abc': [0.12315076, 0.12504887, 0.72663924],\n",
      "            'label': 'O',\n",
      "            'properties': {},\n",
      "            'species': [{'element': 'O', 'occu': 1.0}],\n",
      "            'xyz': [1.2297459283782, 1.49800905774043, 3.56689618246392]},\n",
      "           {'abc': [0.12179442, 0.62603041, 0.72640058],\n",
      "            'label': 'O',\n",
      "            'properties': {},\n",
      "            'species': [{'element': 'O', 'occu': 1.0}],\n",
      "            'xyz': [1.2162019308218994, 7.49946180721949, 3.56572465827964]},\n",
      "           {'abc': [0.82815327, 0.27527193, 0.72664263],\n",
      "            'label': 'O',\n",
      "            'properties': {},\n",
      "            'species': [{'element': 'O', 'occu': 1.0}],\n",
      "            'xyz': [8.26968596747265, 3.29758953025077, 3.5669128231535403]},\n",
      "           {'abc': [0.82617024, 0.77329938, 0.72415401],\n",
      "            'label': 'O',\n",
      "            'properties': {},\n",
      "            'species': [{'element': 'O', 'occu': 1.0}],\n",
      "            'xyz': [8.2498840347168, 9.26365408647882, 3.5546967898195807]},\n",
      "           {'abc': [0.82778994, 0.47624281, 0.72383966],\n",
      "            'label': 'O',\n",
      "            'properties': {},\n",
      "            'species': [{'element': 'O', 'occu': 1.0}],\n",
      "            'xyz': [8.2660578649083, 5.70509787944309, 3.5531537217422806]},\n",
      "           {'abc': [0.82696757, 0.9745965, 0.72424291],\n",
      "            'label': 'O',\n",
      "            'properties': {},\n",
      "            'species': [{'element': 'O', 'occu': 1.0}],\n",
      "            'xyz': [8.25784592891115, 11.6750705915385, 3.555133178405781]},\n",
      "           {'abc': [0.87685202, 0.37493641, 0.27340646],\n",
      "            'label': 'O',\n",
      "            'properties': {},\n",
      "            'species': [{'element': 'O', 'occu': 1.0}],\n",
      "            'xyz': [8.7559768318539, 4.49150910565349, 1.342086147776681]},\n",
      "           {'abc': [0.87821071, 0.87397235, 0.27347929],\n",
      "            'label': 'O',\n",
      "            'properties': {},\n",
      "            'species': [{'element': 'O', 'occu': 1.0}],\n",
      "            'xyz': [8.76954429579345, 10.46965475589415, 1.3424436526218209]},\n",
      "           {'abc': [0.05129274, 0.37560252, 0.64334904],\n",
      "            'label': 'O',\n",
      "            'properties': {},\n",
      "            'species': [{'element': 'O', 'occu': 1.0}],\n",
      "            'xyz': [0.5121936573542998, 4.49948869646028, 3.1580447468923203]},\n",
      "           {'abc': [0.04986918, 0.87382387, 0.64883871],\n",
      "            'label': 'O',\n",
      "            'properties': {},\n",
      "            'species': [{'element': 'O', 'occu': 1.0}],\n",
      "            'xyz': [0.4979784213800993, 10.46787605621543, 3.184992208422181]},\n",
      "           {'abc': [0.37722255, 0.37527357, 0.22677877],\n",
      "            'label': 'O',\n",
      "            'properties': {},\n",
      "            'species': [{'element': 'O', 'occu': 1.0}],\n",
      "            'xyz': [3.766829331422249, 4.4955480764487294, 1.1132021014676603]},\n",
      "           {'abc': [0.38553337, 0.86819232, 0.23098482],\n",
      "            'label': 'O',\n",
      "            'properties': {},\n",
      "            'species': [{'element': 'O', 'occu': 1.0}],\n",
      "            'xyz': [3.8498186451421494, 10.40041352809248, 1.133848583053561]},\n",
      "           {'abc': [0.17221914, 0.02375816, 0.27621224],\n",
      "            'label': 'O',\n",
      "            'properties': {},\n",
      "            'species': [{'element': 'O', 'occu': 1.0}],\n",
      "            'xyz': [1.7197278052023, 0.28460824056424, 1.3558590427979202]},\n",
      "           {'abc': [0.17301177, 0.52540759, 0.27567911],\n",
      "            'label': 'O',\n",
      "            'properties': {},\n",
      "            'species': [{'element': 'O', 'occu': 1.0}],\n",
      "            'xyz': [1.7276427666301497, 6.29406190416251, 1.3532420366453803]},\n",
      "           {'abc': [0.67191854, 0.22425902, 0.22656175],\n",
      "            'label': 'O',\n",
      "            'properties': {},\n",
      "            'species': [{'element': 'O', 'occu': 1.0}],\n",
      "            'xyz': [6.709573605285299, 2.68648603733878, 1.1121368028065006]},\n",
      "           {'abc': [0.66436593, 0.72841311, 0.235084],\n",
      "            'label': 'O',\n",
      "            'properties': {},\n",
      "            'species': [{'element': 'O', 'occu': 1.0}],\n",
      "            'xyz': [6.634155545371349, 8.72594399738979, 1.1539704656720007]},\n",
      "           {'abc': [0.32808823, 0.2757423, 0.77347458],\n",
      "            'label': 'O',\n",
      "            'properties': {},\n",
      "            'species': [{'element': 'O', 'occu': 1.0}],\n",
      "            'xyz': [3.2761889978698497, 3.3032242754546997, 3.79679953237164]},\n",
      "           {'abc': [0.33564446, 0.77157604, 0.76496121],\n",
      "            'label': 'O',\n",
      "            'properties': {},\n",
      "            'species': [{'element': 'O', 'occu': 1.0}],\n",
      "            'xyz': [3.3516432059996992, 9.24300952623956, 3.7550094592771806]},\n",
      "           {'abc': [0.33034646, 0.47707366, 0.77559839],\n",
      "            'label': 'O',\n",
      "            'properties': {},\n",
      "            'species': [{'element': 'O', 'occu': 1.0}],\n",
      "            'xyz': [3.2987389938896996, 5.71505095479374, 3.80722480169962]},\n",
      "           {'abc': [0.32466869, 0.97296852, 0.7854647],\n",
      "            'label': 'O',\n",
      "            'properties': {},\n",
      "            'species': [{'element': 'O', 'occu': 1.0}],\n",
      "            'xyz': [3.242042514389549, 11.655568385834279, 3.855656129842601]},\n",
      "           {'abc': [0.94871352, 0.12439303, 0.356676],\n",
      "            'label': 'O',\n",
      "            'properties': {},\n",
      "            'species': [{'element': 'O', 'occu': 1.0}],\n",
      "            'xyz': [9.4735638530964, 1.49015249525867, 1.7508361684080005]},\n",
      "           {'abc': [0.95007238, 0.62618442, 0.35112574],\n",
      "            'label': 'O',\n",
      "            'properties': {},\n",
      "            'species': [{'element': 'O', 'occu': 1.0}],\n",
      "            'xyz': [9.487133014604101, 7.501306752919379, 1.7235912852309212]},\n",
      "           {'abc': [0.44813727, 0.12481233, 0.14343696],\n",
      "            'label': 'O',\n",
      "            'properties': {},\n",
      "            'species': [{'element': 'O', 'occu': 1.0}],\n",
      "            'xyz': [4.47496209635265, 1.49517545306637, 0.7040973248956803]},\n",
      "           {'abc': [0.44887226, 0.62780239, 0.16278522],\n",
      "            'label': 'O',\n",
      "            'properties': {},\n",
      "            'species': [{'element': 'O', 'occu': 1.0}],\n",
      "            'xyz': [4.4823014823206995, 7.520689044939711, 0.7990732509567607]},\n",
      "           {'abc': [0.55185986, 0.37518589, 0.85660549],\n",
      "            'label': 'O',\n",
      "            'properties': {},\n",
      "            'species': [{'element': 'O', 'occu': 1.0}],\n",
      "            'xyz': [5.5107042447026995, 4.49449772362121, 4.2048690518814205]},\n",
      "           {'abc': [0.55114411, 0.87218301, 0.83716834],\n",
      "            'label': 'O',\n",
      "            'properties': {},\n",
      "            'species': [{'element': 'O', 'occu': 1.0}],\n",
      "            'xyz': [5.503556983506448, 10.44821955598089, 4.10945678632172]},\n",
      "           {'abc': [0.62278897, 0.12473732, 0.77321391],\n",
      "            'label': 'O',\n",
      "            'properties': {},\n",
      "            'species': [{'element': 'O', 'occu': 1.0}],\n",
      "            'xyz': [6.21898070378415, 1.4942768790974799, 3.79551996642378]},\n",
      "           {'abc': [0.61445738, 0.63179645, 0.7690314],\n",
      "            'label': 'O',\n",
      "            'properties': {},\n",
      "            'species': [{'element': 'O', 'occu': 1.0}],\n",
      "            'xyz': [6.135783987179099, 7.568535443369049, 3.774989037001201]},\n",
      "           {'abc': [0.66965608, 0.02293035, 0.22442927],\n",
      "            'label': 'O',\n",
      "            'properties': {},\n",
      "            'species': [{'element': 'O', 'occu': 1.0}],\n",
      "            'xyz': [6.6869813697756, 0.27469158255614995, 1.1016689745466604]},\n",
      "           {'abc': [0.6753369, 0.52702658, 0.2145805],\n",
      "            'label': 'O',\n",
      "            'properties': {},\n",
      "            'species': [{'element': 'O', 'occu': 1.0}],\n",
      "            'xyz': [6.7437083056455, 6.31345641515962, 1.0533237460190008]},\n",
      "           {'abc': [0.17185581, 0.22472053, 0.27341747],\n",
      "            'label': 'O',\n",
      "            'properties': {},\n",
      "            'species': [{'element': 'O', 'occu': 1.0}],\n",
      "            'xyz': [1.7160997026379496, 2.6920146451561697, 1.34214019320226]},\n",
      "           {'abc': [0.1737996, 0.72670265, 0.27579828],\n",
      "            'label': 'O',\n",
      "            'properties': {},\n",
      "            'species': [{'element': 'O', 'occu': 1.0}],\n",
      "            'xyz': [1.7355097967219995, 8.70545373168085, 1.3538270133362407]}]}\n"
     ]
    }
   ],
   "source": [
    "pprint(json_doc)"
   ]
  },
  {
   "cell_type": "code",
   "execution_count": 9,
   "metadata": {
    "scrolled": true
   },
   "outputs": [
    {
     "name": "stdout",
     "output_type": "stream",
     "text": [
      "Full Formula (Li1 Fe8 P8 O32)\n",
      "Reduced Formula: LiFe8(PO4)8\n",
      "abc   :   9.985695  11.979389   4.908758\n",
      "angles:  90.000000  90.000000  90.000000\n",
      "Sites (49)\n",
      "  #  SP           a         b         c\n",
      "---  ----  --------  --------  --------\n",
      "  0  Li    0.500046  0.750012  0.500012\n",
      "  1  Fe    0.774467  0.126064  0.529933\n",
      "  2  Fe    0.779089  0.622021  0.530516\n",
      "  3  Fe    0.725841  0.372833  0.02997\n",
      "  4  Fe    0.728394  0.878594  0.027979\n",
      "  5  Fe    0.274137  0.127176  0.97014\n",
      "  6  Fe    0.271657  0.621427  0.971883\n",
      "  7  Fe    0.225519  0.373944  0.470117\n",
      "  8  Fe    0.220893  0.877967  0.469455\n",
      "  9  P     0.09893   0.124712  0.419093\n",
      " 10  P     0.100163  0.626274  0.418052\n",
      " 11  P     0.401588  0.375536  0.919163\n",
      " 12  P     0.402134  0.873778  0.92012\n",
      " 13  P     0.598415  0.124466  0.080839\n",
      " 14  P     0.597883  0.62622   0.079886\n",
      " 15  P     0.901071  0.375284  0.580933\n",
      " 16  P     0.89981   0.873726  0.581856\n",
      " 17  O     0.123151  0.125049  0.726639\n",
      " 18  O     0.121794  0.62603   0.726401\n",
      " 19  O     0.828153  0.275272  0.726643\n",
      " 20  O     0.82617   0.773299  0.724154\n",
      " 21  O     0.82779   0.476243  0.72384\n",
      " 22  O     0.826968  0.974596  0.724243\n",
      " 23  O     0.876852  0.374936  0.273406\n",
      " 24  O     0.878211  0.873972  0.273479\n",
      " 25  O     0.051293  0.375603  0.643349\n",
      " 26  O     0.049869  0.873824  0.648839\n",
      " 27  O     0.377223  0.375274  0.226779\n",
      " 28  O     0.385533  0.868192  0.230985\n",
      " 29  O     0.172219  0.023758  0.276212\n",
      " 30  O     0.173012  0.525408  0.275679\n",
      " 31  O     0.671919  0.224259  0.226562\n",
      " 32  O     0.664366  0.728413  0.235084\n",
      " 33  O     0.328088  0.275742  0.773475\n",
      " 34  O     0.335644  0.771576  0.764961\n",
      " 35  O     0.330346  0.477074  0.775598\n",
      " 36  O     0.324669  0.972969  0.785465\n",
      " 37  O     0.948714  0.124393  0.356676\n",
      " 38  O     0.950072  0.626184  0.351126\n",
      " 39  O     0.448137  0.124812  0.143437\n",
      " 40  O     0.448872  0.627802  0.162785\n",
      " 41  O     0.55186   0.375186  0.856605\n",
      " 42  O     0.551144  0.872183  0.837168\n",
      " 43  O     0.622789  0.124737  0.773214\n",
      " 44  O     0.614457  0.631796  0.769031\n",
      " 45  O     0.669656  0.02293   0.224429\n",
      " 46  O     0.675337  0.527027  0.214581\n",
      " 47  O     0.171856  0.224721  0.273417\n",
      " 48  O     0.1738    0.726703  0.275798\n"
     ]
    }
   ],
   "source": [
    "my_test_struct = Structure.from_dict(json_doc)\n",
    "print(my_test_struct)"
   ]
  },
  {
   "cell_type": "markdown",
   "metadata": {
    "tags": []
   },
   "source": [
    "## Modifying a Structure"
   ]
  },
  {
   "cell_type": "markdown",
   "metadata": {},
   "source": [
    "- Structure.insert()\n",
    "- Structure.remove_sites()\n",
    "- Structure.remove_species()"
   ]
  },
  {
   "cell_type": "code",
   "execution_count": 10,
   "metadata": {},
   "outputs": [],
   "source": [
    "my_original_test_structure = my_test_struct.copy()"
   ]
  },
  {
   "cell_type": "code",
   "execution_count": 11,
   "metadata": {
    "scrolled": true
   },
   "outputs": [
    {
     "name": "stdout",
     "output_type": "stream",
     "text": [
      "Li [0.50004626 0.75001246 0.50001196]\n",
      "Fe [0.77446684 0.12606367 0.52993346]\n",
      "Fe [0.77908884 0.62202103 0.53051572]\n",
      "Fe [0.72584123 0.37283343 0.02996993]\n",
      "Fe [0.7283937  0.87859409 0.02797867]\n",
      "Fe [0.2741367  0.127176   0.97013987]\n",
      "Fe [0.27165748 0.62142731 0.97188259]\n",
      "Fe [0.22551889 0.37394422 0.47011741]\n",
      "Fe [0.22089287 0.87796672 0.46945527]\n",
      "P [0.09892995 0.12471209 0.41909348]\n",
      "P [0.1001631  0.62627406 0.41805221]\n",
      "P [0.40158829 0.37553614 0.91916325]\n",
      "P [0.40213438 0.87377838 0.9201196 ]\n",
      "P [0.59841459 0.1244664  0.08083875]\n",
      "P [0.59788326 0.6262198  0.07988595]\n",
      "P [0.90107119 0.37528365 0.58093274]\n",
      "P [0.89981032 0.87372628 0.58185648]\n",
      "O [0.12315076 0.12504887 0.72663924]\n",
      "O [0.12179442 0.62603041 0.72640058]\n",
      "O [0.82815327 0.27527193 0.72664263]\n",
      "O [0.82617024 0.77329938 0.72415401]\n",
      "O [0.82778994 0.47624281 0.72383966]\n",
      "O [0.82696757 0.9745965  0.72424291]\n",
      "O [0.87685202 0.37493641 0.27340646]\n",
      "O [0.87821071 0.87397235 0.27347929]\n",
      "O [0.05129274 0.37560252 0.64334904]\n",
      "O [0.04986918 0.87382387 0.64883871]\n",
      "O [0.37722255 0.37527357 0.22677877]\n",
      "O [0.38553337 0.86819232 0.23098482]\n",
      "O [0.17221914 0.02375816 0.27621224]\n",
      "O [0.17301177 0.52540759 0.27567911]\n",
      "O [0.67191854 0.22425902 0.22656175]\n",
      "O [0.66436593 0.72841311 0.235084  ]\n",
      "O [0.32808823 0.2757423  0.77347458]\n",
      "O [0.33564446 0.77157604 0.76496121]\n",
      "O [0.33034646 0.47707366 0.77559839]\n",
      "O [0.32466869 0.97296852 0.7854647 ]\n",
      "O [0.94871352 0.12439303 0.356676  ]\n",
      "O [0.95007238 0.62618442 0.35112574]\n",
      "O [0.44813727 0.12481233 0.14343696]\n",
      "O [0.44887226 0.62780239 0.16278522]\n",
      "O [0.55185986 0.37518589 0.85660549]\n",
      "O [0.55114411 0.87218301 0.83716834]\n",
      "O [0.62278897 0.12473732 0.77321391]\n",
      "O [0.61445738 0.63179645 0.7690314 ]\n",
      "O [0.66965608 0.02293035 0.22442927]\n",
      "O [0.6753369  0.52702658 0.2145805 ]\n",
      "O [0.17185581 0.22472053 0.27341747]\n",
      "O [0.1737996  0.72670265 0.27579828]\n"
     ]
    }
   ],
   "source": [
    "for site in my_test_struct:\n",
    "    print(site.specie, site.frac_coords)"
   ]
  },
  {
   "cell_type": "code",
   "execution_count": 12,
   "metadata": {
    "scrolled": true,
    "tags": []
   },
   "outputs": [
    {
     "name": "stdout",
     "output_type": "stream",
     "text": [
      "Full Formula (Na1 Li1 Fe8 P8 O32)\n",
      "Reduced Formula: NaLiFe8(PO4)8\n",
      "abc   :   9.985695  11.979389   4.908758\n",
      "angles:  90.000000  90.000000  90.000000\n",
      "Sites (50)\n",
      "  #  SP           a         b         c\n",
      "---  ----  --------  --------  --------\n",
      "  0  Li    0.500046  0.750012  0.500012\n",
      "  1  Na    0         0.2       0\n",
      "  2  Fe    0.774467  0.126064  0.529933\n",
      "  3  Fe    0.779089  0.622021  0.530516\n",
      "  4  Fe    0.725841  0.372833  0.02997\n",
      "  5  Fe    0.728394  0.878594  0.027979\n",
      "  6  Fe    0.274137  0.127176  0.97014\n",
      "  7  Fe    0.271657  0.621427  0.971883\n",
      "  8  Fe    0.225519  0.373944  0.470117\n",
      "  9  Fe    0.220893  0.877967  0.469455\n",
      " 10  P     0.09893   0.124712  0.419093\n",
      " 11  P     0.100163  0.626274  0.418052\n",
      " 12  P     0.401588  0.375536  0.919163\n",
      " 13  P     0.402134  0.873778  0.92012\n",
      " 14  P     0.598415  0.124466  0.080839\n",
      " 15  P     0.597883  0.62622   0.079886\n",
      " 16  P     0.901071  0.375284  0.580933\n",
      " 17  P     0.89981   0.873726  0.581856\n",
      " 18  O     0.123151  0.125049  0.726639\n",
      " 19  O     0.121794  0.62603   0.726401\n",
      " 20  O     0.828153  0.275272  0.726643\n",
      " 21  O     0.82617   0.773299  0.724154\n",
      " 22  O     0.82779   0.476243  0.72384\n",
      " 23  O     0.826968  0.974596  0.724243\n",
      " 24  O     0.876852  0.374936  0.273406\n",
      " 25  O     0.878211  0.873972  0.273479\n",
      " 26  O     0.051293  0.375603  0.643349\n",
      " 27  O     0.049869  0.873824  0.648839\n",
      " 28  O     0.377223  0.375274  0.226779\n",
      " 29  O     0.385533  0.868192  0.230985\n",
      " 30  O     0.172219  0.023758  0.276212\n",
      " 31  O     0.173012  0.525408  0.275679\n",
      " 32  O     0.671919  0.224259  0.226562\n",
      " 33  O     0.664366  0.728413  0.235084\n",
      " 34  O     0.328088  0.275742  0.773475\n",
      " 35  O     0.335644  0.771576  0.764961\n",
      " 36  O     0.330346  0.477074  0.775598\n",
      " 37  O     0.324669  0.972969  0.785465\n",
      " 38  O     0.948714  0.124393  0.356676\n",
      " 39  O     0.950072  0.626184  0.351126\n",
      " 40  O     0.448137  0.124812  0.143437\n",
      " 41  O     0.448872  0.627802  0.162785\n",
      " 42  O     0.55186   0.375186  0.856605\n",
      " 43  O     0.551144  0.872183  0.837168\n",
      " 44  O     0.622789  0.124737  0.773214\n",
      " 45  O     0.614457  0.631796  0.769031\n",
      " 46  O     0.669656  0.02293   0.224429\n",
      " 47  O     0.675337  0.527027  0.214581\n",
      " 48  O     0.171856  0.224721  0.273417\n",
      " 49  O     0.1738    0.726703  0.275798\n"
     ]
    }
   ],
   "source": [
    "my_test_struct.insert(1,'Na',[0,0.2,0])\n",
    "print(my_test_struct)"
   ]
  },
  {
   "cell_type": "code",
   "execution_count": 13,
   "metadata": {},
   "outputs": [
    {
     "name": "stdout",
     "output_type": "stream",
     "text": [
      "Li1 Na1 Fe8 P8 O32\n"
     ]
    }
   ],
   "source": [
    "print(my_test_struct.composition)"
   ]
  },
  {
   "cell_type": "code",
   "execution_count": 15,
   "metadata": {
    "scrolled": true,
    "tags": []
   },
   "outputs": [
    {
     "name": "stdout",
     "output_type": "stream",
     "text": [
      "Full Formula (Li1 Fe8 P8 O32)\n",
      "Reduced Formula: LiFe8(PO4)8\n",
      "abc   :   9.985695  11.979389   4.908758\n",
      "angles:  90.000000  90.000000  90.000000\n",
      "Sites (49)\n",
      "  #  SP           a         b         c\n",
      "---  ----  --------  --------  --------\n",
      "  0  Li    0.500046  0.750012  0.500012\n",
      "  1  Fe    0.774467  0.126064  0.529933\n",
      "  2  Fe    0.779089  0.622021  0.530516\n",
      "  3  Fe    0.725841  0.372833  0.02997\n",
      "  4  Fe    0.728394  0.878594  0.027979\n",
      "  5  Fe    0.274137  0.127176  0.97014\n",
      "  6  Fe    0.271657  0.621427  0.971883\n",
      "  7  Fe    0.225519  0.373944  0.470117\n",
      "  8  Fe    0.220893  0.877967  0.469455\n",
      "  9  P     0.09893   0.124712  0.419093\n",
      " 10  P     0.100163  0.626274  0.418052\n",
      " 11  P     0.401588  0.375536  0.919163\n",
      " 12  P     0.402134  0.873778  0.92012\n",
      " 13  P     0.598415  0.124466  0.080839\n",
      " 14  P     0.597883  0.62622   0.079886\n",
      " 15  P     0.901071  0.375284  0.580933\n",
      " 16  P     0.89981   0.873726  0.581856\n",
      " 17  O     0.123151  0.125049  0.726639\n",
      " 18  O     0.121794  0.62603   0.726401\n",
      " 19  O     0.828153  0.275272  0.726643\n",
      " 20  O     0.82617   0.773299  0.724154\n",
      " 21  O     0.82779   0.476243  0.72384\n",
      " 22  O     0.826968  0.974596  0.724243\n",
      " 23  O     0.876852  0.374936  0.273406\n",
      " 24  O     0.878211  0.873972  0.273479\n",
      " 25  O     0.051293  0.375603  0.643349\n",
      " 26  O     0.049869  0.873824  0.648839\n",
      " 27  O     0.377223  0.375274  0.226779\n",
      " 28  O     0.385533  0.868192  0.230985\n",
      " 29  O     0.172219  0.023758  0.276212\n",
      " 30  O     0.173012  0.525408  0.275679\n",
      " 31  O     0.671919  0.224259  0.226562\n",
      " 32  O     0.664366  0.728413  0.235084\n",
      " 33  O     0.328088  0.275742  0.773475\n",
      " 34  O     0.335644  0.771576  0.764961\n",
      " 35  O     0.330346  0.477074  0.775598\n",
      " 36  O     0.324669  0.972969  0.785465\n",
      " 37  O     0.948714  0.124393  0.356676\n",
      " 38  O     0.950072  0.626184  0.351126\n",
      " 39  O     0.448137  0.124812  0.143437\n",
      " 40  O     0.448872  0.627802  0.162785\n",
      " 41  O     0.55186   0.375186  0.856605\n",
      " 42  O     0.551144  0.872183  0.837168\n",
      " 43  O     0.622789  0.124737  0.773214\n",
      " 44  O     0.614457  0.631796  0.769031\n",
      " 45  O     0.669656  0.02293   0.224429\n",
      " 46  O     0.675337  0.527027  0.214581\n",
      " 47  O     0.171856  0.224721  0.273417\n",
      " 48  O     0.1738    0.726703  0.275798\n"
     ]
    }
   ],
   "source": [
    "my_test_struct.remove_sites([1])\n",
    "print(my_test_struct)"
   ]
  },
  {
   "cell_type": "code",
   "execution_count": 16,
   "metadata": {},
   "outputs": [
    {
     "name": "stdout",
     "output_type": "stream",
     "text": [
      "Fe8 P8 O32\n"
     ]
    }
   ],
   "source": [
    "my_test_struct.remove_species(['Li'])\n",
    "print(my_test_struct.composition)"
   ]
  },
  {
   "cell_type": "markdown",
   "metadata": {
    "tags": []
   },
   "source": [
    "## Storing One Structure"
   ]
  },
  {
   "cell_type": "code",
   "execution_count": 18,
   "metadata": {},
   "outputs": [],
   "source": [
    "my_test_struct.to(filename=\"my_test_struct.json\");"
   ]
  },
  {
   "cell_type": "markdown",
   "metadata": {
    "tags": []
   },
   "source": [
    "## Storing Multiple Structures"
   ]
  },
  {
   "cell_type": "code",
   "execution_count": 19,
   "metadata": {},
   "outputs": [],
   "source": [
    "test_structs_doc = {'original':my_original_test_structure.as_dict(),\n",
    "                   'modified:': my_test_struct.as_dict()}"
   ]
  },
  {
   "cell_type": "code",
   "execution_count": 20,
   "metadata": {},
   "outputs": [],
   "source": [
    "with open('test_structures_doc.json','w') as json_file:\n",
    "    json.dump(test_structs_doc,json_file)"
   ]
  },
  {
   "cell_type": "markdown",
   "metadata": {},
   "source": [
    "# Excercises"
   ]
  },
  {
   "cell_type": "markdown",
   "metadata": {},
   "source": [
    "Please make three structures from \"CoO2_lithiated.json\"\n",
    "1. One lithiated structure (composition Li6 Co6 O12)\n",
    "1. One sodiated structure with 2 Na ions occupying the Li sites(composition: Na2 Co6 O12)\n",
    "1. One empty structure (composition: Co6 O12)\n",
    "\n",
    "- Export the above structures and look at them in VESTA\n",
    "- Save all the structures in a json file\n",
    "\n",
    "Note: There are multiple ways to do it"
   ]
  },
  {
   "cell_type": "markdown",
   "metadata": {
    "tags": []
   },
   "source": [
    "## Additional functions"
   ]
  },
  {
   "cell_type": "markdown",
   "metadata": {},
   "source": [
    "If you are comfortable with the functions covered above and would like to explore some other functions that also can be used to do it:"
   ]
  },
  {
   "cell_type": "markdown",
   "metadata": {},
   "source": [
    "`Structure.replace_species()`\n",
    "`Structure.replace()`\n",
    "`Structure.append()`\n",
    "`Structure.indices_from_symbol()`\n",
    "Structure.from_sites()"
   ]
  },
  {
   "cell_type": "code",
   "execution_count": null,
   "metadata": {},
   "outputs": [],
   "source": []
  }
 ],
 "metadata": {
  "kernelspec": {
   "display_name": "Python 3 (ipykernel)",
   "language": "python",
   "name": "python3"
  },
  "language_info": {
   "codemirror_mode": {
    "name": "ipython",
    "version": 3
   },
   "file_extension": ".py",
   "mimetype": "text/x-python",
   "name": "python",
   "nbconvert_exporter": "python",
   "pygments_lexer": "ipython3",
   "version": "3.9.13"
  }
 },
 "nbformat": 4,
 "nbformat_minor": 4
}
