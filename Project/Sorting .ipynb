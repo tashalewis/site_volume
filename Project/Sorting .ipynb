{
 "cells": [
  {
   "cell_type": "markdown",
   "id": "8e1b4edf-e9df-4094-a969-213584eb202c",
   "metadata": {},
   "source": [
    "## Site Volume Dictionary \n",
    "By: Tasha Lewis\n",
    "01/10/2023"
   ]
  },
  {
   "cell_type": "code",
   "execution_count": 1,
   "id": "1b1df9a8-1c47-489a-84d0-7fe58d27eb49",
   "metadata": {},
   "outputs": [
    {
     "name": "stderr",
     "output_type": "stream",
     "text": [
      "/Users/tashalewis/opt/anaconda3/envs/cms/lib/python3.9/site-packages/pymatgen/analysis/phase_diagram.py:26: TqdmExperimentalWarning: Using `tqdm.autonotebook.tqdm` in notebook mode. Use `tqdm.tqdm` instead to force console mode (e.g. in jupyter console)\n",
      "  from tqdm.autonotebook import tqdm\n",
      "/Users/tashalewis/opt/anaconda3/envs/cms/lib/python3.9/site-packages/mp_api/client/client.py:139: UserWarning: mpcontribs-client not installed. Install the package to query MPContribs data, or construct pourbaix diagrams: 'pip install mpcontribs-client'\n",
      "  warnings.warn(\"mpcontribs-client not installed. \"\n",
      "/Users/tashalewis/opt/anaconda3/envs/cms/lib/python3.9/site-packages/pymatgen/analysis/path_finder.py:37: FutureWarning: This code has been superseded by pymatgen.analysis.neb in the separate add-on packagepymatgen-diffusion. This module here is retained for backwards compatibility. It will be removed from2022.1.1.\n",
      "  warnings.warn(\n"
     ]
    }
   ],
   "source": [
    "from pymatgen.core import Structure, Element, Lattice, PeriodicSite\n",
    "from pymatgen.ext.matproj import MPRester\n",
    "mpr = MPRester()\n",
    "from pymatgen.analysis.diffusion.neb.full_path_mapper import MigrationGraph\n",
    "from pprint import pprint\n",
    "import numpy as np\n",
    "from pydash import get"
   ]
  },
  {
   "cell_type": "code",
   "execution_count": 3,
   "id": "429834b3-6af6-4f8e-ba5d-9cfef58f432e",
   "metadata": {},
   "outputs": [],
   "source": [
    "from maggma.stores.advanced_stores import MongograntStore\n",
    "from maggma.stores.compound_stores import ConcatStore"
   ]
  },
  {
   "cell_type": "code",
   "execution_count": 4,
   "id": "f469ffdd-d8b6-4c27-b1d0-1f706fb78ed8",
   "metadata": {},
   "outputs": [],
   "source": [
    "from pymatgen.core import Structure\n",
    "from pymatgen.analysis.local_env import VoronoiNN, CrystalNN\n",
    "vnn = VoronoiNN()\n",
    "cnn = CrystalNN()\n",
    "from pymatgen.analysis.structure_matcher import StructureMatcher\n",
    "sm = StructureMatcher()"
   ]
  },
  {
   "cell_type": "markdown",
   "id": "33aa37ac-0ada-4b34-8308-a38c236bdeda",
   "metadata": {},
   "source": [
    "### Connect to Databases"
   ]
  },
  {
   "cell_type": "code",
   "execution_count": 5,
   "id": "82cd3d9a-41b3-4220-a75d-9881e3cbba4a",
   "metadata": {},
   "outputs": [
    {
     "ename": "ConfigurationError",
     "evalue": "Unknown option username",
     "output_type": "error",
     "traceback": [
      "\u001b[0;31m---------------------------------------------------------------------------\u001b[0m",
      "\u001b[0;31mConfigurationError\u001b[0m                        Traceback (most recent call last)",
      "Input \u001b[0;32mIn [5]\u001b[0m, in \u001b[0;36m<cell line: 2>\u001b[0;34m()\u001b[0m\n\u001b[1;32m      1\u001b[0m materials \u001b[38;5;241m=\u001b[39m MongograntStore(\u001b[38;5;124m\"\u001b[39m\u001b[38;5;124mro:mongodb07-ext.nersc.gov/fw_acr_mv\u001b[39m\u001b[38;5;124m\"\u001b[39m, \u001b[38;5;124m\"\u001b[39m\u001b[38;5;124mmaterials_2022\u001b[39m\u001b[38;5;124m\"\u001b[39m, key\u001b[38;5;241m=\u001b[39m\u001b[38;5;124m\"\u001b[39m\u001b[38;5;124mtask_id\u001b[39m\u001b[38;5;124m\"\u001b[39m)\n\u001b[0;32m----> 2\u001b[0m \u001b[43mmaterials\u001b[49m\u001b[38;5;241;43m.\u001b[39;49m\u001b[43mconnect\u001b[49m\u001b[43m(\u001b[49m\u001b[43m)\u001b[49m\n",
      "File \u001b[0;32m~/opt/anaconda3/envs/cms/lib/python3.9/site-packages/maggma/stores/mongolike.py:177\u001b[0m, in \u001b[0;36mMongoStore.connect\u001b[0;34m(self, force_reset)\u001b[0m\n\u001b[1;32m    173\u001b[0m     \u001b[38;5;28mself\u001b[39m\u001b[38;5;241m.\u001b[39mssh_tunnel\u001b[38;5;241m.\u001b[39mstart()\n\u001b[1;32m    174\u001b[0m     host, port \u001b[38;5;241m=\u001b[39m \u001b[38;5;28mself\u001b[39m\u001b[38;5;241m.\u001b[39mssh_tunnel\u001b[38;5;241m.\u001b[39mlocal_address\n\u001b[1;32m    176\u001b[0m conn: MongoClient \u001b[38;5;241m=\u001b[39m (\n\u001b[0;32m--> 177\u001b[0m     \u001b[43mMongoClient\u001b[49m\u001b[43m(\u001b[49m\n\u001b[1;32m    178\u001b[0m \u001b[43m        \u001b[49m\u001b[43mhost\u001b[49m\u001b[38;5;241;43m=\u001b[39;49m\u001b[43mhost\u001b[49m\u001b[43m,\u001b[49m\n\u001b[1;32m    179\u001b[0m \u001b[43m        \u001b[49m\u001b[43mport\u001b[49m\u001b[38;5;241;43m=\u001b[39;49m\u001b[43mport\u001b[49m\u001b[43m,\u001b[49m\n\u001b[1;32m    180\u001b[0m \u001b[43m        \u001b[49m\u001b[43musername\u001b[49m\u001b[38;5;241;43m=\u001b[39;49m\u001b[38;5;28;43mself\u001b[39;49m\u001b[38;5;241;43m.\u001b[39;49m\u001b[43musername\u001b[49m\u001b[43m,\u001b[49m\n\u001b[1;32m    181\u001b[0m \u001b[43m        \u001b[49m\u001b[43mpassword\u001b[49m\u001b[38;5;241;43m=\u001b[39;49m\u001b[38;5;28;43mself\u001b[39;49m\u001b[38;5;241;43m.\u001b[39;49m\u001b[43mpassword\u001b[49m\u001b[43m,\u001b[49m\n\u001b[1;32m    182\u001b[0m \u001b[43m        \u001b[49m\u001b[43mauthSource\u001b[49m\u001b[38;5;241;43m=\u001b[39;49m\u001b[38;5;28;43mself\u001b[39;49m\u001b[38;5;241;43m.\u001b[39;49m\u001b[43mauth_source\u001b[49m\u001b[43m,\u001b[49m\n\u001b[1;32m    183\u001b[0m \u001b[43m        \u001b[49m\u001b[38;5;241;43m*\u001b[39;49m\u001b[38;5;241;43m*\u001b[39;49m\u001b[38;5;28;43mself\u001b[39;49m\u001b[38;5;241;43m.\u001b[39;49m\u001b[43mmongoclient_kwargs\u001b[49m\u001b[43m,\u001b[49m\n\u001b[1;32m    184\u001b[0m \u001b[43m    \u001b[49m\u001b[43m)\u001b[49m\n\u001b[1;32m    185\u001b[0m     \u001b[38;5;28;01mif\u001b[39;00m \u001b[38;5;28mself\u001b[39m\u001b[38;5;241m.\u001b[39musername \u001b[38;5;241m!=\u001b[39m \u001b[38;5;124m\"\u001b[39m\u001b[38;5;124m\"\u001b[39m\n\u001b[1;32m    186\u001b[0m     \u001b[38;5;28;01melse\u001b[39;00m MongoClient(host, port, \u001b[38;5;241m*\u001b[39m\u001b[38;5;241m*\u001b[39m\u001b[38;5;28mself\u001b[39m\u001b[38;5;241m.\u001b[39mmongoclient_kwargs)\n\u001b[1;32m    187\u001b[0m )\n\u001b[1;32m    188\u001b[0m db \u001b[38;5;241m=\u001b[39m conn[\u001b[38;5;28mself\u001b[39m\u001b[38;5;241m.\u001b[39mdatabase]\n\u001b[1;32m    189\u001b[0m \u001b[38;5;28mself\u001b[39m\u001b[38;5;241m.\u001b[39m_coll \u001b[38;5;241m=\u001b[39m db[\u001b[38;5;28mself\u001b[39m\u001b[38;5;241m.\u001b[39mcollection_name]\n",
      "File \u001b[0;32m~/opt/anaconda3/envs/cms/lib/python3.9/site-packages/pymongo/mongo_client.py:421\u001b[0m, in \u001b[0;36mMongoClient.__init__\u001b[0;34m(self, host, port, document_class, tz_aware, connect, **kwargs)\u001b[0m\n\u001b[1;32m    419\u001b[0m keyword_opts[\u001b[38;5;124m'\u001b[39m\u001b[38;5;124mconnect\u001b[39m\u001b[38;5;124m'\u001b[39m] \u001b[38;5;241m=\u001b[39m connect\n\u001b[1;32m    420\u001b[0m \u001b[38;5;66;03m# Validate all keyword options.\u001b[39;00m\n\u001b[0;32m--> 421\u001b[0m keyword_opts \u001b[38;5;241m=\u001b[39m \u001b[38;5;28;43mdict\u001b[39;49m\u001b[43m(\u001b[49m\u001b[43mcommon\u001b[49m\u001b[38;5;241;43m.\u001b[39;49m\u001b[43mvalidate\u001b[49m\u001b[43m(\u001b[49m\u001b[43mk\u001b[49m\u001b[43m,\u001b[49m\u001b[43m \u001b[49m\u001b[43mv\u001b[49m\u001b[43m)\u001b[49m\n\u001b[1;32m    422\u001b[0m \u001b[43m                    \u001b[49m\u001b[38;5;28;43;01mfor\u001b[39;49;00m\u001b[43m \u001b[49m\u001b[43mk\u001b[49m\u001b[43m,\u001b[49m\u001b[43m \u001b[49m\u001b[43mv\u001b[49m\u001b[43m \u001b[49m\u001b[38;5;129;43;01min\u001b[39;49;00m\u001b[43m \u001b[49m\u001b[43mkeyword_opts\u001b[49m\u001b[38;5;241;43m.\u001b[39;49m\u001b[43mitems\u001b[49m\u001b[43m(\u001b[49m\u001b[43m)\u001b[49m\u001b[43m)\u001b[49m\n\u001b[1;32m    423\u001b[0m opts\u001b[38;5;241m.\u001b[39mupdate(keyword_opts)\n\u001b[1;32m    424\u001b[0m \u001b[38;5;28mself\u001b[39m\u001b[38;5;241m.\u001b[39m__options \u001b[38;5;241m=\u001b[39m options \u001b[38;5;241m=\u001b[39m ClientOptions(\n\u001b[1;32m    425\u001b[0m     username, password, dbase, opts)\n",
      "File \u001b[0;32m~/opt/anaconda3/envs/cms/lib/python3.9/site-packages/pymongo/mongo_client.py:421\u001b[0m, in \u001b[0;36m<genexpr>\u001b[0;34m(.0)\u001b[0m\n\u001b[1;32m    419\u001b[0m keyword_opts[\u001b[38;5;124m'\u001b[39m\u001b[38;5;124mconnect\u001b[39m\u001b[38;5;124m'\u001b[39m] \u001b[38;5;241m=\u001b[39m connect\n\u001b[1;32m    420\u001b[0m \u001b[38;5;66;03m# Validate all keyword options.\u001b[39;00m\n\u001b[0;32m--> 421\u001b[0m keyword_opts \u001b[38;5;241m=\u001b[39m \u001b[38;5;28mdict\u001b[39m(\u001b[43mcommon\u001b[49m\u001b[38;5;241;43m.\u001b[39;49m\u001b[43mvalidate\u001b[49m\u001b[43m(\u001b[49m\u001b[43mk\u001b[49m\u001b[43m,\u001b[49m\u001b[43m \u001b[49m\u001b[43mv\u001b[49m\u001b[43m)\u001b[49m\n\u001b[1;32m    422\u001b[0m                     \u001b[38;5;28;01mfor\u001b[39;00m k, v \u001b[38;5;129;01min\u001b[39;00m keyword_opts\u001b[38;5;241m.\u001b[39mitems())\n\u001b[1;32m    423\u001b[0m opts\u001b[38;5;241m.\u001b[39mupdate(keyword_opts)\n\u001b[1;32m    424\u001b[0m \u001b[38;5;28mself\u001b[39m\u001b[38;5;241m.\u001b[39m__options \u001b[38;5;241m=\u001b[39m options \u001b[38;5;241m=\u001b[39m ClientOptions(\n\u001b[1;32m    425\u001b[0m     username, password, dbase, opts)\n",
      "File \u001b[0;32m~/opt/anaconda3/envs/cms/lib/python3.9/site-packages/pymongo/common.py:539\u001b[0m, in \u001b[0;36mvalidate\u001b[0;34m(option, value)\u001b[0m\n\u001b[1;32m    537\u001b[0m lower \u001b[38;5;241m=\u001b[39m option\u001b[38;5;241m.\u001b[39mlower()\n\u001b[1;32m    538\u001b[0m validator \u001b[38;5;241m=\u001b[39m VALIDATORS\u001b[38;5;241m.\u001b[39mget(lower, raise_config_error)\n\u001b[0;32m--> 539\u001b[0m value \u001b[38;5;241m=\u001b[39m \u001b[43mvalidator\u001b[49m\u001b[43m(\u001b[49m\u001b[43moption\u001b[49m\u001b[43m,\u001b[49m\u001b[43m \u001b[49m\u001b[43mvalue\u001b[49m\u001b[43m)\u001b[49m\n\u001b[1;32m    540\u001b[0m \u001b[38;5;28;01mreturn\u001b[39;00m lower, value\n",
      "File \u001b[0;32m~/opt/anaconda3/envs/cms/lib/python3.9/site-packages/pymongo/common.py:117\u001b[0m, in \u001b[0;36mraise_config_error\u001b[0;34m(key, dummy)\u001b[0m\n\u001b[1;32m    115\u001b[0m \u001b[38;5;28;01mdef\u001b[39;00m \u001b[38;5;21mraise_config_error\u001b[39m(key, dummy):\n\u001b[1;32m    116\u001b[0m     \u001b[38;5;124;03m\"\"\"Raise ConfigurationError with the given key name.\"\"\"\u001b[39;00m\n\u001b[0;32m--> 117\u001b[0m     \u001b[38;5;28;01mraise\u001b[39;00m ConfigurationError(\u001b[38;5;124m\"\u001b[39m\u001b[38;5;124mUnknown option \u001b[39m\u001b[38;5;132;01m%s\u001b[39;00m\u001b[38;5;124m\"\u001b[39m \u001b[38;5;241m%\u001b[39m (key,))\n",
      "\u001b[0;31mConfigurationError\u001b[0m: Unknown option username"
     ]
    }
   ],
   "source": [
    "materials = MongograntStore(\"ro:mongodb07-ext.nersc.gov/fw_acr_mv\", \"materials_2022\", key=\"task_id\")\n",
    "materials.connect()"
   ]
  },
  {
   "cell_type": "code",
   "execution_count": 5,
   "id": "835650b3-9dce-4d2a-9616-8e1daebb388a",
   "metadata": {},
   "outputs": [
    {
     "name": "stdout",
     "output_type": "stream",
     "text": [
      "No credentials for read:mongodb03.nersc.gov/fw_acr_mv found in local config\n",
      "Requesting credentials from https://grantmedb.materialsproject.org\n"
     ]
    },
    {
     "ename": "JSONDecodeError",
     "evalue": "Expecting value: line 1 column 1 (char 0)",
     "output_type": "error",
     "traceback": [
      "\u001b[0;31m---------------------------------------------------------------------------\u001b[0m",
      "\u001b[0;31mJSONDecodeError\u001b[0m                           Traceback (most recent call last)",
      "File \u001b[0;32m~/opt/anaconda3/envs/cms/lib/python3.9/site-packages/requests/models.py:971\u001b[0m, in \u001b[0;36mResponse.json\u001b[0;34m(self, **kwargs)\u001b[0m\n\u001b[1;32m    970\u001b[0m \u001b[38;5;28;01mtry\u001b[39;00m:\n\u001b[0;32m--> 971\u001b[0m     \u001b[38;5;28;01mreturn\u001b[39;00m \u001b[43mcomplexjson\u001b[49m\u001b[38;5;241;43m.\u001b[39;49m\u001b[43mloads\u001b[49m\u001b[43m(\u001b[49m\u001b[38;5;28;43mself\u001b[39;49m\u001b[38;5;241;43m.\u001b[39;49m\u001b[43mtext\u001b[49m\u001b[43m,\u001b[49m\u001b[43m \u001b[49m\u001b[38;5;241;43m*\u001b[39;49m\u001b[38;5;241;43m*\u001b[39;49m\u001b[43mkwargs\u001b[49m\u001b[43m)\u001b[49m\n\u001b[1;32m    972\u001b[0m \u001b[38;5;28;01mexcept\u001b[39;00m JSONDecodeError \u001b[38;5;28;01mas\u001b[39;00m e:\n\u001b[1;32m    973\u001b[0m     \u001b[38;5;66;03m# Catch JSON-related errors and raise as requests.JSONDecodeError\u001b[39;00m\n\u001b[1;32m    974\u001b[0m     \u001b[38;5;66;03m# This aliases json.JSONDecodeError and simplejson.JSONDecodeError\u001b[39;00m\n",
      "File \u001b[0;32m~/opt/anaconda3/envs/cms/lib/python3.9/json/__init__.py:346\u001b[0m, in \u001b[0;36mloads\u001b[0;34m(s, cls, object_hook, parse_float, parse_int, parse_constant, object_pairs_hook, **kw)\u001b[0m\n\u001b[1;32m    343\u001b[0m \u001b[38;5;28;01mif\u001b[39;00m (\u001b[38;5;28mcls\u001b[39m \u001b[38;5;129;01mis\u001b[39;00m \u001b[38;5;28;01mNone\u001b[39;00m \u001b[38;5;129;01mand\u001b[39;00m object_hook \u001b[38;5;129;01mis\u001b[39;00m \u001b[38;5;28;01mNone\u001b[39;00m \u001b[38;5;129;01mand\u001b[39;00m\n\u001b[1;32m    344\u001b[0m         parse_int \u001b[38;5;129;01mis\u001b[39;00m \u001b[38;5;28;01mNone\u001b[39;00m \u001b[38;5;129;01mand\u001b[39;00m parse_float \u001b[38;5;129;01mis\u001b[39;00m \u001b[38;5;28;01mNone\u001b[39;00m \u001b[38;5;129;01mand\u001b[39;00m\n\u001b[1;32m    345\u001b[0m         parse_constant \u001b[38;5;129;01mis\u001b[39;00m \u001b[38;5;28;01mNone\u001b[39;00m \u001b[38;5;129;01mand\u001b[39;00m object_pairs_hook \u001b[38;5;129;01mis\u001b[39;00m \u001b[38;5;28;01mNone\u001b[39;00m \u001b[38;5;129;01mand\u001b[39;00m \u001b[38;5;129;01mnot\u001b[39;00m kw):\n\u001b[0;32m--> 346\u001b[0m     \u001b[38;5;28;01mreturn\u001b[39;00m \u001b[43m_default_decoder\u001b[49m\u001b[38;5;241;43m.\u001b[39;49m\u001b[43mdecode\u001b[49m\u001b[43m(\u001b[49m\u001b[43ms\u001b[49m\u001b[43m)\u001b[49m\n\u001b[1;32m    347\u001b[0m \u001b[38;5;28;01mif\u001b[39;00m \u001b[38;5;28mcls\u001b[39m \u001b[38;5;129;01mis\u001b[39;00m \u001b[38;5;28;01mNone\u001b[39;00m:\n",
      "File \u001b[0;32m~/opt/anaconda3/envs/cms/lib/python3.9/json/decoder.py:337\u001b[0m, in \u001b[0;36mJSONDecoder.decode\u001b[0;34m(self, s, _w)\u001b[0m\n\u001b[1;32m    333\u001b[0m \u001b[38;5;124;03m\"\"\"Return the Python representation of ``s`` (a ``str`` instance\u001b[39;00m\n\u001b[1;32m    334\u001b[0m \u001b[38;5;124;03mcontaining a JSON document).\u001b[39;00m\n\u001b[1;32m    335\u001b[0m \n\u001b[1;32m    336\u001b[0m \u001b[38;5;124;03m\"\"\"\u001b[39;00m\n\u001b[0;32m--> 337\u001b[0m obj, end \u001b[38;5;241m=\u001b[39m \u001b[38;5;28;43mself\u001b[39;49m\u001b[38;5;241;43m.\u001b[39;49m\u001b[43mraw_decode\u001b[49m\u001b[43m(\u001b[49m\u001b[43ms\u001b[49m\u001b[43m,\u001b[49m\u001b[43m \u001b[49m\u001b[43midx\u001b[49m\u001b[38;5;241;43m=\u001b[39;49m\u001b[43m_w\u001b[49m\u001b[43m(\u001b[49m\u001b[43ms\u001b[49m\u001b[43m,\u001b[49m\u001b[43m \u001b[49m\u001b[38;5;241;43m0\u001b[39;49m\u001b[43m)\u001b[49m\u001b[38;5;241;43m.\u001b[39;49m\u001b[43mend\u001b[49m\u001b[43m(\u001b[49m\u001b[43m)\u001b[49m\u001b[43m)\u001b[49m\n\u001b[1;32m    338\u001b[0m end \u001b[38;5;241m=\u001b[39m _w(s, end)\u001b[38;5;241m.\u001b[39mend()\n",
      "File \u001b[0;32m~/opt/anaconda3/envs/cms/lib/python3.9/json/decoder.py:355\u001b[0m, in \u001b[0;36mJSONDecoder.raw_decode\u001b[0;34m(self, s, idx)\u001b[0m\n\u001b[1;32m    354\u001b[0m \u001b[38;5;28;01mexcept\u001b[39;00m \u001b[38;5;167;01mStopIteration\u001b[39;00m \u001b[38;5;28;01mas\u001b[39;00m err:\n\u001b[0;32m--> 355\u001b[0m     \u001b[38;5;28;01mraise\u001b[39;00m JSONDecodeError(\u001b[38;5;124m\"\u001b[39m\u001b[38;5;124mExpecting value\u001b[39m\u001b[38;5;124m\"\u001b[39m, s, err\u001b[38;5;241m.\u001b[39mvalue) \u001b[38;5;28;01mfrom\u001b[39;00m \u001b[38;5;28mNone\u001b[39m\n\u001b[1;32m    356\u001b[0m \u001b[38;5;28;01mreturn\u001b[39;00m obj, end\n",
      "\u001b[0;31mJSONDecodeError\u001b[0m: Expecting value: line 1 column 1 (char 0)",
      "\nDuring handling of the above exception, another exception occurred:\n",
      "\u001b[0;31mJSONDecodeError\u001b[0m                           Traceback (most recent call last)",
      "Input \u001b[0;32mIn [5]\u001b[0m, in \u001b[0;36m<cell line: 2>\u001b[0;34m()\u001b[0m\n\u001b[1;32m      1\u001b[0m \u001b[38;5;66;03m# material_id and task_ids\u001b[39;00m\n\u001b[0;32m----> 2\u001b[0m materials \u001b[38;5;241m=\u001b[39m \u001b[43mMongograntStore\u001b[49m\u001b[43m(\u001b[49m\u001b[38;5;124;43m\"\u001b[39;49m\u001b[38;5;124;43mro:mongodb03.nersc.gov/fw_acr_mv\u001b[39;49m\u001b[38;5;124;43m\"\u001b[39;49m\u001b[43m,\u001b[49m\u001b[43m \u001b[49m\u001b[38;5;124;43m\"\u001b[39;49m\u001b[38;5;124;43mmaterials_2022\u001b[39;49m\u001b[38;5;124;43m\"\u001b[39;49m\u001b[43m,\u001b[49m\u001b[43mkey\u001b[49m\u001b[38;5;241;43m=\u001b[39;49m\u001b[38;5;124;43m\"\u001b[39;49m\u001b[38;5;124;43mtask_id\u001b[39;49m\u001b[38;5;124;43m\"\u001b[39;49m\u001b[43m)\u001b[49m\n\u001b[1;32m      3\u001b[0m materials\u001b[38;5;241m.\u001b[39mconnect()\n\u001b[1;32m      5\u001b[0m \u001b[38;5;66;03m# \"material_ids\" & \"host_material_ids\" & \"insertion_material_ids\" \u001b[39;00m\n",
      "File \u001b[0;32m~/opt/anaconda3/envs/cms/lib/python3.9/site-packages/maggma/stores/advanced_stores.py:69\u001b[0m, in \u001b[0;36mMongograntStore.__init__\u001b[0;34m(self, mongogrant_spec, collection_name, mgclient_config_path, **kwargs)\u001b[0m\n\u001b[1;32m     62\u001b[0m     \u001b[38;5;28;01mraise\u001b[39;00m StoreError(\n\u001b[1;32m     63\u001b[0m         \u001b[38;5;124m\"\u001b[39m\u001b[38;5;124mMongograntStore does not accept \u001b[39m\u001b[38;5;124m\"\u001b[39m\n\u001b[1;32m     64\u001b[0m         \u001b[38;5;124m\"\u001b[39m\u001b[38;5;124musername, password, database, or host \u001b[39m\u001b[38;5;124m\"\u001b[39m\n\u001b[1;32m     65\u001b[0m         \u001b[38;5;124m\"\u001b[39m\u001b[38;5;124marguments. Use `mongogrant_spec`.\u001b[39m\u001b[38;5;124m\"\u001b[39m\n\u001b[1;32m     66\u001b[0m     )\n\u001b[1;32m     68\u001b[0m \u001b[38;5;28mself\u001b[39m\u001b[38;5;241m.\u001b[39mkwargs \u001b[38;5;241m=\u001b[39m kwargs\n\u001b[0;32m---> 69\u001b[0m _auth_info \u001b[38;5;241m=\u001b[39m \u001b[43mclient\u001b[49m\u001b[38;5;241;43m.\u001b[39;49m\u001b[43mget_db_auth_from_spec\u001b[49m\u001b[43m(\u001b[49m\u001b[38;5;28;43mself\u001b[39;49m\u001b[38;5;241;43m.\u001b[39;49m\u001b[43mmongogrant_spec\u001b[49m\u001b[43m)\u001b[49m\n\u001b[1;32m     70\u001b[0m \u001b[38;5;28msuper\u001b[39m(MongograntStore, \u001b[38;5;28mself\u001b[39m)\u001b[38;5;241m.\u001b[39m\u001b[38;5;21m__init__\u001b[39m(\n\u001b[1;32m     71\u001b[0m     host\u001b[38;5;241m=\u001b[39m_auth_info[\u001b[38;5;124m\"\u001b[39m\u001b[38;5;124mhost\u001b[39m\u001b[38;5;124m\"\u001b[39m],\n\u001b[1;32m     72\u001b[0m     database\u001b[38;5;241m=\u001b[39m_auth_info[\u001b[38;5;124m\"\u001b[39m\u001b[38;5;124mauthSource\u001b[39m\u001b[38;5;124m\"\u001b[39m],\n\u001b[0;32m   (...)\u001b[0m\n\u001b[1;32m     76\u001b[0m     \u001b[38;5;241m*\u001b[39m\u001b[38;5;241m*\u001b[39mkwargs,\n\u001b[1;32m     77\u001b[0m )\n",
      "File \u001b[0;32m~/opt/anaconda3/envs/cms/lib/python3.9/site-packages/mongogrant/client.py:262\u001b[0m, in \u001b[0;36mClient.get_db_auth_from_spec\u001b[0;34m(self, spec)\u001b[0m\n\u001b[1;32m    260\u001b[0m role, host_db \u001b[38;5;241m=\u001b[39m spec\u001b[38;5;241m.\u001b[39msplit(\u001b[38;5;124m'\u001b[39m\u001b[38;5;124m:\u001b[39m\u001b[38;5;124m'\u001b[39m, \u001b[38;5;241m1\u001b[39m)\n\u001b[1;32m    261\u001b[0m host, dbname_or_alias \u001b[38;5;241m=\u001b[39m host_db\u001b[38;5;241m.\u001b[39msplit(\u001b[38;5;124m'\u001b[39m\u001b[38;5;124m/\u001b[39m\u001b[38;5;124m'\u001b[39m, \u001b[38;5;241m1\u001b[39m)\n\u001b[0;32m--> 262\u001b[0m auth \u001b[38;5;241m=\u001b[39m \u001b[38;5;28;43mself\u001b[39;49m\u001b[38;5;241;43m.\u001b[39;49m\u001b[43mget_auth\u001b[49m\u001b[43m(\u001b[49m\u001b[43mhost\u001b[49m\u001b[43m,\u001b[49m\u001b[43m \u001b[49m\u001b[43mdbname_or_alias\u001b[49m\u001b[43m,\u001b[49m\u001b[43m \u001b[49m\u001b[43mrole\u001b[49m\u001b[43m)\u001b[49m\n\u001b[1;32m    263\u001b[0m \u001b[38;5;28;01mif\u001b[39;00m auth \u001b[38;5;129;01mis\u001b[39;00m \u001b[38;5;28;01mNone\u001b[39;00m:\n\u001b[1;32m    264\u001b[0m     \u001b[38;5;28;01mraise\u001b[39;00m AuthError(\u001b[38;5;124m\"\u001b[39m\u001b[38;5;124mNo valid auth credentials are accessible, either from \u001b[39m\u001b[38;5;124m\"\u001b[39m\n\u001b[1;32m    265\u001b[0m                     \u001b[38;5;124m\"\u001b[39m\u001b[38;5;124mlocal config or via remotes, to connect to \u001b[39m\u001b[38;5;124m\"\u001b[39m\n\u001b[1;32m    266\u001b[0m                     \u001b[38;5;124m\"\u001b[39m\u001b[38;5;124mdatabase.\u001b[39m\u001b[38;5;124m\"\u001b[39m)\n",
      "File \u001b[0;32m~/opt/anaconda3/envs/cms/lib/python3.9/site-packages/mongogrant/client.py:225\u001b[0m, in \u001b[0;36mClient.get_auth\u001b[0;34m(self, host, db, role, as_uri)\u001b[0m\n\u001b[1;32m    223\u001b[0m         \u001b[38;5;28;01mreturn\u001b[39;00m \u001b[38;5;28mself\u001b[39m\u001b[38;5;241m.\u001b[39mget_auth(host, db, role)\n\u001b[1;32m    224\u001b[0m     \u001b[38;5;28;01melse\u001b[39;00m:\n\u001b[0;32m--> 225\u001b[0m         \u001b[38;5;28mprint\u001b[39m(\u001b[38;5;124m\"\u001b[39m\u001b[38;5;132;01m{}\u001b[39;00m\u001b[38;5;124m\"\u001b[39m\u001b[38;5;241m.\u001b[39mformat(\u001b[43mrv\u001b[49m\u001b[38;5;241;43m.\u001b[39;49m\u001b[43mjson\u001b[49m\u001b[43m(\u001b[49m\u001b[43m)\u001b[49m))\n\u001b[1;32m    226\u001b[0m \u001b[38;5;28;01mreturn\u001b[39;00m \u001b[38;5;28;01mNone\u001b[39;00m\n",
      "File \u001b[0;32m~/opt/anaconda3/envs/cms/lib/python3.9/site-packages/requests/models.py:975\u001b[0m, in \u001b[0;36mResponse.json\u001b[0;34m(self, **kwargs)\u001b[0m\n\u001b[1;32m    971\u001b[0m     \u001b[38;5;28;01mreturn\u001b[39;00m complexjson\u001b[38;5;241m.\u001b[39mloads(\u001b[38;5;28mself\u001b[39m\u001b[38;5;241m.\u001b[39mtext, \u001b[38;5;241m*\u001b[39m\u001b[38;5;241m*\u001b[39mkwargs)\n\u001b[1;32m    972\u001b[0m \u001b[38;5;28;01mexcept\u001b[39;00m JSONDecodeError \u001b[38;5;28;01mas\u001b[39;00m e:\n\u001b[1;32m    973\u001b[0m     \u001b[38;5;66;03m# Catch JSON-related errors and raise as requests.JSONDecodeError\u001b[39;00m\n\u001b[1;32m    974\u001b[0m     \u001b[38;5;66;03m# This aliases json.JSONDecodeError and simplejson.JSONDecodeError\u001b[39;00m\n\u001b[0;32m--> 975\u001b[0m     \u001b[38;5;28;01mraise\u001b[39;00m RequestsJSONDecodeError(e\u001b[38;5;241m.\u001b[39mmsg, e\u001b[38;5;241m.\u001b[39mdoc, e\u001b[38;5;241m.\u001b[39mpos)\n",
      "\u001b[0;31mJSONDecodeError\u001b[0m: Expecting value: line 1 column 1 (char 0)"
     ]
    }
   ],
   "source": [
    "# material_id and task_ids\n",
    "materials = MongograntStore(\"ro:mongodb03.nersc.gov/fw_acr_mv\", \"materials_2022\",key=\"task_id\")\n",
    "materials.connect()\n",
    "\n",
    "# \"material_ids\" & \"host_material_ids\" & \"insertion_material_ids\" \n",
    "sgroup = MongograntStore(\"ro:mongodb03.nersc.gov/fw_acr_mv\",\"sgroups_2022\",key=\"_id\")\n",
    "sgroup.connect()\n",
    "\n",
    "# \"material_ids\" & \"host_structure\" & \"battery_id\" & \"entries_composition_summary\" \n",
    "insert_elec = MongograntStore(\"ro:mongodb03.nersc.gov/fw_acr_mv\",\"insertion_electrodes_2022\",key=\"_id\")\n",
    "insert_elec.connect()\n",
    "\n",
    "# \"battery_id\" & \"migration_graph\" & \"matrix_supercell_structure\" & \"inserted_ion_coords\n",
    "mig_graph = MongograntStore(\"ro:mongodb03.nersc.gov/fw_acr_mv\",\"migration_graph_2022\",key=\"task_id\")\n",
    "mig_graph.connect()\n",
    "\n",
    "aneba_store = MongograntStore(\"ro:mongodb03.nersc.gov/fw_acr_mv\", \"approx_neb_analysis\", key=\"wf_uuid\")\n",
    "aneba_store.connect()\n",
    "\n",
    "elec_store = MongograntStore(\"ro:mongodb03.nersc.gov/fw_acr_mv\",\"vw_elec\",key=\"battid\")\n",
    "elec_store.connect()\n",
    "\n",
    "# \"battery_id\" & \"host_structure\" & \"material_ids\" & \"migration_graph\" & \"inserted_ion_coords\"\n",
    "new_elec_store = MongograntStore(\"ro:mongodb03.nersc.gov/fw_acr_mv\",\"rank_electrodes_2022\")\n",
    "new_elec_store.connect()\n"
   ]
  },
  {
   "cell_type": "markdown",
   "id": "1cb8c9ca-9ddb-4b65-ad5d-d81f40eb5ad8",
   "metadata": {},
   "source": [
    "# Documents from approx_neb_analysis"
   ]
  },
  {
   "cell_type": "code",
   "execution_count": 6,
   "id": "641f23ce-0ba0-4ecc-a052-3dccd5439338",
   "metadata": {},
   "outputs": [],
   "source": [
    "aneba_doc_list = list(aneba_store.query({'battid':{'$regex':'Mg'}}))"
   ]
  },
  {
   "cell_type": "code",
   "execution_count": 6,
   "id": "f2b7ac16-a40a-4a72-90a8-2824c8b91559",
   "metadata": {},
   "outputs": [],
   "source": [
    "# aneba_doc_list"
   ]
  },
  {
   "cell_type": "code",
   "execution_count": 7,
   "id": "4d6de412-47d6-403a-ab67-cfe8899becd9",
   "metadata": {},
   "outputs": [
    {
     "data": {
      "text/plain": [
       "147"
      ]
     },
     "execution_count": 7,
     "metadata": {},
     "output_type": "execute_result"
    }
   ],
   "source": [
    "len(aneba_doc_list)"
   ]
  },
  {
   "cell_type": "code",
   "execution_count": 8,
   "id": "c6b423e6-59d1-4e44-99e9-5e804da7aebd",
   "metadata": {},
   "outputs": [
    {
     "data": {
      "text/plain": [
       "dict_keys(['0+1', '5+6', '3+4'])"
      ]
     },
     "execution_count": 8,
     "metadata": {},
     "output_type": "execute_result"
    }
   ],
   "source": [
    "aneba_doc_list[0]['data'].keys()"
   ]
  },
  {
   "cell_type": "code",
   "execution_count": 9,
   "id": "ad6f80fb-6d01-4605-8c65-9fd14016f333",
   "metadata": {},
   "outputs": [
    {
     "data": {
      "text/plain": [
       "'6827_Mg'"
      ]
     },
     "execution_count": 9,
     "metadata": {},
     "output_type": "execute_result"
    }
   ],
   "source": [
    "aneba_doc_list[0]['battid']"
   ]
  },
  {
   "cell_type": "markdown",
   "id": "6914cd17-f5fe-4468-b0ce-e23a59a0df7f",
   "metadata": {},
   "source": [
    "## Structures"
   ]
  },
  {
   "cell_type": "raw",
   "id": "86db9a6b-df5d-4a34-8778-8407816cce6c",
   "metadata": {},
   "source": [
    "for doc in aneba_doc_list:\n",
    "    battid = doc['battid']  # Old battery id\n",
    "    wf_uuid = doc['wf_uuid']\n",
    "    struct = Structure.from_dict(doc['host']['input'])\n",
    "    elements = list(struct.composition.as_dict().keys())\n",
    "    if elec_store.count({'battid':battid})>1:\n",
    "        print('more than one elec doc found for battid'+battid)\n",
    "        \n",
    "    elec_doc = elec_store.query_one({\"approx_neb_wf_uuid\":wf_uuid,'battid':battid})  # The old way to query with battery id and wf uuid\n",
    "    if elec_doc:\n",
    "        material_ids = [str(i) for i in elec_doc['material_ids']]   # get material ids\n",
    "        material_ids.extend(['js-'+i for i in material_ids])  \n",
    "        if new_elec_store.count({'material_ids':{'$in':material_ids},'elements':{'$all':elements}}) == 1:\n",
    "            elec_doc = new_elec_store.query_one({'material_ids':{'$in':material_ids},'elements':{'$all':elements}})\n",
    "            mg = MigrationGraph.from_dict(elec_doc['migration_graph'])   # get migration graph\n",
    "            print(\"structures don't match for \"+battid) if sm.fit(struct,mg.host_structure)==False else None\n",
    "        else:\n",
    "            print(str(new_elec_store.count({'material_ids':{'$in':material_ids},'elements':{'$all':elements}}))+ ' documents found for '+battid,elec_doc['formula_charge'])         \n",
    "    "
   ]
  },
  {
   "cell_type": "code",
   "execution_count": 17,
   "id": "e0ac3810-ba64-4e1b-ab99-6ffdda893053",
   "metadata": {},
   "outputs": [
    {
     "name": "stdout",
     "output_type": "stream",
     "text": [
      "49\n",
      "98\n",
      "147\n",
      "196\n",
      "245\n",
      "294\n",
      "343\n",
      "392\n",
      "441\n",
      "490\n",
      "539\n",
      "588\n",
      "637\n",
      "686\n",
      "735\n",
      "784\n",
      "833\n",
      "882\n",
      "931\n",
      "980\n",
      "1029\n",
      "1078\n",
      "1127\n",
      "1176\n",
      "1225\n",
      "1274\n",
      "1323\n",
      "1372\n",
      "1421\n",
      "1470\n",
      "1519\n",
      "1568\n",
      "1617\n",
      "1666\n",
      "1715\n",
      "1764\n",
      "1813\n",
      "1862\n",
      "1911\n",
      "1960\n",
      "2009\n",
      "2058\n",
      "2107\n",
      "2156\n",
      "2205\n",
      "2254\n",
      "2303\n",
      "2352\n",
      "2401\n",
      "2450\n",
      "2499\n",
      "2548\n",
      "2597\n",
      "2646\n",
      "2695\n",
      "2744\n",
      "2793\n",
      "2842\n",
      "2891\n",
      "2940\n",
      "2989\n",
      "3038\n",
      "3087\n",
      "3136\n",
      "3185\n",
      "3234\n",
      "3283\n",
      "3332\n",
      "3381\n",
      "3430\n",
      "3479\n"
     ]
    }
   ],
   "source": [
    "battery_ids = []\n",
    "matching_count = 0\n",
    "for doc in aneba_doc_list:\n",
    "    battid = doc['battid']\n",
    "    wf_uuid = doc['wf_uuid']\n",
    "    struct = Structure.from_dict(doc['host']['input'])\n",
    "    elements = list(struct.composition.as_dict().keys())\n",
    "    elec_doc = elec_store.query_one({\"approx_neb_wf_uuid\":wf_uuid,'battid':battid})  # The old way to query with battery id and wf uuid\n",
    "    \n",
    "    if elec_doc:\n",
    "            material_ids = [str(i) for i in elec_doc['material_ids']]   # get material ids\n",
    "            material_ids.extend(['js-'+i for i in material_ids])  \n",
    "            \n",
    "            if new_elec_store.count({'material_ids':{'$in':material_ids},'elements':{'$all':elements}}) == 1:\n",
    "                elec_doc = new_elec_store.query_one({'material_ids':{'$in':material_ids},'elements':{'$all':elements}})\n",
    "                mg = MigrationGraph.from_dict(elec_doc['migration_graph'])   # get migration graph\n",
    "                battery_id = elec_doc['battery_id']\n",
    "                battery_ids.append(battery_id)\n",
    "                matching_count += len(list(elec_doc))\n",
    "                print(matching_count)\n",
    "                #host_structure = elec_doc['battery_id']\n",
    "        #print(battery_ids[0])\n",
    "                #print(\"structures don't match for \"+battid) if sm.fit(struct,mg.host_structure)==False else None\n",
    "        \n",
    "            #else:\n",
    "                #print(str(new_elec_store.count({'material_ids':{'$in':material_ids},'elements':{'$all':elements}}))+ ' documents found for '+battid,elec_doc['formula_charge'])         \n",
    "            "
   ]
  },
  {
   "cell_type": "code",
   "execution_count": 134,
   "id": "76dd894c-a1b1-44d9-b92e-253751571ef0",
   "metadata": {},
   "outputs": [
    {
     "name": "stdout",
     "output_type": "stream",
     "text": [
      "['Nb', 'Ag', 'P', 'S']\n",
      "['Cr', 'Ag', 'O']\n",
      "No matching document found for material_ids and elements\n",
      "['V', 'P', 'O']\n",
      "No matching document found for material_ids and elements\n",
      "['Cr', 'O', 'F']\n",
      "No matching document found for material_ids and elements\n",
      "['Fe', 'Ni', 'Sb', 'P', 'O']\n",
      "No matching document found for material_ids and elements\n",
      "['Rb', 'Sn', 'I', 'O']\n",
      "No matching document found for material_ids and elements\n",
      "['Na', 'Ni', 'O']\n",
      "No matching document found for material_ids and elements\n",
      "['V', 'P', 'O']\n",
      "No matching document found for material_ids and elements\n",
      "['Mn', 'Co', 'O']\n",
      "No matching document found for material_ids and elements\n",
      "['Yb', 'Cu', 'Ge', 'O']\n",
      "No matching document found for material_ids and elements\n",
      "['Ta', 'W', 'S']\n",
      "No matching document found for material_ids and elements\n",
      "['Ag', 'Te', 'Mo', 'O']\n",
      "No matching document found for material_ids and elements\n",
      "['Cu', 'O', 'F']\n",
      "No matching document found for material_ids and elements\n",
      "['V', 'O', 'F']\n",
      "No matching document found for material_ids and elements\n",
      "['Na', 'Bi', 'O']\n",
      "No matching document found for material_ids and elements\n",
      "['Na', 'Ni', 'O']\n",
      "No matching document found for material_ids and elements\n",
      "['V', 'C', 'O']\n",
      "No matching document found for material_ids and elements\n",
      "['Cd', 'Te', 'Mo', 'O']\n",
      "No matching document found for material_ids and elements\n",
      "['Mn', 'Cu', 'O']\n",
      "No matching document found for material_ids and elements\n",
      "['Mn', 'Cd', 'O']\n",
      "No matching document found for material_ids and elements\n",
      "['Na', 'V', 'O']\n",
      "No matching document found for material_ids and elements\n",
      "['Sr', 'Fe', 'Se', 'O']\n",
      "No matching document found for material_ids and elements\n",
      "['Nb', 'Fe', 'S']\n",
      "No matching document found for material_ids and elements\n",
      "['Mn', 'Ni', 'O']\n",
      "No matching document found for material_ids and elements\n",
      "['Ho', 'W', 'O']\n",
      "No matching document found for material_ids and elements\n",
      "['V', 'O', 'F']\n",
      "No matching document found for material_ids and elements\n",
      "['Co', 'P', 'O']\n",
      "No matching document found for material_ids and elements\n",
      "['K', 'Cu', 'P', 'S']\n",
      "['Nb', 'Ag', 'P', 'S']\n",
      "['Cs', 'Sn', 'F']\n",
      "No matching document found for material_ids and elements\n",
      "['Cd', 'Ag', 'Sn', 'S']\n",
      "No matching document found for material_ids and elements\n",
      "['Cr', 'O', 'F']\n",
      "No matching document found for material_ids and elements\n",
      "['V', 'O']\n",
      "No matching document found for material_ids and elements\n",
      "['Rb', 'Mn', 'F']\n",
      "No matching document found for material_ids and elements\n",
      "['V', 'As', 'O']\n",
      "No matching document found for material_ids and elements\n",
      "['Sn', 'P', 'S']\n",
      "No matching document found for material_ids and elements\n",
      "['V', 'Cr', 'P', 'O', 'F']\n",
      "No matching document found for material_ids and elements\n",
      "['P', 'W', 'O']\n",
      "No matching document found for material_ids and elements\n",
      "['La', 'Co', 'O']\n",
      "No matching document found for material_ids and elements\n",
      "['Sr', 'V', 'O']\n",
      "No matching document found for material_ids and elements\n",
      "['Ta', 'Mo', 'S']\n",
      "No matching document found for material_ids and elements\n",
      "['Mo', 'S']\n",
      "['Cu', 'Ag', 'P', 'S']\n",
      "['Ti', 'P', 'S']\n",
      "['Cu', 'P', 'S']\n",
      "['Mn', 'Zn', 'S']\n",
      "No matching document found for material_ids and elements\n",
      "['Re', 'F']\n",
      "No matching document found for material_ids and elements\n",
      "['Yb', 'Cu', 'S']\n",
      "No matching document found for material_ids and elements\n",
      "['V', 'O', 'F']\n",
      "No matching document found for material_ids and elements\n",
      "['V', 'Cd', 'O']\n",
      "No matching document found for material_ids and elements\n",
      "['Ti', 'Ag', 'P', 'S']\n",
      "['Ti', 'S']\n",
      "['Co', 'Ni', 'O']\n",
      "No matching document found for material_ids and elements\n",
      "['Fe', 'P', 'O']\n",
      "No matching document found for material_ids and elements\n",
      "['Fe', 'P', 'O']\n",
      "No matching document found for material_ids and elements\n",
      "['Fe', 'P', 'S']\n",
      "['Ba', 'Fe', 'B', 'P', 'O']\n",
      "No matching document found for material_ids and elements\n",
      "['Ti', 'P', 'S']\n",
      "['Na', 'Mn', 'O']\n",
      "No matching document found for material_ids and elements\n",
      "['Nb', 'P', 'S', 'Cl']\n",
      "['Ti', 'Tl', 'P', 'S']\n",
      "['V', 'P', 'S']\n",
      "['Ti', 'S']\n",
      "['V', 'O']\n",
      "No matching document found for material_ids and elements\n",
      "['Cs', 'Ti', 'P', 'S']\n",
      "['V', 'O']\n",
      "['Co', 'Te', 'O']\n",
      "No matching document found for material_ids and elements\n",
      "['Ti', 'S']\n",
      "['V', 'P', 'S']\n",
      "['Mn', 'O']\n",
      "['Mn', 'V', 'O']\n",
      "No matching document found for material_ids and elements\n",
      "['Ti', 'S']\n",
      "['Cr', 'F']\n",
      "No matching document found for material_ids and elements\n",
      "['V', 'Cr', 'Fe', 'P', 'O']\n",
      "No matching document found for material_ids and elements\n",
      "['Mn', 'Fe', 'P', 'O']\n",
      "No matching document found for material_ids and elements\n",
      "['V', 'O', 'F']\n",
      "No matching document found for material_ids and elements\n",
      "['V', 'P', 'O']\n",
      "No matching document found for material_ids and elements\n",
      "['V', 'O', 'F']\n",
      "No matching document found for material_ids and elements\n",
      "['Fe', 'P', 'S']\n",
      "['Mn', 'O']\n",
      "No matching document found for material_ids and elements\n",
      "['Co', 'Ni', 'O']\n",
      "No matching document found for material_ids and elements\n",
      "['Co', 'Ni', 'O']\n",
      "No matching document found for material_ids and elements\n",
      "['V', 'P', 'O']\n",
      "No matching document found for material_ids and elements\n",
      "['V', 'O']\n",
      "No matching document found for material_ids and elements\n",
      "['Rb', 'Nb', 'P', 'S']\n",
      "['Cr', 'O']\n",
      "No matching document found for material_ids and elements\n",
      "['Ni', 'Pb', 'F']\n",
      "No matching document found for material_ids and elements\n",
      "['Sm', 'Mo', 'I', 'O']\n",
      "No matching document found for material_ids and elements\n",
      "['Cr', 'Pb', 'O']\n",
      "No matching document found for material_ids and elements\n",
      "['V', 'O', 'F']\n",
      "No matching document found for material_ids and elements\n",
      "['Fe', 'S', 'O', 'F']\n",
      "No matching document found for material_ids and elements\n",
      "['Yb', 'Bi', 'O']\n",
      "No matching document found for material_ids and elements\n",
      "['Fe', 'Se', 'O']\n",
      "No matching document found for material_ids and elements\n",
      "['V', 'P', 'O']\n",
      "No matching document found for material_ids and elements\n",
      "['V', 'O']\n",
      "['Sb', 'I', 'F']\n",
      "No matching document found for material_ids and elements\n",
      "['Rb', 'U', 'Cr', 'O']\n",
      "No matching document found for material_ids and elements\n",
      "['Na', 'Nb', 'P', 'S']\n",
      "['Yb', 'Hf', 'F']\n",
      "No matching document found for material_ids and elements\n",
      "['Cr', 'O', 'F']\n",
      "No matching document found for material_ids and elements\n",
      "['Nb', 'P', 'S']\n",
      "['Nb', 'Tl', 'P', 'S']\n",
      "['Eu', 'Cr', 'O']\n",
      "No matching document found for material_ids and elements\n",
      "['K', 'Sb', 'P', 'O']\n",
      "No matching document found for material_ids and elements\n",
      "['Cu', 'P', 'O']\n",
      "No matching document found for material_ids and elements\n",
      "['Ti', 'S']\n",
      "['V', 'Pb', 'O']\n",
      "No matching document found for material_ids and elements\n",
      "['Na', 'Mn', 'O']\n",
      "No matching document found for material_ids and elements\n",
      "['Cr', 'Ag', 'S']\n",
      "No matching document found for material_ids and elements\n",
      "['Cr', 'P', 'S']\n",
      "['Cr', 'O', 'F']\n",
      "No matching document found for material_ids and elements\n",
      "['Mn', 'Co', 'O']\n",
      "No matching document found for material_ids and elements\n",
      "['Ta', 'Mo', 'S']\n",
      "No matching document found for material_ids and elements\n",
      "['Rb', 'Ti', 'P', 'S']\n",
      "['V', 'O', 'F']\n",
      "No matching document found for material_ids and elements\n",
      "['Mn', 'P', 'O']\n",
      "No matching document found for material_ids and elements\n",
      "['Mn', 'Cr', 'F']\n",
      "No matching document found for material_ids and elements\n",
      "['Mo', 'O']\n",
      "No matching document found for material_ids and elements\n",
      "['Bi', 'F']\n",
      "No matching document found for material_ids and elements\n",
      "['Na', 'Ni', 'I', 'O']\n",
      "No matching document found for material_ids and elements\n",
      "['V', 'O']\n",
      "No matching document found for material_ids and elements\n",
      "['Nb', 'P', 'S', 'Cl']\n",
      "['K', 'V', 'P', 'S']\n",
      "['K', 'Ti', 'P', 'S']\n",
      "['Mn', 'P', 'O', 'F']\n",
      "No matching document found for material_ids and elements\n",
      "['K', 'Mn', 'O']\n",
      "No matching document found for material_ids and elements\n",
      "['Mn', 'P', 'O']\n",
      "No matching document found for material_ids and elements\n",
      "['V', 'H', 'O']\n",
      "No matching document found for material_ids and elements\n",
      "['Mn', 'Cr', 'P', 'O']\n",
      "No matching document found for material_ids and elements\n",
      "['Cu', 'Te', 'O']\n",
      "No matching document found for material_ids and elements\n",
      "['V', 'Co', 'O']\n",
      "No matching document found for material_ids and elements\n",
      "['Sb', 'P', 'H', 'O']\n",
      "No matching document found for material_ids and elements\n",
      "['Nb', 'P', 'S']\n",
      "['V', 'H', 'O']\n",
      "No matching document found for material_ids and elements\n",
      "['V', 'H', 'O']\n",
      "No matching document found for material_ids and elements\n",
      "['K', 'Fe', 'P', 'O', 'F']\n",
      "No matching document found for material_ids and elements\n",
      "['Fe', 'P', 'O']\n",
      "['Mn', 'Co', 'O']\n",
      "No matching document found for material_ids and elements\n",
      "['V', 'O', 'F']\n",
      "No matching document found for material_ids and elements\n",
      "['Ti', 'V', 'O']\n",
      "No matching document found for material_ids and elements\n",
      "['Na', 'V', 'O']\n",
      "['Mn', 'P', 'O', 'F']\n",
      "['Na', 'Mn', 'O']\n",
      "['V', 'P', 'O']\n",
      "['V', 'P', 'O']\n",
      "['V', 'P', 'O']\n",
      "['V', 'P', 'O']\n"
     ]
    }
   ],
   "source": [
    "matching_count = 0\n",
    "battery_id = []\n",
    "\n",
    "for doc in aneba_doc_list:\n",
    "    battid = doc['battid']\n",
    "    wf_uuid = doc['wf_uuid']\n",
    "    struct = Structure.from_dict(doc['host']['input'])\n",
    "    elements = list(struct.composition.as_dict().keys())\n",
    "    elec_doc = elec_store.query_one({\"approx_neb_wf_uuid\":wf_uuid,'battid':battid})  # The old way to query with battery id and wf uuid\n",
    "    \n",
    "    matching_count += elec_store.count({\"approx_neb_wf_uuid\": wf_uuid, 'battid': battid})\n",
    "    pprint(elements)\n",
    "#print(\"Matching count:\", matching_count)\n",
    "\n",
    "    if elec_doc: \n",
    "        material_ids = [str(i) for i in elec_doc['material_ids']]   # get material ids\n",
    "        material_ids.extend(['js-'+i for i in material_ids]) \n",
    "        #pprint(len(list(material_ids)))\n",
    "        if new_elec_store.query_one({'elements':{'$all':elements}}) == 1:\n",
    "            elec_doc_new= new_elec_store.find_one({'elements':{'$all':elements}})\n",
    "            #mg = MigrationGraph.from_dict(elec_doc['migration_graph'])   # get migration graph\n",
    "            #battery_id = elec_doc['battery_id']\n",
    "            #battery_ids.append(battery_id)\n",
    "            #host_struct = Structure.from_dict(elec_doc[\"host_structure\"][\"sites\"])\n",
    "            #working_ion = elec_doc['working_ion']\n",
    "            #pprint(elec_doc.as_dict())\n",
    "            #pprint(elec_doc_new[\"elements\"])\n",
    "        else:\n",
    "            print(\"No matching document found for material_ids and elements\")\n",
    "            "
   ]
  },
  {
   "cell_type": "code",
   "execution_count": null,
   "id": "08d51008-bb26-4987-a59a-acca1d2020a8",
   "metadata": {},
   "outputs": [],
   "source": [
    "        \n",
    "#     if elec_doc:\n",
    "#         material_ids = [str(i) for i in elec_doc['material_ids']]   # get material ids\n",
    "#         material_ids.extend(['js-'+i for i in material_ids])  \n",
    "        \n",
    "#         if new_elec_store.count_documents({'material_ids':{'$in':material_ids},'elements':{'$all':elements}}) == 1:\n",
    "#             matching_count += 1\n",
    "#             elec_doc = new_elec_store.find_one({'material_ids':{'$in':material_ids},'elements':{'$all':elements}})\n",
    "#             mg = MigrationGraph.from_dict(elec_doc['migration_graph'])   # get migration graph\n",
    "#             battery_id = elec_doc['battery_id']\n",
    "#             battery_ids.append(battery_id)\n",
    "        "
   ]
  },
  {
   "cell_type": "code",
   "execution_count": null,
   "id": "5b8148d7-0ffc-42ba-af18-f9a8564741e2",
   "metadata": {},
   "outputs": [],
   "source": [
    "doc_list = list(new_elec_store.query({'battery_id':{'$regex':'Mg'}}))\n",
    "doc_list"
   ]
  },
  {
   "cell_type": "markdown",
   "id": "6fc072b6-1f7f-4098-abca-cff656b79556",
   "metadata": {},
   "source": [
    "## Elec doc: How many match?"
   ]
  },
  {
   "cell_type": "code",
   "execution_count": null,
   "id": "ee8707b1-88fa-46a8-9c92-c05709f71101",
   "metadata": {},
   "outputs": [],
   "source": [
    "matching_count = 0\n",
    "for doc in aneba_doc_list:\n",
    "    battid = doc['battid']  # Old battery id\n",
    "    wf_uuid = doc['wf_uuid']\n",
    "    \n",
    "    elec_doc = elec_store.query({'approx_neb_wf_uuid': wf_uuid, 'battid': battid})\n",
    "    #new_elec_doc = new_elec_store.query({'approx_neb_wf_uuid': wf_uuid})\n",
    "    matching_count += len(list(elec_doc))\n",
    "\n",
    "print(\"Number of matching documents in elec_store:\", matching_count)"
   ]
  },
  {
   "cell_type": "code",
   "execution_count": null,
   "id": "6e8d67e3-2288-491d-a5d8-dc96b14b5162",
   "metadata": {},
   "outputs": [],
   "source": [
    "#lec_doc = elec_store.query({'approx_neb_wf_uuid': wf_uuid, 'battid': battid})\n",
    "#list(elec_doc[0])"
   ]
  },
  {
   "cell_type": "markdown",
   "id": "500debef-f553-484e-b5ef-557f8c3226b9",
   "metadata": {},
   "source": [
    "# Ex"
   ]
  },
  {
   "cell_type": "code",
   "execution_count": null,
   "id": "64d133ba-2be9-4fea-b941-658cb7b71762",
   "metadata": {},
   "outputs": [],
   "source": [
    "doc_1 = aneba_doc_list[0]\n",
    "keys_1 = list(doc_1['data'].keys())\n",
    "#struct_1 = Structure.from_dict(doc_1['data'][keys_1[0]]['input_structure'])\n",
    "Structure.from_dict(doc_1['data'][keys_1[0]]['input_structures'][0])"
   ]
  },
  {
   "cell_type": "code",
   "execution_count": null,
   "id": "d480198f-9ec0-4e76-a164-711cd150a827",
   "metadata": {},
   "outputs": [],
   "source": [
    "for n,d in vnn.get_voronoi_polyhedra(struct_1,0).items():\n",
    "    print(n,d[\"volume\"])"
   ]
  },
  {
   "cell_type": "markdown",
   "id": "16fb5f05-296b-4c9e-8f0b-5dc7a8051e7e",
   "metadata": {},
   "source": [
    "## Battid list"
   ]
  },
  {
   "cell_type": "code",
   "execution_count": null,
   "id": "70408ac7-ab28-4d51-8484-6b9f9abaa518",
   "metadata": {},
   "outputs": [],
   "source": [
    "battid_list = []\n",
    "for doc in aneba_doc_list:\n",
    "    battid = doc['battid']\n",
    "    battid_list.append(battid)\n",
    "    #battid_list.append({\"battid\": battid})\n",
    "battid_list[0]"
   ]
  },
  {
   "cell_type": "markdown",
   "id": "ec28d8e6-a19b-4726-badd-8a655fde10e9",
   "metadata": {},
   "source": [
    "## Information about materials in aneba doc"
   ]
  },
  {
   "cell_type": "code",
   "execution_count": null,
   "id": "90136c84-0041-4c92-9ad0-b1171553007b",
   "metadata": {},
   "outputs": [],
   "source": [
    "def information(battid):\n",
    "    doc = aneba_store.query_one({\"battid\": battid})\n",
    "    battid = doc['battid'] \n",
    "    wf_uuid = doc['wf_uuid']\n",
    "    hop_keys = list(doc['data'].keys())\n",
    "    struct = Structure.from_dict(doc['data'][hop_keys[0]])\n",
    "    #struct_input = Structure.from_dict(doc['host']['input'])\n",
    "    \n",
    "    #struct_output = Structure.from_dict(doc['host']['output'])\n",
    "    #elements = list(struct.composition.as_dict().keys())\n",
    "    return {\"wf_uuid\":wf_uuid,\n",
    "            \"battid\":battid,\n",
    "            \"hop_keys\":hop_keys,\n",
    "            \n",
    "            #\"structs_input\":struct_input,\n",
    "            #\"structs_output\":struct_output,\n",
    "            \n",
    "            #\"doc\":doc\n",
    "            }"
   ]
  },
  {
   "cell_type": "code",
   "execution_count": null,
   "id": "ea4c7873-693d-4857-a97f-22df95bf24ce",
   "metadata": {},
   "outputs": [],
   "source": [
    "information(battid_list[0])"
   ]
  },
  {
   "cell_type": "code",
   "execution_count": null,
   "id": "2eff3a81-b172-4076-9ccf-1a11728c9357",
   "metadata": {},
   "outputs": [],
   "source": [
    "elec_doc[0]"
   ]
  },
  {
   "cell_type": "markdown",
   "id": "063fcefc-d6d0-473f-bd09-92b296ff4e32",
   "metadata": {},
   "source": [
    "## Base task id site volume"
   ]
  },
  {
   "cell_type": "code",
   "execution_count": null,
   "id": "57ea24dd-720e-4aef-9b86-48f6925bf316",
   "metadata": {},
   "outputs": [],
   "source": [
    "for doc in elec_doc:\n",
    "    battid = doc['battid']  # Old battery id\n",
    "    wf_uuid = doc['wf_uuid']\n",
    "    #struct = Structure.from_dict(doc['host']['input'])\n",
    "print(battid)"
   ]
  },
  {
   "cell_type": "code",
   "execution_count": null,
   "id": "7153197b-6dbd-4c9e-afbe-46b21a2dc2a9",
   "metadata": {},
   "outputs": [],
   "source": [
    "structs = [Structure.from_dict(s) for s in doc[\"data\"][hop_key][\"output_structures\"]]"
   ]
  },
  {
   "cell_type": "markdown",
   "id": "dcaecbef-1d77-43ab-97b2-6ea894a4bfb1",
   "metadata": {},
   "source": [
    "## Approx Neb site volume"
   ]
  },
  {
   "cell_type": "code",
   "execution_count": null,
   "id": "99c89b62-9702-49c9-b752-34d88a15b92e",
   "metadata": {},
   "outputs": [],
   "source": [
    "for doc in aneba_doc_list:\n",
    "    battid = doc['battid']  # Old battery id\n",
    "    wf_uuid = doc['wf_uuid']\n",
    "    struct = Structure.from_dict(doc['host']['input'])\n",
    "    elements = list(struct.composition.as_dict().keys())\n",
    "    if elec_store.count({'battid':battid})>1:\n",
    "        print('more than one elec doc found for battid'+battid)\n",
    "        \n",
    "    elec_doc = elec_store.query_one({\"approx_neb_wf_uuid\":wf_uuid,'battid':battid})  # The old way to query with battery id and wf uuid\n",
    "    if elec_doc:\n",
    "        material_ids = [str(i) for i in elec_doc['material_ids']]   # get material ids\n",
    "        material_ids.extend(['js-'+i for i in material_ids])  \n",
    "        if new_elec_store.count({'material_ids':{'$in':material_ids},'elements':{'$all':elements}}) == 1:\n",
    "            elec_doc = new_elec_store.query_one({'material_ids':{'$in':material_ids},'elements':{'$all':elements}})\n",
    "            mg = MigrationGraph.from_dict(elec_doc['migration_graph'])   # get migration graph\n",
    "            print(\"structures don't match for \"+battid) if sm.fit(struct,mg.host_structure)==False else None\n",
    "        else:\n",
    "            print(str(new_elec_store.count({'material_ids':{'$in':material_ids},'elements':{'$all':elements}}))+ ' documents found for '+battid,elec_doc['formula_charge'])         \n",
    "    "
   ]
  },
  {
   "cell_type": "markdown",
   "id": "b8a2281e-0e9a-448d-af1f-e1d02911e4eb",
   "metadata": {},
   "source": []
  },
  {
   "cell_type": "code",
   "execution_count": null,
   "id": "7a7b5dd9-cb33-4f74-bad3-cb852e0caec9",
   "metadata": {},
   "outputs": [],
   "source": []
  },
  {
   "cell_type": "code",
   "execution_count": null,
   "id": "03b8b0a5-d066-47dc-ba02-1621491ceaee",
   "metadata": {},
   "outputs": [],
   "source": []
  },
  {
   "cell_type": "markdown",
   "id": "d4e311e7-9438-4e14-a257-ab96b89b6a1a",
   "metadata": {},
   "source": [
    "## Migration Graph"
   ]
  },
  {
   "cell_type": "code",
   "execution_count": null,
   "id": "b53f526d-6ada-4c72-9d92-cb47e8b12879",
   "metadata": {},
   "outputs": [],
   "source": []
  },
  {
   "cell_type": "code",
   "execution_count": null,
   "id": "3ff80152-f9af-4d64-bbd5-8d6df44f01e8",
   "metadata": {},
   "outputs": [],
   "source": [
    "doc_mig = mig_graph.query_one({\"battery_id\": \"19117_Mg\"})"
   ]
  }
 ],
 "metadata": {
  "kernelspec": {
   "display_name": "Python 3 (ipykernel)",
   "language": "python",
   "name": "python3"
  },
  "language_info": {
   "codemirror_mode": {
    "name": "ipython",
    "version": 3
   },
   "file_extension": ".py",
   "mimetype": "text/x-python",
   "name": "python",
   "nbconvert_exporter": "python",
   "pygments_lexer": "ipython3",
   "version": "3.9.13"
  }
 },
 "nbformat": 4,
 "nbformat_minor": 5
}
