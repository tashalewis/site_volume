{
 "cells": [
  {
   "cell_type": "markdown",
   "id": "51877f87-b5f7-4e52-bb05-e7e23fb8e1f1",
   "metadata": {},
   "source": [
    "# Joint Undergraduate Researcher Onboarding #5\n",
    "**Topic:** Introduction to maggma to ease working with MongoDB databases\n",
    "\n",
    "**Date:** April 4, 2022\n",
    "\n",
    "**Prepared by:** Ann Rutt"
   ]
  },
  {
   "cell_type": "markdown",
   "id": "f79d2d30-e3ce-4293-91f8-84b31a5cac42",
   "metadata": {
    "tags": []
   },
   "source": [
    "# Outline & Relevant Documentation\n",
    "\n",
    "Onboarding Session Demonstration:\n",
    "* Getting Stores: Connecting to your Database\n",
    "* Store `key` Attribute: Specify field for distinguishing documents\n",
    "* Store `query_one()` and `query()` Method: Accessing database docs\n",
    "* Store `update()` Method: Storing database docs\n",
    "* Store `count()` Method\n",
    "* Store `distinct()` Method: Get distinct values of specified field\n",
    "* Store `remove_docs()` Method\n",
    "* Getting a Builder\n",
    "* Builder `get_items()` Method\n",
    "* Builder `process_item()` Method\n",
    "* Builder `update_target()` Method\n",
    "* Running a Builder for Testing: `run()` Method\n",
    "* Writing a Custom Builder\n",
    "\n",
    "Onboarding Independent Exercises Goals:\n",
    "* Become familiar with the ApproxNEB data stored in `fw_acr_mv/approx_neb`\n",
    "* Apply MongoDB querying and learn about more advanced querying techniques (https://docs.mongodb.com/manual/reference/operator/query/)\n",
    "* Practice using common store methods (`query`, `count`, `distinct`)\n",
    "* Try out developing and testing a builder by creating a custom MapBuilder\n",
    "\n",
    "For further reading and general reference...\n",
    "* Maggma Documentation: https://materialsproject.github.io/maggma/\n",
    "* Maggma GitHub Repo: https://github.com/materialsproject/maggma"
   ]
  },
  {
   "cell_type": "markdown",
   "id": "db96ec39-6275-4f90-a57f-5863809da4ca",
   "metadata": {},
   "source": [
    "# Set-up Check: Mongogrant Credentials\n",
    "\n",
    "Run the code in this section on your own before the onboarding session to see if everything is working correctly with your `.mongogrant.json` file which should be located in your home directory. \n",
    "\n",
    "**You need to be connected to the LBL VPN to successfully run this code.**"
   ]
  },
  {
   "cell_type": "code",
   "execution_count": 3,
   "id": "4702ccf5-b214-4e44-b4e0-f6536d1c5e7a",
   "metadata": {},
   "outputs": [],
   "source": [
    "from maggma.stores.advanced_stores import MongograntStore\n",
    "aneb_store = MongograntStore(\"ro:mongodb07-ext.nersc.gov/fw_acr_mv\",\"approx_neb\")\n",
    "aneb_store.connect()\n",
    "#aneb_store.query_one({})"
   ]
  },
  {
   "cell_type": "markdown",
   "id": "fc959389-0e0d-4386-8cb5-c78441d3bcc6",
   "metadata": {},
   "source": [
    "The expected output is a long doc print-out. Reach out for help if you run into any errors or issues here so we can troubleshoot individually."
   ]
  },
  {
   "cell_type": "markdown",
   "id": "ca134ee4-4999-4d47-af12-eec776f52e05",
   "metadata": {
    "tags": []
   },
   "source": [
    "# Onboarding Session Demonstration"
   ]
  },
  {
   "cell_type": "markdown",
   "id": "7cd0e396-54d4-4789-8767-3dab16ce3d5c",
   "metadata": {},
   "source": [
    "If maggma has not been installed yet, run this command in terminal\n",
    "\n",
    "`pip install maggma`"
   ]
  },
  {
   "cell_type": "code",
   "execution_count": 4,
   "id": "11fb5559-decf-474b-be27-70a6745bf283",
   "metadata": {},
   "outputs": [
    {
     "name": "stdout",
     "output_type": "stream",
     "text": [
      "0.50.3\n",
      "['/Users/tashalewis/miniconda3/envs/torl/lib/python3.9/site-packages/maggma']\n"
     ]
    }
   ],
   "source": [
    "# maggma is more frequently updated so it is important to check the version you are using\n",
    "import maggma\n",
    "print(maggma.__version__)\n",
    "print(maggma.__path__)"
   ]
  },
  {
   "cell_type": "code",
   "execution_count": 5,
   "id": "08c2f3e4-b3c1-44b4-b4ac-0d1e2a592018",
   "metadata": {},
   "outputs": [],
   "source": [
    "# pprint (pretty print) can be helpful for making dictionaries more readable when printed \n",
    "from pprint import pprint"
   ]
  },
  {
   "cell_type": "markdown",
   "id": "b5d735c4-b88d-4236-92ca-25f611160f0c",
   "metadata": {},
   "source": [
    "We will be using database credentials stored in .mongogrant.json to give you read-only access to Ann's database hosted on NERSC so you can practice working with relevant data.\n",
    "\n",
    "\n",
    "**Place a copy of the provided .mongogrant.json file in your home directory**"
   ]
  },
  {
   "cell_type": "markdown",
   "id": "da1aab8f-5dbe-4587-a6f0-ff3f0e508a03",
   "metadata": {
    "tags": []
   },
   "source": [
    "## Store Basics"
   ]
  },
  {
   "cell_type": "markdown",
   "id": "8ffae0a0-2e9a-4357-afa4-dc9c525e7443",
   "metadata": {
    "tags": []
   },
   "source": [
    "### Getting Stores: Connecting to your Database"
   ]
  },
  {
   "cell_type": "markdown",
   "id": "82b7792b-0083-41dc-b02b-ac82cd0cbda4",
   "metadata": {},
   "source": [
    "A `MongoStore` object connects to your local MongoDB database"
   ]
  },
  {
   "cell_type": "code",
   "execution_count": 6,
   "id": "01db5682-2940-4ec4-9498-1d723e045cc2",
   "metadata": {},
   "outputs": [],
   "source": [
    "from maggma.stores.mongolike import MongoStore"
   ]
  },
  {
   "cell_type": "code",
   "execution_count": 7,
   "id": "ff15874c-a515-4adb-bffd-c77c00d03c2b",
   "metadata": {},
   "outputs": [],
   "source": [
    "sandbox_store = MongoStore(database= \"local_dev\",collection_name= \"sandbox\")\n",
    "sandbox_store.connect()"
   ]
  },
  {
   "cell_type": "markdown",
   "id": "6df38682-3038-46b1-a51f-99bbc0a88eb4",
   "metadata": {},
   "source": [
    "A `MongograntStore` object connects to MongoDB databases (typically hosted on NERSC) with credentials stored in your `.mongogrant` file"
   ]
  },
  {
   "cell_type": "code",
   "execution_count": 8,
   "id": "a405815b-f5a0-49b2-81b5-8b9de4a8effe",
   "metadata": {},
   "outputs": [],
   "source": [
    "from maggma.stores.advanced_stores import MongograntStore"
   ]
  },
  {
   "cell_type": "code",
   "execution_count": 9,
   "id": "0094c54c-d490-46b9-b586-5fcc21603720",
   "metadata": {},
   "outputs": [],
   "source": [
    "aneb_store = MongograntStore(\"ro:mongodb07-ext.nersc.gov/fw_acr_mv\",\"approx_neb\") # note ro: specifies read-only access vs. rw: for read-write access\n",
    "aneb_store.connect()"
   ]
  },
  {
   "cell_type": "markdown",
   "id": "b8a1e63c-f56d-46e8-b225-075548cfcf80",
   "metadata": {},
   "source": [
    "Advanced Tip: A `ConcatStore` can be used to combine multiple databases into a single store object"
   ]
  },
  {
   "cell_type": "code",
   "execution_count": 10,
   "id": "27a4817a-5ef7-487a-939c-b28782adb8b7",
   "metadata": {},
   "outputs": [],
   "source": [
    "from maggma.stores.compound_stores import ConcatStore"
   ]
  },
  {
   "cell_type": "code",
   "execution_count": 11,
   "id": "8cae9dd5-c4aa-4d5c-81b9-948adac596db",
   "metadata": {},
   "outputs": [
    {
     "ename": "SyntaxError",
     "evalue": "invalid syntax (211302801.py, line 1)",
     "output_type": "error",
     "traceback": [
      "\u001b[0;36m  Cell \u001b[0;32mIn[11], line 1\u001b[0;36m\u001b[0m\n\u001b[0;31m    combined_store = ConcatStore([store_1,store_2...])\u001b[0m\n\u001b[0m                                                 ^\u001b[0m\n\u001b[0;31mSyntaxError\u001b[0m\u001b[0;31m:\u001b[0m invalid syntax\n"
     ]
    }
   ],
   "source": [
    "combined_store = ConcatStore([store_1,store_2...])"
   ]
  },
  {
   "cell_type": "markdown",
   "id": "6cba729f-0cf5-4f6c-8a73-f3f041936af5",
   "metadata": {},
   "source": [
    "### Store `key` Attribute: Specify field for distinguishing documents"
   ]
  },
  {
   "cell_type": "code",
   "execution_count": 9,
   "id": "64cc4a2b-7d37-4eae-bd63-6e4584fe7485",
   "metadata": {},
   "outputs": [
    {
     "name": "stdout",
     "output_type": "stream",
     "text": [
      "task_id\n"
     ]
    }
   ],
   "source": [
    "print(sandbox_store.key)"
   ]
  },
  {
   "cell_type": "code",
   "execution_count": 10,
   "id": "5ee30256-fa2f-4d53-b901-779b4564464b",
   "metadata": {},
   "outputs": [
    {
     "name": "stdout",
     "output_type": "stream",
     "text": [
      "task_id\n"
     ]
    }
   ],
   "source": [
    "print(aneb_store.key)"
   ]
  },
  {
   "cell_type": "code",
   "execution_count": 19,
   "id": "53768464-fd4b-48c7-8cf2-a586e5e021ed",
   "metadata": {},
   "outputs": [],
   "source": [
    "sandbox_store.key = \"batt_id\"\n",
    "aneb_store.key = \"batt_id\""
   ]
  },
  {
   "cell_type": "markdown",
   "id": "c612e82a-f723-441b-9739-0c224bf9fade",
   "metadata": {},
   "source": [
    "### Store `query_one()` and `query()` Method: Accessing database docs"
   ]
  },
  {
   "cell_type": "code",
   "execution_count": 12,
   "id": "c9c5e899-c2ad-4bfd-8aba-9b390564c2c8",
   "metadata": {},
   "outputs": [
    {
     "name": "stdout",
     "output_type": "stream",
     "text": [
      "dict_keys(['_id', 'last_updated', 'host', 'wf_uuid', 'end_points', 'tags', 'acr_notes', 'batt_id', 'cep', 'pathfinder', 'images'])\n",
      "f720ba2f-be68-407f-a447-fc2ed7a20948\n"
     ]
    }
   ],
   "source": [
    "doc = aneb_store.query_one({})\n",
    "print(doc.keys())\n",
    "print(doc[\"wf_uuid\"])"
   ]
  },
  {
   "cell_type": "code",
   "execution_count": 13,
   "id": "f0593427-0086-47ba-bd75-47368fa14c8b",
   "metadata": {},
   "outputs": [
    {
     "name": "stdout",
     "output_type": "stream",
     "text": [
      "spinelTi2S4_Mg ['approx_neb_wf', 'all_images', '20191122_aneb_wf']\n",
      "spinelTi2S4_Mg ['approx_neb_wf', 'all_images', '20210507_aneb_wf']\n"
     ]
    }
   ],
   "source": [
    "docs = aneb_store.query(criteria={\"batt_id\":\"spinelTi2S4_Mg\"})\n",
    "for doc in docs:\n",
    "    print(doc[\"batt_id\"],doc[\"acr_notes\"])"
   ]
  },
  {
   "cell_type": "code",
   "execution_count": 14,
   "id": "8022e2fd-f99c-4082-87d1-b3dd22dc171b",
   "metadata": {},
   "outputs": [
    {
     "ename": "TypeError",
     "evalue": "object of type 'generator' has no len()",
     "output_type": "error",
     "traceback": [
      "\u001b[0;31m---------------------------------------------------------------------------\u001b[0m",
      "\u001b[0;31mTypeError\u001b[0m                                 Traceback (most recent call last)",
      "\u001b[0;32m<ipython-input-14-0fef51922200>\u001b[0m in \u001b[0;36m<module>\u001b[0;34m\u001b[0m\n\u001b[0;32m----> 1\u001b[0;31m \u001b[0mlen\u001b[0m\u001b[0;34m(\u001b[0m\u001b[0mdocs\u001b[0m\u001b[0;34m)\u001b[0m\u001b[0;34m\u001b[0m\u001b[0;34m\u001b[0m\u001b[0m\n\u001b[0m",
      "\u001b[0;31mTypeError\u001b[0m: object of type 'generator' has no len()"
     ]
    }
   ],
   "source": [
    "len(docs)"
   ]
  },
  {
   "cell_type": "code",
   "execution_count": 15,
   "id": "47a82d98-6e08-4082-bb3d-54a39b90dc1b",
   "metadata": {},
   "outputs": [
    {
     "name": "stdout",
     "output_type": "stream",
     "text": [
      "<class 'list'>\n"
     ]
    }
   ],
   "source": [
    "docs = list(aneb_store.query(criteria={\"batt_id\":\"spinelTi2S4_Mg\"}))\n",
    "print(type(docs))"
   ]
  },
  {
   "cell_type": "code",
   "execution_count": 16,
   "id": "975274db-03bd-41ef-9701-aa8394c2434d",
   "metadata": {},
   "outputs": [
    {
     "name": "stdout",
     "output_type": "stream",
     "text": [
      "2\n"
     ]
    }
   ],
   "source": [
    "print(len(docs))"
   ]
  },
  {
   "cell_type": "markdown",
   "id": "455cccf6-7ead-4cec-b1c1-ff1d24e97389",
   "metadata": {},
   "source": [
    "### Store `update()` Method: Storing database docs\n",
    "\n",
    "Note: Updating stores requires read-write access"
   ]
  },
  {
   "cell_type": "code",
   "execution_count": 17,
   "id": "a4326c3e-93ac-4cac-9e77-46a8395df8df",
   "metadata": {},
   "outputs": [],
   "source": [
    "# check that your sandbox store is empty\n",
    "sandbox_store.query_one({})"
   ]
  },
  {
   "cell_type": "code",
   "execution_count": 20,
   "id": "a676dccb-59da-4262-9f07-2f5171d6778d",
   "metadata": {},
   "outputs": [],
   "source": [
    "sandbox_store.update({\"batt_id\":\"0_Mg\",\"wf_uuid\":None})"
   ]
  },
  {
   "cell_type": "code",
   "execution_count": 21,
   "id": "9c310e1b-1474-49cf-815d-fd3f984d976d",
   "metadata": {},
   "outputs": [
    {
     "data": {
      "text/plain": [
       "{'_id': ObjectId('62463e1e59ab35c8b4ff2efd'),\n",
       " 'batt_id': '0_Mg',\n",
       " 'wf_uuid': None}"
      ]
     },
     "execution_count": 21,
     "metadata": {},
     "output_type": "execute_result"
    }
   ],
   "source": [
    "# sandbox store is no longer empty\n",
    "sandbox_store.query_one({})"
   ]
  },
  {
   "cell_type": "code",
   "execution_count": 22,
   "id": "363e96e0-c90e-491e-a7da-47ba90032025",
   "metadata": {},
   "outputs": [],
   "source": [
    "# let's try storing the 2 aneb docs from earlier\n",
    "# must delete the unique doc identifier \"_id\" field first\n",
    "for d in docs:\n",
    "    del d[\"_id\"]"
   ]
  },
  {
   "cell_type": "code",
   "execution_count": 23,
   "id": "56d4742a-ab24-4581-9816-aa273b8ffbfe",
   "metadata": {},
   "outputs": [],
   "source": [
    "sandbox_store.update(docs)"
   ]
  },
  {
   "cell_type": "code",
   "execution_count": 24,
   "id": "e668fa80-1522-4957-a48a-2f9d87300f09",
   "metadata": {},
   "outputs": [
    {
     "name": "stdout",
     "output_type": "stream",
     "text": [
      "2\n"
     ]
    }
   ],
   "source": [
    "# let's check that all docs are stored - expecting 1+2 docs\n",
    "print(len(list(sandbox_store.query({}))))"
   ]
  },
  {
   "cell_type": "code",
   "execution_count": 25,
   "id": "00009473-e052-4d9b-b211-0cd5b44e81a1",
   "metadata": {},
   "outputs": [
    {
     "name": "stdout",
     "output_type": "stream",
     "text": [
      "batt_id\n"
     ]
    }
   ],
   "source": [
    "# we did not successfully store the 2 aneb docs\n",
    "# the issue is we were missing unique values for the batt_id key field\n",
    "print(sandbox_store.key)"
   ]
  },
  {
   "cell_type": "code",
   "execution_count": 26,
   "id": "b8fddabf-2e28-4926-a837-6ddf4940f579",
   "metadata": {},
   "outputs": [],
   "source": [
    "# let's change to a more unique key field and try again\n",
    "sandbox_store.key = \"wf_uuid\"\n",
    "sandbox_store.update(docs)"
   ]
  },
  {
   "cell_type": "code",
   "execution_count": 27,
   "id": "bb2aa3c4-ee57-4cf3-afc4-f7ee2db5ae70",
   "metadata": {},
   "outputs": [
    {
     "name": "stdout",
     "output_type": "stream",
     "text": [
      "3\n"
     ]
    }
   ],
   "source": [
    "# let's check that all docs are stored - should get 3 docs now\n",
    "print(len(list(sandbox_store.query({}))))"
   ]
  },
  {
   "cell_type": "markdown",
   "id": "b4a1ef32-48d8-47af-9e82-a4f22561b60f",
   "metadata": {
    "tags": []
   },
   "source": [
    "### Store `count()` Method"
   ]
  },
  {
   "cell_type": "code",
   "execution_count": 28,
   "id": "3dcd0e11-bcd5-478c-b48f-80dc2e5bc822",
   "metadata": {},
   "outputs": [
    {
     "data": {
      "text/plain": [
       "3"
      ]
     },
     "execution_count": 28,
     "metadata": {},
     "output_type": "execute_result"
    }
   ],
   "source": [
    "sandbox_store.count()"
   ]
  },
  {
   "cell_type": "code",
   "execution_count": 29,
   "id": "22f42478-3e18-412e-918b-81c756176a5f",
   "metadata": {},
   "outputs": [
    {
     "data": {
      "text/plain": [
       "1"
      ]
     },
     "execution_count": 29,
     "metadata": {},
     "output_type": "execute_result"
    }
   ],
   "source": [
    "sandbox_store.count({\"batt_id\":\"0_Mg\"})"
   ]
  },
  {
   "cell_type": "markdown",
   "id": "d4176a4d-5ebe-4ad6-a698-488b37fb6288",
   "metadata": {},
   "source": [
    "### Store `distinct()` Method: Get distinct values of specified field"
   ]
  },
  {
   "cell_type": "code",
   "execution_count": 30,
   "id": "9f5e3dc6-0793-4f66-a127-c24fe0aff1bb",
   "metadata": {},
   "outputs": [
    {
     "data": {
      "text/plain": [
       "['0_Mg', 'spinelTi2S4_Mg']"
      ]
     },
     "execution_count": 30,
     "metadata": {},
     "output_type": "execute_result"
    }
   ],
   "source": [
    "sandbox_store.distinct(field=\"batt_id\")"
   ]
  },
  {
   "cell_type": "markdown",
   "id": "b09daa46-b335-4a45-97f4-8993287ae0de",
   "metadata": {},
   "source": [
    "### Store `remove_docs()` Method"
   ]
  },
  {
   "cell_type": "code",
   "execution_count": 31,
   "id": "cf5f1836-aadd-444d-a692-7d64b5ee3dd7",
   "metadata": {},
   "outputs": [],
   "source": [
    "sandbox_store.remove_docs({\"batt_id\":\"spinelTi2S4_Mg\"})"
   ]
  },
  {
   "cell_type": "code",
   "execution_count": 32,
   "id": "79699af8-61e4-4146-a283-14c773852406",
   "metadata": {},
   "outputs": [
    {
     "data": {
      "text/plain": [
       "1"
      ]
     },
     "execution_count": 32,
     "metadata": {},
     "output_type": "execute_result"
    }
   ],
   "source": [
    "sandbox_store.count()"
   ]
  },
  {
   "cell_type": "markdown",
   "id": "09f0ac7b-30bf-48eb-95c6-064ce7ae3fe8",
   "metadata": {},
   "source": [
    "## Builder Basics: Convert \"Source\" Store to \"Target\" Store\n",
    "\n",
    "[copied from maggma's documentation...]\n",
    "\n",
    "Builders represent a data processing step. Builders break down each transformation into 3 phases: `get_items`, `process_item`, and `update_targets`:\n",
    "\n",
    "1. `get_items`: Retrieve items from the source Store(s) for processing by the next phase\n",
    "2. `process_item`: Manipulate the input item and create an output document that is sent to the next phase for storage.\n",
    "3. `update_target`: Add the processed item to the target Store(s)."
   ]
  },
  {
   "cell_type": "markdown",
   "id": "72c045bf-14dd-467d-83fe-d812c2080f42",
   "metadata": {
    "tags": []
   },
   "source": [
    "### Getting a Builder\n",
    "\n",
    "Note: source collection only requires **read-only** access but the target collection requires **read-write** access"
   ]
  },
  {
   "cell_type": "code",
   "execution_count": 33,
   "id": "6845aefd-56c3-4fb0-969d-adcc3e32641a",
   "metadata": {},
   "outputs": [],
   "source": [
    "from maggma.builders.map_builder import MapBuilder, CopyBuilder"
   ]
  },
  {
   "cell_type": "code",
   "execution_count": 34,
   "id": "fdbd4551-21a8-472d-a3cc-c9bf90481120",
   "metadata": {},
   "outputs": [],
   "source": [
    "# for builders derived from MapBuilder, it is important to check the store keys\n",
    "# MapBuilder relies on the key field for comparing docs in the source and target store\n",
    "aneb_store.key = \"wf_uuid\"\n",
    "sandbox_store.key = \"wf_uuid\""
   ]
  },
  {
   "cell_type": "code",
   "execution_count": 35,
   "id": "85fe7846-cd1d-474a-b620-866fed1815ad",
   "metadata": {},
   "outputs": [],
   "source": [
    "query = {\"batt_id\":\"spinelTi2S4_Mg\"} # specify which docs from source store to grab\n",
    "builder = CopyBuilder(source=aneb_store, target=sandbox_store, query=query)"
   ]
  },
  {
   "cell_type": "code",
   "execution_count": 36,
   "id": "8ffe0497-1bc7-4127-a5b0-141b359cf5e0",
   "metadata": {},
   "outputs": [
    {
     "data": {
      "text/plain": [
       "2"
      ]
     },
     "execution_count": 36,
     "metadata": {},
     "output_type": "execute_result"
    }
   ],
   "source": [
    "aneb_store.count(query)"
   ]
  },
  {
   "cell_type": "code",
   "execution_count": 37,
   "id": "8873419d-7e3b-4fa4-ab5d-28efbbeae0e1",
   "metadata": {},
   "outputs": [
    {
     "data": {
      "text/plain": [
       "0"
      ]
     },
     "execution_count": 37,
     "metadata": {},
     "output_type": "execute_result"
    }
   ],
   "source": [
    "sandbox_store.count(query)"
   ]
  },
  {
   "cell_type": "markdown",
   "id": "0f5680d2-7c8d-45de-9565-69f93f2ace41",
   "metadata": {},
   "source": [
    "### Builder `get_items()` Method\n",
    "\n",
    "The number of items should match the count from the source store above"
   ]
  },
  {
   "cell_type": "code",
   "execution_count": 38,
   "id": "c77e6f7f-d099-40e4-8f9b-3be2d8309192",
   "metadata": {},
   "outputs": [
    {
     "ename": "TypeError",
     "evalue": "object of type 'generator' has no len()",
     "output_type": "error",
     "traceback": [
      "\u001b[0;31m---------------------------------------------------------------------------\u001b[0m",
      "\u001b[0;31mTypeError\u001b[0m                                 Traceback (most recent call last)",
      "\u001b[0;32m<ipython-input-38-b3c16db3a661>\u001b[0m in \u001b[0;36m<module>\u001b[0;34m\u001b[0m\n\u001b[1;32m      1\u001b[0m \u001b[0mitems\u001b[0m \u001b[0;34m=\u001b[0m \u001b[0mbuilder\u001b[0m\u001b[0;34m.\u001b[0m\u001b[0mget_items\u001b[0m\u001b[0;34m(\u001b[0m\u001b[0;34m)\u001b[0m\u001b[0;34m\u001b[0m\u001b[0;34m\u001b[0m\u001b[0m\n\u001b[0;32m----> 2\u001b[0;31m \u001b[0mprint\u001b[0m\u001b[0;34m(\u001b[0m\u001b[0mlen\u001b[0m\u001b[0;34m(\u001b[0m\u001b[0mitems\u001b[0m\u001b[0;34m)\u001b[0m\u001b[0;34m)\u001b[0m\u001b[0;34m\u001b[0m\u001b[0;34m\u001b[0m\u001b[0m\n\u001b[0m",
      "\u001b[0;31mTypeError\u001b[0m: object of type 'generator' has no len()"
     ]
    }
   ],
   "source": [
    "items = builder.get_items()\n",
    "print(len(items))"
   ]
  },
  {
   "cell_type": "code",
   "execution_count": 39,
   "id": "390dfb8f-02dc-4b3c-8fe5-61e5843c39b2",
   "metadata": {},
   "outputs": [
    {
     "name": "stdout",
     "output_type": "stream",
     "text": [
      "<class 'list'>\n",
      "2\n"
     ]
    }
   ],
   "source": [
    "items = list(builder.get_items())\n",
    "print(type(items))\n",
    "print(len(items))"
   ]
  },
  {
   "cell_type": "code",
   "execution_count": 40,
   "id": "ffc613a9-9b6d-4d13-9545-5ad6b8749df8",
   "metadata": {},
   "outputs": [
    {
     "name": "stdout",
     "output_type": "stream",
     "text": [
      "7e319c1a-175e-4414-94a6-eeef009707a0 dict_keys(['_id', 'wf_uuid', 'host', 'end_points', 'acr_notes', 'batt_id', 'source_mp_id', 'tags', 'last_updated', 'pathfinder', 'images'])\n",
      "83cb0a92-3be7-4e14-9088-5a447fd90e87 dict_keys(['_id', 'wf_uuid', 'host', 'end_points', 'acr_notes', 'batt_id', 'source_mp_id', 'tags', 'last_updated', 'pathfinder', 'images'])\n"
     ]
    }
   ],
   "source": [
    "for i in items:\n",
    "    print(i[aneb_store.key],i.keys())"
   ]
  },
  {
   "cell_type": "markdown",
   "id": "a59011b1-5a6e-4ab1-bbad-684126f78873",
   "metadata": {},
   "source": [
    "### Builder `process_item()` Method"
   ]
  },
  {
   "cell_type": "code",
   "execution_count": 41,
   "id": "89b9c4d2-a7ca-4daf-85d2-c1fa95bb3ec8",
   "metadata": {},
   "outputs": [],
   "source": [
    "item_for_target = builder.process_item(items[0])"
   ]
  },
  {
   "cell_type": "code",
   "execution_count": 42,
   "id": "5b2c7bc9-8a7d-458e-aba1-cbc35226b677",
   "metadata": {},
   "outputs": [
    {
     "name": "stdout",
     "output_type": "stream",
     "text": [
      "dict_keys(['wf_uuid', 'last_updated', '_process_time', 'host', 'end_points', 'acr_notes', 'batt_id', 'source_mp_id', 'tags', 'pathfinder', 'images', 'state'])\n"
     ]
    }
   ],
   "source": [
    "print(item_for_target.keys())"
   ]
  },
  {
   "cell_type": "markdown",
   "id": "38513965-3658-4c03-9f9d-5b7a4058e2b3",
   "metadata": {},
   "source": [
    "### Builder `update_target()` Method"
   ]
  },
  {
   "cell_type": "code",
   "execution_count": 43,
   "id": "cc75a8f7-914c-409d-b23d-caf05316aa92",
   "metadata": {},
   "outputs": [],
   "source": [
    "builder.update_targets([item_for_target])"
   ]
  },
  {
   "cell_type": "code",
   "execution_count": 44,
   "id": "e0b83b3f-87f9-4c42-8e88-fb3cdb786ded",
   "metadata": {},
   "outputs": [
    {
     "data": {
      "text/plain": [
       "1"
      ]
     },
     "execution_count": 44,
     "metadata": {},
     "output_type": "execute_result"
    }
   ],
   "source": [
    "sandbox_store.count(query)"
   ]
  },
  {
   "cell_type": "markdown",
   "id": "266c7584-ac08-4649-ab2f-9499e1fd23c6",
   "metadata": {
    "tags": []
   },
   "source": [
    "### Running a Builder for Testing: `run()` Method"
   ]
  },
  {
   "cell_type": "code",
   "execution_count": 45,
   "id": "ab026bd2-6fb4-42db-ae89-9387701e9535",
   "metadata": {},
   "outputs": [
    {
     "data": {
      "application/vnd.jupyter.widget-view+json": {
       "model_id": "99fceeea360f4f75af04c060382353eb",
       "version_major": 2,
       "version_minor": 0
      },
      "text/plain": [
       "0it [00:00, ?it/s]"
      ]
     },
     "metadata": {},
     "output_type": "display_data"
    },
    {
     "name": "stdout",
     "output_type": "stream",
     "text": [
      "2022-03-31 16:50:59,587 - CopyBuilder - INFO - Starting CopyBuilder Builder\n",
      "2022-03-31 16:50:59,643 - CopyBuilder - INFO - Processing 1 items\n",
      "2022-03-31 16:50:59,825 - CopyBuilder - INFO - Processing batch of 1000 items\n",
      "2022-03-31 16:50:59,825 - CopyBuilder - DEBUG - Processing: 83cb0a92-3be7-4e14-9088-5a447fd90e87\n"
     ]
    }
   ],
   "source": [
    "builder.run()"
   ]
  },
  {
   "cell_type": "code",
   "execution_count": 46,
   "id": "3e8e9826-355a-4a20-9df2-76a4bf14e964",
   "metadata": {},
   "outputs": [
    {
     "data": {
      "text/plain": [
       "2"
      ]
     },
     "execution_count": 46,
     "metadata": {},
     "output_type": "execute_result"
    }
   ],
   "source": [
    "sandbox_store.count(query)"
   ]
  },
  {
   "cell_type": "markdown",
   "id": "06be6ba4-9f78-4afb-aa87-d8ab30a52f8f",
   "metadata": {},
   "source": [
    "## Writing a Custom Builder\n",
    "\n",
    "`MapBuilder` is very helpful when you want to perform the same action on documents from your source store. This can be accomplished by customizing the `unary_function()` method.\n",
    "\n",
    "https://github.com/materialsproject/maggma/blob/main/src/maggma/builders/map_builder.py#L208"
   ]
  },
  {
   "cell_type": "code",
   "execution_count": 47,
   "id": "a6bb960d-62b4-4107-a21d-ef9f1aa1c2df",
   "metadata": {},
   "outputs": [],
   "source": [
    "class MyBuilder(MapBuilder):\n",
    "    def unary_function(self,item):\n",
    "        item_for_target = {\"wf_uuid\":item[\"wf_uuid\"], # important to keep key field\n",
    "                           \"note\":\"development\",\n",
    "                           \"bid\":item[\"batt_id\"] # let's try renaming the batt_id field\n",
    "                          }\n",
    "        return item_for_target"
   ]
  },
  {
   "cell_type": "code",
   "execution_count": 48,
   "id": "5dfc2f02-c82f-4e96-8962-e45bd80ecc28",
   "metadata": {},
   "outputs": [],
   "source": [
    "my_builder = MyBuilder(source=aneb_store, target=sandbox_store, query=query)"
   ]
  },
  {
   "cell_type": "markdown",
   "id": "2cda89bd-ddef-4f4b-848b-977450fad351",
   "metadata": {},
   "source": [
    "Before running our custom builder, we need to remove documents from our target store"
   ]
  },
  {
   "cell_type": "code",
   "execution_count": 49,
   "id": "13f26ce3-e389-4f89-aa35-49418ac8f48b",
   "metadata": {},
   "outputs": [
    {
     "name": "stdout",
     "output_type": "stream",
     "text": [
      "2\n",
      "0\n"
     ]
    }
   ],
   "source": [
    "print(sandbox_store.count(query))\n",
    "sandbox_store.remove_docs(query)\n",
    "print(sandbox_store.count(query))"
   ]
  },
  {
   "cell_type": "code",
   "execution_count": 50,
   "id": "966805f9-649c-49ce-9228-db7438a71354",
   "metadata": {},
   "outputs": [
    {
     "data": {
      "application/vnd.jupyter.widget-view+json": {
       "model_id": "25c47713205745cf8a49e16cdca621c5",
       "version_major": 2,
       "version_minor": 0
      },
      "text/plain": [
       "0it [00:00, ?it/s]"
      ]
     },
     "metadata": {},
     "output_type": "display_data"
    },
    {
     "name": "stdout",
     "output_type": "stream",
     "text": [
      "2022-03-31 16:51:58,988 - MyBuilder - INFO - Starting MyBuilder Builder\n",
      "2022-03-31 16:51:58,988 - MyBuilder - INFO - Starting MyBuilder Builder\n",
      "2022-03-31 16:51:59,163 - MyBuilder - INFO - Processing 2 items\n",
      "2022-03-31 16:51:59,163 - MyBuilder - INFO - Processing 2 items\n",
      "2022-03-31 16:51:59,471 - MyBuilder - INFO - Processing batch of 1000 items\n",
      "2022-03-31 16:51:59,471 - MyBuilder - INFO - Processing batch of 1000 items\n",
      "2022-03-31 16:51:59,471 - MyBuilder - DEBUG - Processing: 7e319c1a-175e-4414-94a6-eeef009707a0\n",
      "2022-03-31 16:51:59,471 - MyBuilder - DEBUG - Processing: 7e319c1a-175e-4414-94a6-eeef009707a0\n",
      "2022-03-31 16:51:59,471 - MyBuilder - DEBUG - Processing: 83cb0a92-3be7-4e14-9088-5a447fd90e87\n",
      "2022-03-31 16:51:59,471 - MyBuilder - DEBUG - Processing: 83cb0a92-3be7-4e14-9088-5a447fd90e87\n"
     ]
    }
   ],
   "source": [
    "my_builder.run()"
   ]
  },
  {
   "cell_type": "code",
   "execution_count": 51,
   "id": "baf0f0ef-fbe4-42c7-9122-f2545abab445",
   "metadata": {},
   "outputs": [
    {
     "name": "stdout",
     "output_type": "stream",
     "text": [
      "0\n"
     ]
    }
   ],
   "source": [
    "print(sandbox_store.count(query))"
   ]
  },
  {
   "cell_type": "code",
   "execution_count": null,
   "id": "999e82f2-e53d-44a5-a6ef-8fc5c4beeba8",
   "metadata": {},
   "outputs": [],
   "source": [
    "# our previous query needs to be modified because the custom builder renamed the batt_id field as bid\n",
    "print(sandbox_store.count({\"bid\":\"spinelTi2S4_Mg\"}))"
   ]
  },
  {
   "cell_type": "markdown",
   "id": "2686cd24-3247-4bd4-b861-90a7b713975e",
   "metadata": {
    "tags": []
   },
   "source": [
    "# Onboarding Independent Exercises\n",
    "\n",
    "1. How many total documents are in the `fw_acr_mv/approx_neb` collection?\n",
    "\n",
    "2. How many unique `batt_id` values are there for documents in the `fw_acr_mv/approx_neb` collection? How many unique `wf_uuid` values? \n",
    "\n",
    "3. Based on your answers to #1 and #2, what may be the best key field for the `fw_acr_mv/approx_neb` collection? Why?\n",
    "\n",
    "4. Obtain the unique `tags` values that contain the string `\"batch\"`. Then, count the number of documents matching these tags values (e.g. 18 docs match \"20191122_batch\", 25 docs match \"20191127_batch\", etc.). (Hint: try the MongoDB query operators `\"$in\"` or `\"$all\"` for finding documents where a list contains a certain value: https://docs.mongodb.com/manual/reference/operator/query/)\n",
    "\n",
    "5. Develop your own custom version of the MapBuilder and test out running it to check if it works as expected."
   ]
  },
  {
   "cell_type": "markdown",
   "id": "c182abdc-d974-49ca-b214-12a478ac8970",
   "metadata": {},
   "source": [
    "### 1. How many total documents are in the `fw_acr_mv/approx_neb` collection?"
   ]
  },
  {
   "cell_type": "code",
   "execution_count": 52,
   "id": "b88e5b87-a282-4e4c-a851-20d4cac98d92",
   "metadata": {},
   "outputs": [
    {
     "data": {
      "text/plain": [
       "214"
      ]
     },
     "execution_count": 52,
     "metadata": {},
     "output_type": "execute_result"
    }
   ],
   "source": [
    "aneb_store.count()"
   ]
  },
  {
   "cell_type": "markdown",
   "id": "5c229f6d-0c25-4379-873a-be048c514b28",
   "metadata": {},
   "source": [
    "### 2. How many unique `batt_id` values are there for documents in the `fw_acr_mv/approx_neb` collection? How many unique `wf_uuid` values? "
   ]
  },
  {
   "cell_type": "code",
   "execution_count": 53,
   "id": "ab0217d1-8dcd-4018-8856-b39e14d70eeb",
   "metadata": {},
   "outputs": [
    {
     "data": {
      "text/plain": [
       "199"
      ]
     },
     "execution_count": 53,
     "metadata": {},
     "output_type": "execute_result"
    }
   ],
   "source": [
    "len(aneb_store.distinct(field=\"batt_id\"))"
   ]
  },
  {
   "cell_type": "code",
   "execution_count": 54,
   "id": "ac14d6ef-2b3f-47ae-a0e7-7f192dd14c3e",
   "metadata": {},
   "outputs": [
    {
     "data": {
      "text/plain": [
       "214"
      ]
     },
     "execution_count": 54,
     "metadata": {},
     "output_type": "execute_result"
    }
   ],
   "source": [
    "len(aneb_store.distinct(field=\"wf_uuid\"))"
   ]
  },
  {
   "cell_type": "markdown",
   "id": "546b8ecf-6053-4697-a219-3561722b6bbc",
   "metadata": {},
   "source": [
    "### 3. Based on your answers to #1 and #2, what may be the best key field for the `fw_acr_mv/approx_neb` collection? Why?"
   ]
  },
  {
   "cell_type": "markdown",
   "id": "0abe30e6-02ca-4cc5-85c7-a504b6ee902b",
   "metadata": {},
   "source": [
    "There are some cases where multiple approx_neb docs have the same batt_id. There is a distinct wf_uuid value for every approx_neb doc so this is a better key field for distinguishing each doc as would be important for MapBuilder.\n",
    "\n",
    "However, the batt_id field may be a more appropriate key if we are interested in analysis for a given battery electrode. The best choice for key depends on the context."
   ]
  },
  {
   "cell_type": "markdown",
   "id": "c4812eb2-5bdb-4410-8d8e-337abf50a925",
   "metadata": {},
   "source": [
    "### 4. Obtain the unique `tags` values that contain the string `\"batch\"`. Then, count the number of documents matching these tags values (e.g. 18 docs match \"20191122_batch\", 25 docs match \"20191127_batch\", etc.). \n",
    "\n",
    "(Hint: try the MongoDB query operators `\"$in\"` or `\"$all\"` for finding documents where a list contains a certain value: https://docs.mongodb.com/manual/reference/operator/query/)"
   ]
  },
  {
   "cell_type": "code",
   "execution_count": 55,
   "id": "3d451a6b-66a0-45e8-81b5-e93009b3f495",
   "metadata": {},
   "outputs": [
    {
     "data": {
      "text/plain": [
       "['20191122_batch',\n",
       " '20191127_batch',\n",
       " '20200203_batch',\n",
       " '20200214_batch',\n",
       " '20200406_batch',\n",
       " '20200410_batch',\n",
       " '20200603_batch',\n",
       " '20201106_batch',\n",
       " '20201109_batch',\n",
       " '20210215_batch',\n",
       " '20210511_batch',\n",
       " '20210712_batch',\n",
       " '20210922_batch',\n",
       " '20211109_batch']"
      ]
     },
     "execution_count": 55,
     "metadata": {},
     "output_type": "execute_result"
    }
   ],
   "source": [
    "batch_values = [i for i in aneb_store.distinct(\"tags\") if \"batch\" in i]\n",
    "batch_values"
   ]
  },
  {
   "cell_type": "code",
   "execution_count": 56,
   "id": "2b90ba50-ee42-4017-90d7-11553298e496",
   "metadata": {},
   "outputs": [
    {
     "name": "stdout",
     "output_type": "stream",
     "text": [
      "20191122_batch 18\n",
      "20191127_batch 25\n",
      "20200203_batch 3\n",
      "20200214_batch 70\n",
      "20200406_batch 25\n",
      "20200410_batch 9\n",
      "20200603_batch 8\n",
      "20201106_batch 31\n",
      "20201109_batch 12\n",
      "20210215_batch 2\n",
      "20210511_batch 2\n",
      "20210712_batch 4\n",
      "20210922_batch 1\n",
      "20211109_batch 2\n"
     ]
    }
   ],
   "source": [
    "for b in batch_values:\n",
    "    print(b, aneb_store.count({\"tags\":{\"$all\":[b]}}))"
   ]
  },
  {
   "cell_type": "markdown",
   "id": "8e8d74cc-a0ca-4dd3-8360-9b902234932b",
   "metadata": {
    "tags": []
   },
   "source": [
    "### 5. Develop your own custom version of the MapBuilder and test out running it to check if it works as expected."
   ]
  },
  {
   "cell_type": "code",
   "execution_count": 57,
   "id": "d5984790-801e-4a43-9154-d25676c90b5f",
   "metadata": {},
   "outputs": [],
   "source": [
    "target_store = MongoStore(database= \"local_dev\",collection_name= \"custom_builder\")\n",
    "target_store.connect()"
   ]
  },
  {
   "cell_type": "code",
   "execution_count": 58,
   "id": "f6119024-a6f5-4ca3-8dbb-83b89857eace",
   "metadata": {},
   "outputs": [],
   "source": [
    "from pymatgen.core import Structure"
   ]
  },
  {
   "cell_type": "code",
   "execution_count": 59,
   "id": "46be64e6-1b5c-4b36-a8a6-1e4f8ba1987d",
   "metadata": {},
   "outputs": [],
   "source": [
    "class MyBuilder(MapBuilder):\n",
    "    def unary_function(self,item):\n",
    "        \"\"\"\n",
    "        store the wf_uuid field, rename the batt_id field as bid, store the host composition\n",
    "        \"\"\"\n",
    "        item_for_target = {\n",
    "            \"wf_uuid\":item[\"wf_uuid\"],\n",
    "            \"bid\":item[\"batt_id\"],\n",
    "        }\n",
    "        struct = Structure.from_dict(item[\"host\"][\"input_structure\"])\n",
    "        item_for_target.update({\"host_composition\":struct.composition})\n",
    "        return item_for_target"
   ]
  },
  {
   "cell_type": "code",
   "execution_count": 60,
   "id": "ede62e7d-3b49-42f9-9d8b-890a6377a9ed",
   "metadata": {},
   "outputs": [],
   "source": [
    "custom_builder = MyBuilder(source=aneb_store, target=target_store, query=query)"
   ]
  },
  {
   "cell_type": "code",
   "execution_count": 61,
   "id": "50e3b3df-356a-46af-8e9a-5ae7f6747117",
   "metadata": {},
   "outputs": [
    {
     "data": {
      "application/vnd.jupyter.widget-view+json": {
       "model_id": "fafb919359ff4e6eae07698bb6af5f33",
       "version_major": 2,
       "version_minor": 0
      },
      "text/plain": [
       "0it [00:00, ?it/s]"
      ]
     },
     "metadata": {},
     "output_type": "display_data"
    },
    {
     "name": "stdout",
     "output_type": "stream",
     "text": [
      "2022-03-31 16:52:27,543 - MyBuilder - INFO - Starting MyBuilder Builder\n",
      "2022-03-31 16:52:27,543 - MyBuilder - INFO - Starting MyBuilder Builder\n",
      "2022-03-31 16:52:27,543 - MyBuilder - INFO - Starting MyBuilder Builder\n",
      "2022-03-31 16:52:27,968 - MyBuilder - INFO - Processing 2 items\n",
      "2022-03-31 16:52:27,968 - MyBuilder - INFO - Processing 2 items\n",
      "2022-03-31 16:52:27,968 - MyBuilder - INFO - Processing 2 items\n",
      "2022-03-31 16:52:28,530 - MyBuilder - INFO - Processing batch of 1000 items\n",
      "2022-03-31 16:52:28,530 - MyBuilder - INFO - Processing batch of 1000 items\n",
      "2022-03-31 16:52:28,530 - MyBuilder - INFO - Processing batch of 1000 items\n",
      "2022-03-31 16:52:28,530 - MyBuilder - DEBUG - Processing: 7e319c1a-175e-4414-94a6-eeef009707a0\n",
      "2022-03-31 16:52:28,530 - MyBuilder - DEBUG - Processing: 7e319c1a-175e-4414-94a6-eeef009707a0\n",
      "2022-03-31 16:52:28,530 - MyBuilder - DEBUG - Processing: 7e319c1a-175e-4414-94a6-eeef009707a0\n",
      "2022-03-31 16:52:28,534 - MyBuilder - DEBUG - Processing: 83cb0a92-3be7-4e14-9088-5a447fd90e87\n",
      "2022-03-31 16:52:28,534 - MyBuilder - DEBUG - Processing: 83cb0a92-3be7-4e14-9088-5a447fd90e87\n",
      "2022-03-31 16:52:28,534 - MyBuilder - DEBUG - Processing: 83cb0a92-3be7-4e14-9088-5a447fd90e87\n"
     ]
    }
   ],
   "source": [
    "custom_builder.run()"
   ]
  },
  {
   "cell_type": "code",
   "execution_count": null,
   "id": "e212704d-e5b3-454e-9ac7-04bc43b12b6f",
   "metadata": {},
   "outputs": [],
   "source": []
  }
 ],
 "metadata": {
  "kernelspec": {
   "display_name": "Python 3 (ipykernel)",
   "language": "python",
   "name": "python3"
  },
  "language_info": {
   "codemirror_mode": {
    "name": "ipython",
    "version": 3
   },
   "file_extension": ".py",
   "mimetype": "text/x-python",
   "name": "python",
   "nbconvert_exporter": "python",
   "pygments_lexer": "ipython3",
   "version": "3.9.16"
  }
 },
 "nbformat": 4,
 "nbformat_minor": 5
}
