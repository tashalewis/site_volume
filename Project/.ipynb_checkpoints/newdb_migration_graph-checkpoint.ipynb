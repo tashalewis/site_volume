{
 "cells": [
  {
   "cell_type": "code",
   "execution_count": 1,
   "id": "a9144126-7b9c-4682-b3d9-25f8555a8b6f",
   "metadata": {},
   "outputs": [
    {
     "name": "stderr",
     "output_type": "stream",
     "text": [
      "/Users/QianChen/opt/miniconda3/envs/cms/lib/python3.9/site-packages/maggma/utils.py:20: TqdmExperimentalWarning: Using `tqdm.autonotebook.tqdm` in notebook mode. Use `tqdm.tqdm` instead to force console mode (e.g. in jupyter console)\n",
      "  from tqdm.autonotebook import tqdm\n"
     ]
    }
   ],
   "source": [
    "from maggma.stores.advanced_stores import MongograntStore"
   ]
  },
  {
   "cell_type": "code",
   "execution_count": 2,
   "id": "9e5e4062-9b61-4afa-a7cb-e6c66066f34f",
   "metadata": {},
   "outputs": [
    {
     "name": "stderr",
     "output_type": "stream",
     "text": [
      "/Users/QianChen/opt/miniconda3/envs/cms/lib/python3.9/site-packages/pymatgen/analysis/path_finder.py:37: FutureWarning: This code has been superseded by pymatgen.analysis.neb in the separate add-on packagepymatgen-diffusion. This module here is retained for backwards compatibility. It will be removed from2022.1.1.\n",
      "  warnings.warn(\n"
     ]
    }
   ],
   "source": [
    "from pymatgen.core import Structure\n",
    "from pymatgen.analysis.diffusion.neb.full_path_mapper import MigrationGraph"
   ]
  },
  {
   "cell_type": "code",
   "execution_count": 3,
   "id": "e6ed7097-3f3c-49c4-862f-8944cf20dec0",
   "metadata": {},
   "outputs": [],
   "source": [
    "aneba_store = MongograntStore(\"ro:mongodb03.nersc.gov/fw_acr_mv\",\"approx_neb_analysis\",key=\"wf_uuid\",mgclient_config_path='/Users/QianChen/Documents/UG2022/training/2022March/.mongogrant_ann.json')\n",
    "aneba_store.connect()"
   ]
  },
  {
   "cell_type": "code",
   "execution_count": 4,
   "id": "aa5b5018-d691-4d9d-bf32-1681db30e72d",
   "metadata": {},
   "outputs": [],
   "source": [
    "elec_store = MongograntStore(\"ro:mongodb03.nersc.gov/fw_acr_mv\",\"vw_elec\",key=\"battid\",mgclient_config_path='/Users/QianChen/Documents/UG2022/training/2022March/.mongogrant_ann.json')\n",
    "elec_store.connect()"
   ]
  },
  {
   "cell_type": "code",
   "execution_count": 5,
   "id": "793081a9-0590-4294-b294-d8596fb0f204",
   "metadata": {},
   "outputs": [],
   "source": [
    "new_elec_store = MongograntStore(\"ro:mongodb03.nersc.gov/fw_acr_mv\",\"rank_electrodes_2022\",mgclient_config_path='/Users/QianChen/Documents/UG2022/training/2022March/.mongogrant_ann.json')\n",
    "new_elec_store.connect()"
   ]
  },
  {
   "cell_type": "code",
   "execution_count": 6,
   "id": "e1a69829-3dee-444c-85bd-29b3d505f3a7",
   "metadata": {},
   "outputs": [],
   "source": [
    "from pymatgen.analysis.structure_matcher import StructureMatcher\n",
    "sm = StructureMatcher()"
   ]
  },
  {
   "cell_type": "code",
   "execution_count": 7,
   "id": "e4e9aa35-f228-4c9e-afaf-59b897adf76b",
   "metadata": {},
   "outputs": [],
   "source": [
    "aneba_doc_list = list(aneba_store.query({'battid':{'$regex':'Mg'}}))"
   ]
  },
  {
   "cell_type": "code",
   "execution_count": 8,
   "id": "91adcf2e-cb14-4c7b-b170-aac88cf7bf8c",
   "metadata": {
    "tags": []
   },
   "outputs": [
    {
     "name": "stderr",
     "output_type": "stream",
     "text": [
      "/Users/QianChen/opt/miniconda3/envs/cms/lib/python3.9/site-packages/pymatgen/core/structure.py:756: UserWarning: Not all sites have property insertion_energy. Missing values are set to None.\n",
      "  warnings.warn(f\"Not all sites have property {k}. Missing values are set to None.\")\n"
     ]
    },
    {
     "name": "stdout",
     "output_type": "stream",
     "text": [
      "0 documents found for 137999_Mg Cr4OF11\n",
      "0 documents found for 152763_Mg RbSnIO6\n",
      "0 documents found for 113245_Mg Ta3WS8\n",
      "0 documents found for 4293_Mg Ag2Te4MoO12\n",
      "0 documents found for 17332_Mg Nb4FeS8\n",
      "0 documents found for 13970_Mg Cs2SnF6\n",
      "0 documents found for 127214_Mg CdAg2Sn3S8\n",
      "0 documents found for 137976_Mg Cr4OF11\n",
      "0 documents found for 13790_Mg Rb2MnF6\n",
      "0 documents found for 14248_Mg Sn(PS3)2\n",
      "0 documents found for 1451_Mg P4WO12\n",
      "0 documents found for 131960_Mg SrV4O10\n",
      "0 documents found for 132383_Mg Ta4MoS10\n",
      "0 documents found for 138626_Mg ReF7\n",
      "0 documents found for 128032_Mg Yb(CuS)3\n",
      "0 documents found for 42993_Mg Fe2P3O10\n",
      "0 documents found for 1296_Mg BaFeBP2O9\n",
      "0 documents found for 7112_Mg CrF6\n",
      "0 documents found for 1421_Mg V4(OF3)3\n",
      "structures don't match for 127554_Mg\n",
      "0 documents found for 13673_Mg NiPbF6\n",
      "0 documents found for 4536_Mg SmMoI4O15\n",
      "0 documents found for 14637_Mg YbBiO3\n",
      "0 documents found for 154451_Mg Sb(IF3)2\n",
      "0 documents found for 1436_Mg RbUCrO6\n",
      "0 documents found for 152173_Mg YbHfF7\n",
      "0 documents found for 138009_Mg Cr4OF11\n",
      "0 documents found for 126477_Mg Cr2AgS4\n",
      "0 documents found for 137943_Mg Cr4OF11\n",
      "0 documents found for 114444_Mg Ta3MoS8\n",
      "0 documents found for 17817_Mg MnCrF5\n",
      "0 documents found for 37366_Mg BiF5\n",
      "0 documents found for 1443_Mg VHO3\n",
      "0 documents found for 4391_Mg KFe2P3(O4F3)2\n",
      "0 documents found for 153255_Mg Mn2CoO6\n"
     ]
    }
   ],
   "source": [
    "for doc in aneba_doc_list:\n",
    "    battid = doc['battid']  # Old battery id\n",
    "    wf_uuid = doc['wf_uuid']\n",
    "    struct = Structure.from_dict(doc['host']['input'])\n",
    "    elements = list(struct.composition.as_dict().keys())\n",
    "    if elec_store.count({'battid':battid})>1:\n",
    "        print('more than one elec doc found for battid'+battid)\n",
    "        \n",
    "    elec_doc = elec_store.query_one({\"approx_neb_wf_uuid\":wf_uuid,'battid':battid})  # The old way to query with battery id and wf uuid\n",
    "    if elec_doc:\n",
    "        material_ids = [str(i) for i in elec_doc['material_ids']]   # get material ids\n",
    "        material_ids.extend(['js-'+i for i in material_ids])  \n",
    "        if new_elec_store.count({'material_ids':{'$in':material_ids},'elements':{'$all':elements}}) == 1:\n",
    "            elec_doc = new_elec_store.query_one({'material_ids':{'$in':material_ids},'elements':{'$all':elements}})\n",
    "            mg = MigrationGraph.from_dict(elec_doc['migration_graph'])   # get migration graph\n",
    "            print(\"structures don't match for \"+battid) if sm.fit(struct,mg.host_structure)==False else None\n",
    "        else:\n",
    "            print(str(new_elec_store.count({'material_ids':{'$in':material_ids},'elements':{'$all':elements}}))+ ' documents found for '+battid,elec_doc['formula_charge'])         \n",
    "    "
   ]
  },
  {
   "cell_type": "code",
   "execution_count": null,
   "id": "9663f060-19b8-4c03-922b-9fcdbda9c087",
   "metadata": {},
   "outputs": [],
   "source": []
  }
 ],
 "metadata": {
  "kernelspec": {
   "display_name": "Python3 (Cms)",
   "language": "python",
   "name": "cms"
  },
  "language_info": {
   "codemirror_mode": {
    "name": "ipython",
    "version": 3
   },
   "file_extension": ".py",
   "mimetype": "text/x-python",
   "name": "python",
   "nbconvert_exporter": "python",
   "pygments_lexer": "ipython3",
   "version": "3.9.7"
  }
 },
 "nbformat": 4,
 "nbformat_minor": 5
}
