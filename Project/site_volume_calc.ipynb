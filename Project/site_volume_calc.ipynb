{
 "cells": [
  {
   "cell_type": "code",
   "execution_count": 2,
   "id": "89f1ee8f-1607-4e3c-9e6d-d03670e4640a",
   "metadata": {},
   "outputs": [],
   "source": [
    "from pymatgen.core import Structure, Element, Lattice, PeriodicSite\n",
    "from pprint import pprint\n",
    "import numpy as np\n",
    "from pydash import get"
   ]
  },
  {
   "cell_type": "code",
   "execution_count": 3,
   "id": "2e2ccfe7-7a92-4eba-9950-46b6d2b52c2e",
   "metadata": {},
   "outputs": [
    {
     "name": "stderr",
     "output_type": "stream",
     "text": [
      "/Users/tashalewis/opt/anaconda3/envs/cms/lib/python3.9/site-packages/pymatgen/analysis/path_finder.py:37: FutureWarning: This code has been superseded by pymatgen.analysis.neb in the separate add-on packagepymatgen-diffusion. This module here is retained for backwards compatibility. It will be removed from2022.1.1.\n",
      "  warnings.warn(\n"
     ]
    }
   ],
   "source": [
    "from pymatgen.core import Structure\n",
    "from pymatgen.analysis.diffusion.neb.full_path_mapper import MigrationGraph"
   ]
  },
  {
   "cell_type": "code",
   "execution_count": 4,
   "id": "fd39a810-774f-4ad5-8d80-f3b90564b7ed",
   "metadata": {},
   "outputs": [
    {
     "name": "stderr",
     "output_type": "stream",
     "text": [
      "/Users/tashalewis/opt/anaconda3/envs/cms/lib/python3.9/site-packages/maggma/utils.py:20: TqdmWarning: IProgress not found. Please update jupyter and ipywidgets. See https://ipywidgets.readthedocs.io/en/stable/user_install.html\n",
      "  from tqdm.autonotebook import tqdm\n"
     ]
    }
   ],
   "source": [
    "from maggma.stores.advanced_stores import MongograntStore\n",
    "from maggma.stores.compound_stores import ConcatStore"
   ]
  },
  {
   "cell_type": "code",
   "execution_count": 5,
   "id": "e9dd017a-5327-4eeb-bb3c-6e9e8badf33d",
   "metadata": {},
   "outputs": [],
   "source": [
    "from pymatgen.core import Structure\n",
    "from pymatgen.analysis.local_env import VoronoiNN, CrystalNN\n",
    "vnn = VoronoiNN()\n",
    "cnn = CrystalNN()"
   ]
  },
  {
   "cell_type": "code",
   "execution_count": 6,
   "id": "3e1e7c12-02af-4495-9ea1-a197a7135037",
   "metadata": {},
   "outputs": [],
   "source": [
    "from pymatgen.analysis.structure_matcher import StructureMatcher\n",
    "sm = StructureMatcher()"
   ]
  },
  {
   "cell_type": "code",
   "execution_count": 9,
   "id": "00290d9e-b17f-4ac2-935d-02e405c93c28",
   "metadata": {},
   "outputs": [],
   "source": [
    "# material_id and task_ids\n",
    "materials = MongograntStore(\"ro:mongodb07-ext.nersc.gov/fw_acr_mv\",\"materials_2022\",key=\"task_id\")\n",
    "materials.connect()\n",
    "\n",
    "# \"material_ids\" & \"host_material_ids\" & \"insertion_material_ids\" \n",
    "sgroup = MongograntStore(\"ro:mongodb07-ext.nersc.gov/fw_acr_mv\",\"sgroups_2022\",key=\"_id\")\n",
    "sgroup.connect()\n",
    "\n",
    "# \"material_ids\" & \"host_structure\" & \"battery_id\" & \"entries_composition_summary\" \n",
    "insert_elec = MongograntStore(\"ro:mongodb07-ext.nersc.gov/fw_acr_mv\",\"insertion_electrodes_2022\",key=\"_id\")\n",
    "insert_elec.connect()\n",
    "\n",
    "# \"battery_id\" & \"migration_graph\" & \"matrix_supercell_structure\" & \"inserted_ion_coords\n",
    "mig_graph = MongograntStore(\"ro:mongodb07-ext.nersc.gov/fw_acr_mv\",\"migration_graph_2022\",key=\"task_id\")\n",
    "mig_graph.connect()\n",
    "\n",
    "aneba_store = MongograntStore(\"ro:mongodb07-ext.nersc.gov/fw_acr_mv\", \"approx_neb_analysis\", key=\"wf_uuid\")\n",
    "aneba_store.connect()\n",
    "\n",
    "elec_store = MongograntStore(\"ro:mongodb07-ext.nersc.gov/fw_acr_mv\",\"vw_elec\",key=\"battid\")\n",
    "elec_store.connect()\n",
    "\n",
    "# \"battery_id\" & \"host_structure\" & \"material_ids\" & \"migration_graph\" & \"inserted_ion_coords\"\n",
    "rank_elec_store = MongograntStore(\"ro:mongodb07-ext.nersc.gov/fw_acr_mv\",\"rank_electrodes_2022\")\n",
    "rank_elec_store.connect()"
   ]
  },
  {
   "cell_type": "code",
   "execution_count": null,
   "id": "fc2560c9-1122-4bb4-8ac0-221fcfe47aa8",
   "metadata": {},
   "outputs": [],
   "source": [
    "rank_elec_list = list(rank_elec_store.query({'battery_id':{'$regex':'Mg'}}))\n",
    "rank_elec_list"
   ]
  },
  {
   "cell_type": "code",
   "execution_count": 14,
   "id": "4671a5e4-8fca-4e0d-9a36-3e76dba9fba2",
   "metadata": {},
   "outputs": [],
   "source": [
    "aneba_doc_list = list(aneba_store.query({'battid':{'$regex':'Mg'}}))"
   ]
  },
  {
   "cell_type": "code",
   "execution_count": 24,
   "id": "32220b2b-2abe-436a-b4a2-381164277d65",
   "metadata": {},
   "outputs": [],
   "source": [
    "for doc in aneba_doc_list:\n",
    "    battid = doc['battid']  # Old battery id\n",
    "    wf_uuid = doc['wf_uuid']\n",
    "    hop_key = list(doc['data'].keys())\n",
    "    struct = Structure.from_dict(doc['host']['input'])\n",
    "    elements = list(struct.composition.as_dict().keys())\n",
    "    #print(wf_uuid)\n",
    "    #print(hop_key)"
   ]
  },
  {
   "cell_type": "code",
   "execution_count": 25,
   "id": "e3b94cec-d1c4-41af-9592-6657d9c9aee8",
   "metadata": {},
   "outputs": [],
   "source": [
    "def process(wf_uuid, hop_key):\n",
    "    doc = aneba_store.query_one({\"wf_uuid\":wf_uuid})\n",
    "    structs = [Structure.from_dict(s) for s in doc[\"data\"][hop_key][\"output_structures\"]]\n",
    "    indexes = doc[\"data\"][hop_key][\"relax_site_indexes\"]\n",
    "    vols = [sum([v[\"volume\"] for v in vnn.get_voronoi_polyhedra(struct,i).values()]) for i,struct in zip(indexes,structs)]\n",
    "    \n",
    "    cns = []\n",
    "    for n,struct in zip(indexes,structs):\n",
    "        # crystal nn\n",
    "        cn = cnn.get_cn(struct,n)\n",
    "        cns.append(cn)\n",
    "    \n",
    "    return {\"wf_uuid\":wf_uuid,\n",
    "            \"vv\":vols,\n",
    "            \"cn\":cns,\n",
    "            \"energies\":doc[\"data\"][hop_key][\"energies\"],\n",
    "            \"wi_sites\":doc[\"data\"][hop_key][\"wi_sites\"],\n",
    "            \"structs\":doc[\"data\"][hop_key][\"output_structures\"],\n",
    "            \"doc\":doc\n",
    "           }"
   ]
  },
  {
   "cell_type": "code",
   "execution_count": 26,
   "id": "a7032b37-2a87-444f-ad3d-b53b5a50733e",
   "metadata": {},
   "outputs": [
    {
     "ename": "TypeError",
     "evalue": "'NoneType' object is not subscriptable",
     "output_type": "error",
     "traceback": [
      "\u001b[0;31m---------------------------------------------------------------------------\u001b[0m",
      "\u001b[0;31mTypeError\u001b[0m                                 Traceback (most recent call last)",
      "Input \u001b[0;32mIn [26]\u001b[0m, in \u001b[0;36m<cell line: 1>\u001b[0;34m()\u001b[0m\n\u001b[0;32m----> 1\u001b[0m \u001b[43mprocess\u001b[49m\u001b[43m(\u001b[49m\u001b[38;5;124;43m'\u001b[39;49m\u001b[38;5;124;43m040f2cd0-0577-407d-bc39-7bb709146734\u001b[39;49m\u001b[38;5;124;43m'\u001b[39;49m\u001b[43m,\u001b[49m\u001b[43m \u001b[49m\u001b[38;5;124;43m'\u001b[39;49m\u001b[38;5;124;43m0+1\u001b[39;49m\u001b[38;5;124;43m'\u001b[39;49m\u001b[43m)\u001b[49m\n",
      "Input \u001b[0;32mIn [25]\u001b[0m, in \u001b[0;36mprocess\u001b[0;34m(wf_uuid, hop_key)\u001b[0m\n\u001b[1;32m      1\u001b[0m \u001b[38;5;28;01mdef\u001b[39;00m \u001b[38;5;21mprocess\u001b[39m(wf_uuid, hop_key):\n\u001b[1;32m      2\u001b[0m     doc \u001b[38;5;241m=\u001b[39m aneba_store\u001b[38;5;241m.\u001b[39mquery_one({\u001b[38;5;124m\"\u001b[39m\u001b[38;5;124mwf_uuid\u001b[39m\u001b[38;5;124m\"\u001b[39m:wf_uuid})\n\u001b[0;32m----> 3\u001b[0m     structs \u001b[38;5;241m=\u001b[39m [Structure\u001b[38;5;241m.\u001b[39mfrom_dict(s) \u001b[38;5;28;01mfor\u001b[39;00m s \u001b[38;5;129;01min\u001b[39;00m doc[\u001b[38;5;124m\"\u001b[39m\u001b[38;5;124mdata\u001b[39m\u001b[38;5;124m\"\u001b[39m][hop_key][\u001b[38;5;124m\"\u001b[39m\u001b[38;5;124moutput_structures\u001b[39m\u001b[38;5;124m\"\u001b[39m]]\n\u001b[1;32m      4\u001b[0m     indexes \u001b[38;5;241m=\u001b[39m doc[\u001b[38;5;124m\"\u001b[39m\u001b[38;5;124mdata\u001b[39m\u001b[38;5;124m\"\u001b[39m][hop_key][\u001b[38;5;124m\"\u001b[39m\u001b[38;5;124mrelax_site_indexes\u001b[39m\u001b[38;5;124m\"\u001b[39m]\n\u001b[1;32m      5\u001b[0m     vols \u001b[38;5;241m=\u001b[39m [\u001b[38;5;28msum\u001b[39m([v[\u001b[38;5;124m\"\u001b[39m\u001b[38;5;124mvolume\u001b[39m\u001b[38;5;124m\"\u001b[39m] \u001b[38;5;28;01mfor\u001b[39;00m v \u001b[38;5;129;01min\u001b[39;00m vnn\u001b[38;5;241m.\u001b[39mget_voronoi_polyhedra(struct,i)\u001b[38;5;241m.\u001b[39mvalues()]) \u001b[38;5;28;01mfor\u001b[39;00m i,struct \u001b[38;5;129;01min\u001b[39;00m \u001b[38;5;28mzip\u001b[39m(indexes,structs)]\n",
      "Input \u001b[0;32mIn [25]\u001b[0m, in \u001b[0;36m<listcomp>\u001b[0;34m(.0)\u001b[0m\n\u001b[1;32m      1\u001b[0m \u001b[38;5;28;01mdef\u001b[39;00m \u001b[38;5;21mprocess\u001b[39m(wf_uuid, hop_key):\n\u001b[1;32m      2\u001b[0m     doc \u001b[38;5;241m=\u001b[39m aneba_store\u001b[38;5;241m.\u001b[39mquery_one({\u001b[38;5;124m\"\u001b[39m\u001b[38;5;124mwf_uuid\u001b[39m\u001b[38;5;124m\"\u001b[39m:wf_uuid})\n\u001b[0;32m----> 3\u001b[0m     structs \u001b[38;5;241m=\u001b[39m [\u001b[43mStructure\u001b[49m\u001b[38;5;241;43m.\u001b[39;49m\u001b[43mfrom_dict\u001b[49m\u001b[43m(\u001b[49m\u001b[43ms\u001b[49m\u001b[43m)\u001b[49m \u001b[38;5;28;01mfor\u001b[39;00m s \u001b[38;5;129;01min\u001b[39;00m doc[\u001b[38;5;124m\"\u001b[39m\u001b[38;5;124mdata\u001b[39m\u001b[38;5;124m\"\u001b[39m][hop_key][\u001b[38;5;124m\"\u001b[39m\u001b[38;5;124moutput_structures\u001b[39m\u001b[38;5;124m\"\u001b[39m]]\n\u001b[1;32m      4\u001b[0m     indexes \u001b[38;5;241m=\u001b[39m doc[\u001b[38;5;124m\"\u001b[39m\u001b[38;5;124mdata\u001b[39m\u001b[38;5;124m\"\u001b[39m][hop_key][\u001b[38;5;124m\"\u001b[39m\u001b[38;5;124mrelax_site_indexes\u001b[39m\u001b[38;5;124m\"\u001b[39m]\n\u001b[1;32m      5\u001b[0m     vols \u001b[38;5;241m=\u001b[39m [\u001b[38;5;28msum\u001b[39m([v[\u001b[38;5;124m\"\u001b[39m\u001b[38;5;124mvolume\u001b[39m\u001b[38;5;124m\"\u001b[39m] \u001b[38;5;28;01mfor\u001b[39;00m v \u001b[38;5;129;01min\u001b[39;00m vnn\u001b[38;5;241m.\u001b[39mget_voronoi_polyhedra(struct,i)\u001b[38;5;241m.\u001b[39mvalues()]) \u001b[38;5;28;01mfor\u001b[39;00m i,struct \u001b[38;5;129;01min\u001b[39;00m \u001b[38;5;28mzip\u001b[39m(indexes,structs)]\n",
      "File \u001b[0;32m~/opt/anaconda3/envs/cms/lib/python3.9/site-packages/pymatgen/core/structure.py:2408\u001b[0m, in \u001b[0;36mIStructure.from_dict\u001b[0;34m(cls, d, fmt)\u001b[0m\n\u001b[1;32m   2404\u001b[0m     \u001b[38;5;28;01mfrom\u001b[39;00m \u001b[38;5;21;01mpymatgen\u001b[39;00m\u001b[38;5;21;01m.\u001b[39;00m\u001b[38;5;21;01mio\u001b[39;00m\u001b[38;5;21;01m.\u001b[39;00m\u001b[38;5;21;01mabinit\u001b[39;00m\u001b[38;5;21;01m.\u001b[39;00m\u001b[38;5;21;01mabiobjects\u001b[39;00m \u001b[38;5;28;01mimport\u001b[39;00m structure_from_abivars\n\u001b[1;32m   2406\u001b[0m     \u001b[38;5;28;01mreturn\u001b[39;00m structure_from_abivars(\u001b[38;5;28mcls\u001b[39m\u001b[38;5;241m=\u001b[39m\u001b[38;5;28mcls\u001b[39m, \u001b[38;5;241m*\u001b[39m\u001b[38;5;241m*\u001b[39md)\n\u001b[0;32m-> 2408\u001b[0m lattice \u001b[38;5;241m=\u001b[39m Lattice\u001b[38;5;241m.\u001b[39mfrom_dict(\u001b[43md\u001b[49m\u001b[43m[\u001b[49m\u001b[38;5;124;43m\"\u001b[39;49m\u001b[38;5;124;43mlattice\u001b[39;49m\u001b[38;5;124;43m\"\u001b[39;49m\u001b[43m]\u001b[49m)\n\u001b[1;32m   2409\u001b[0m sites \u001b[38;5;241m=\u001b[39m [PeriodicSite\u001b[38;5;241m.\u001b[39mfrom_dict(sd, lattice) \u001b[38;5;28;01mfor\u001b[39;00m sd \u001b[38;5;129;01min\u001b[39;00m d[\u001b[38;5;124m\"\u001b[39m\u001b[38;5;124msites\u001b[39m\u001b[38;5;124m\"\u001b[39m]]\n\u001b[1;32m   2410\u001b[0m charge \u001b[38;5;241m=\u001b[39m d\u001b[38;5;241m.\u001b[39mget(\u001b[38;5;124m\"\u001b[39m\u001b[38;5;124mcharge\u001b[39m\u001b[38;5;124m\"\u001b[39m, \u001b[38;5;28;01mNone\u001b[39;00m)\n",
      "\u001b[0;31mTypeError\u001b[0m: 'NoneType' object is not subscriptable"
     ]
    }
   ],
   "source": [
    "process('040f2cd0-0577-407d-bc39-7bb709146734', '0+1')"
   ]
  },
  {
   "cell_type": "code",
   "execution_count": null,
   "id": "f629fbbe-1e5e-4d4e-baaf-bafd1a25c670",
   "metadata": {},
   "outputs": [],
   "source": []
  }
 ],
 "metadata": {
  "kernelspec": {
   "display_name": "Python 3 (ipykernel)",
   "language": "python",
   "name": "python3"
  },
  "language_info": {
   "codemirror_mode": {
    "name": "ipython",
    "version": 3
   },
   "file_extension": ".py",
   "mimetype": "text/x-python",
   "name": "python",
   "nbconvert_exporter": "python",
   "pygments_lexer": "ipython3",
   "version": "3.9.13"
  }
 },
 "nbformat": 4,
 "nbformat_minor": 5
}
