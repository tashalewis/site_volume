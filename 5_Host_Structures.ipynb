{
 "cells": [
  {
   "cell_type": "markdown",
   "id": "764aad4a-ba0b-43d6-9954-4b0f4b6fb00c",
   "metadata": {
    "tags": []
   },
   "source": [
    "## Analyzing 5 Different Host Strucutres and Migration Graphs \n",
    "* $\\ce{MnO2}$\n",
    "* $\\ce{VPO5}$ \n",
    "* $\\ce{NaV4O10}$\n",
    "* $\\ce{Cu5P3O13}$\n",
    "* $\\ce{CrO3}$\n",
    "\n",
    "By Tasha Lewis\n",
    "January 1st, 2023"
   ]
  },
  {
   "cell_type": "code",
   "execution_count": 5,
   "id": "e8aa0e18-36f2-4b27-a77e-04c892ce4e18",
   "metadata": {},
   "outputs": [
    {
     "name": "stderr",
     "output_type": "stream",
     "text": [
      "/Users/tashalewis/miniconda3/envs/torl/lib/python3.9/site-packages/pymatgen/analysis/path_finder.py:37: FutureWarning: This code has been superseded by pymatgen.analysis.neb in the separate add-on packagepymatgen-diffusion. This module here is retained for backwards compatibility. It will be removed from2022.1.1.\n",
      "  warnings.warn(\n"
     ]
    }
   ],
   "source": [
    "from pymatgen.core import Structure, Element, Lattice, PeriodicSite\n",
    "from pymatgen.ext.matproj import MPRester\n",
    "mpr = MPRester()\n",
    "from pymatgen.analysis.diffusion.neb.full_path_mapper import MigrationGraph\n",
    "from pprint import pprint\n",
    "import numpy as np\n",
    "from pydash import get"
   ]
  },
  {
   "cell_type": "code",
   "execution_count": 6,
   "id": "d8615983-00cb-4a4e-adeb-f3d9aedc01dd",
   "metadata": {},
   "outputs": [],
   "source": [
    "from maggma.stores.advanced_stores import MongograntStore\n",
    "from maggma.stores.compound_stores import ConcatStore"
   ]
  },
  {
   "cell_type": "code",
   "execution_count": 7,
   "id": "6fff85fd-3e5a-46a6-989f-ce4c623c12cf",
   "metadata": {},
   "outputs": [],
   "source": [
    "from pymatgen.core import Structure\n",
    "from pymatgen.analysis.local_env import VoronoiNN, CrystalNN\n",
    "vnn = VoronoiNN()\n",
    "cnn = CrystalNN()\n",
    "from pymatgen.analysis.structure_matcher import StructureMatcher\n",
    "sm = StructureMatcher()"
   ]
  },
  {
   "cell_type": "code",
   "execution_count": 8,
   "id": "a9ecd00d-3cb6-4468-8fbe-f2b1a0ea5f24",
   "metadata": {},
   "outputs": [],
   "source": [
    "# material_id and task_ids\n",
    "materials = MongograntStore(\"ro:mongodb07-ext.nersc.gov/fw_acr_mv\", \"materials_2022\", key=\"task_id\")\n",
    "materials.connect()\n",
    "\n",
    "# \"material_ids\" & \"host_material_ids\" & \"insertion_material_ids\" \n",
    "sgroup = MongograntStore(\"ro:mongodb07-ext.nersc.gov/fw_acr_mv\", \"sgroups_2022\", key=\"_id\")\n",
    "sgroup.connect()\n",
    "\n",
    "# \"material_ids\" & \"host_structure\" & \"battery_id\" & \"entries_composition_summary\" \n",
    "insert_elec = MongograntStore(\"ro:mongodb07-ext.nersc.gov/fw_acr_mv\", \"insertion_electrodes_2022\", key=\"_id\")\n",
    "insert_elec.connect()\n",
    "\n",
    "# \"battery_id\" & \"migration_graph\" & \"matrix_supercell_structure\" & \"inserted_ion_coords\n",
    "mig_graph = MongograntStore(\"ro:mongodb07-ext.nersc.gov/fw_acr_mv\", \"migration_graph_2022\", key=\"task_id\")\n",
    "mig_graph.connect()\n",
    "\n",
    "aneba_store = MongograntStore(\"ro:mongodb07-ext.nersc.gov/fw_acr_mv\", \"approx_neb_analysis\", key=\"wf_uuid\")\n",
    "aneba_store.connect()\n",
    "\n",
    "elec_store = MongograntStore(\"ro:mongodb07-ext.nersc.gov/fw_acr_mv\", \"vw_elec\", key=\"battid\")\n",
    "elec_store.connect()\n",
    "\n",
    "# \"battery_id\" & \"host_structure\" & \"material_ids\" & \"migration_graph\" & \"inserted_ion_coords\"\n",
    "new_elec_store = MongograntStore(\"ro:mongodb07-ext.nersc.gov/fw_acr_mv\", \"rank_electrodes_2022\")\n",
    "new_elec_store.connect()\n"
   ]
  },
  {
   "cell_type": "code",
   "execution_count": 61,
   "id": "be7a4de6-ec42-42e1-9d7d-4224cc3b3320",
   "metadata": {},
   "outputs": [],
   "source": [
    "def information(battery_id):\n",
    "    old_batt_id = battery_id\n",
    "    doc = aneba_store.query_one({\"battid\": battery_id})\n",
    "    wf_uuid = doc[\"wf_uuid\"]\n",
    "    struct = Structure.from_dict(doc['host']['input'])\n",
    "    \n",
    "    elements = list(struct.composition.as_dict().keys())\n",
    "    comp = struct.composition.to_pretty_string()\n",
    "    \n",
    "    elec_doc = elec_store.query_one({\"approx_neb_wf_uuid\":wf_uuid, 'battid': old_batt_id})\n",
    "    \n",
    "    if elec_doc:\n",
    "        material_ids = [str(i) for i in elec_doc['material_ids']]   # get material ids\n",
    "        js_material_ids = ['js-' + i for i in material_ids]\n",
    "    \n",
    "    new_elec_doc = new_elec_store.query_one({'material_ids':{'$in':js_material_ids},'elements':{'$all':elements}})\n",
    "    host_struct = Structure.from_dict(new_elec_doc['host_structure'])\n",
    "    #mg = MigrationGraph.from_dict(elec_doc['migration_graph'])\n",
    "            \n",
    "            \n",
    "    return {\"old_batt_id\":battery_id,\n",
    "            \"wf_uuid\":wf_uuid,\n",
    "            \"elements\": elements,\n",
    "            #\"comp\":comp,\n",
    "            \"js_material_ids\": js_material_ids,\n",
    "            #\"doc\":new_elec_doc ,\n",
    "            \"host_struct\": host_struct\n",
    "            \n",
    "           }"
   ]
  },
  {
   "cell_type": "code",
   "execution_count": 62,
   "id": "4f3c51f3-d699-4889-aced-67a04c505eb7",
   "metadata": {},
   "outputs": [
    {
     "data": {
      "text/plain": [
       "{'old_batt_id': '113091_Mg',\n",
       " 'wf_uuid': '938826bf-676d-473e-b98f-0c3c9f842eed',\n",
       " 'elements': ['Mn', 'O'],\n",
       " 'js_material_ids': ['js-72614',\n",
       "  'js-113091',\n",
       "  'js-113096',\n",
       "  'js-47836',\n",
       "  'js-47314',\n",
       "  'js-46959',\n",
       "  'js-46581',\n",
       "  'js-18'],\n",
       " 'host_struct': Structure Summary\n",
       " Lattice\n",
       "     abc : 5.832981085441817 5.8254111932647294 5.837074515975361\n",
       "  angles : 60.01961709382035 59.89097940572301 60.089408967637354\n",
       "  volume : 140.24737212088203\n",
       "       A : 5.050436 -0.001915 2.918349\n",
       "       B : 1.670177 4.756793 2.918706\n",
       "       C : 0.008962 -0.012617 5.837054\n",
       "     pbc : True True True\n",
       " PeriodicSite: Mn (3.3648, 2.3711, 5.8371) [0.5000, 0.5000, 0.5000]\n",
       " PeriodicSite: Mn (0.8396, 2.3721, 4.3779) [0.0000, 0.5000, 0.5000]\n",
       " PeriodicSite: Mn (3.3603, 2.3774, 2.9185) [0.5000, 0.5000, 0.0000]\n",
       " PeriodicSite: Mn (2.5297, -0.0073, 4.3777) [0.5000, 0.0000, 0.5000]\n",
       " PeriodicSite: O (2.7230, 3.4828, 7.2998) [0.2950, 0.7343, 0.7359]\n",
       " PeriodicSite: O (4.9466, 3.4900, 8.5782) [0.7348, 0.7359, 0.7343]\n",
       " PeriodicSite: O (4.2077, 1.3928, 7.2929) [0.7343, 0.2950, 0.7348]\n",
       " PeriodicSite: O (4.9466, 3.4900, 6.0145) [0.7359, 0.7348, 0.2950]\n",
       " PeriodicSite: O (1.7829, 1.2523, 3.0960) [0.2652, 0.2641, 0.2657]\n",
       " PeriodicSite: O (4.0065, 1.2594, 4.3743) [0.7050, 0.2657, 0.2641]\n",
       " PeriodicSite: O (1.7830, 1.2522, 5.6596) [0.2641, 0.2652, 0.7050]\n",
       " PeriodicSite: O (2.5219, 3.3495, 4.3812) [0.2657, 0.7050, 0.2652]}"
      ]
     },
     "execution_count": 62,
     "metadata": {},
     "output_type": "execute_result"
    }
   ],
   "source": [
    "information('113091_Mg')"
   ]
  },
  {
   "cell_type": "markdown",
   "id": "8d244a6f-2143-4324-a8c0-b9052d5d912e",
   "metadata": {},
   "source": [
    "## $\\ce{MnO2}$"
   ]
  },
  {
   "cell_type": "code",
   "execution_count": null,
   "id": "6ed138ff-f1f0-4f9d-b454-db8232b9bab5",
   "metadata": {},
   "outputs": [],
   "source": []
  },
  {
   "cell_type": "markdown",
   "id": "37b1d629-1500-48c2-9394-c0f4e4a539bc",
   "metadata": {},
   "source": [
    "## $\\ce{VPO5}$ "
   ]
  },
  {
   "cell_type": "code",
   "execution_count": null,
   "id": "da846b9c-6e9b-4912-b3ba-fa83bd428f01",
   "metadata": {},
   "outputs": [],
   "source": []
  },
  {
   "cell_type": "markdown",
   "id": "a60d2870-d5b5-40a2-811b-97f33b09619e",
   "metadata": {},
   "source": [
    "## $\\ce{NaV4O10}$"
   ]
  },
  {
   "cell_type": "code",
   "execution_count": null,
   "id": "770d9683-41b1-4bb1-8ebd-ceb62c5aad66",
   "metadata": {},
   "outputs": [],
   "source": []
  },
  {
   "cell_type": "markdown",
   "id": "1f948be6-8800-4e58-b91a-b231f1d006c3",
   "metadata": {},
   "source": [
    "## $\\ce{Cu5P3O13}$"
   ]
  },
  {
   "cell_type": "code",
   "execution_count": null,
   "id": "ee2b2e74-33aa-4b62-9b34-118225c6ccb6",
   "metadata": {},
   "outputs": [],
   "source": []
  },
  {
   "cell_type": "markdown",
   "id": "9a6ebf87-780c-4e37-8b30-1c32c6d0912a",
   "metadata": {},
   "source": [
    "## $\\ce{CrO3}$"
   ]
  },
  {
   "cell_type": "code",
   "execution_count": null,
   "id": "8b18abd3-ede7-4559-9f86-20c7c4e649f5",
   "metadata": {},
   "outputs": [],
   "source": []
  },
  {
   "cell_type": "markdown",
   "id": "68ef6101-0c3b-498d-85ea-9d9584d22692",
   "metadata": {},
   "source": []
  }
 ],
 "metadata": {
  "kernelspec": {
   "display_name": "Python 3 (ipykernel)",
   "language": "python",
   "name": "python3"
  },
  "language_info": {
   "codemirror_mode": {
    "name": "ipython",
    "version": 3
   },
   "file_extension": ".py",
   "mimetype": "text/x-python",
   "name": "python",
   "nbconvert_exporter": "python",
   "pygments_lexer": "ipython3",
   "version": "3.9.16"
  }
 },
 "nbformat": 4,
 "nbformat_minor": 5
}
