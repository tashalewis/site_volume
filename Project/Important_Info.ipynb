{
 "cells": [
  {
   "cell_type": "markdown",
   "id": "293f8605-76e6-4888-832d-d49a92786681",
   "metadata": {},
   "source": [
    "- List: An ordered collection of items, enclosed in square brackets and separated by commas. Lists are mutable, meaning their elements can be changed.\n",
    "- Tuple: A similar collection of items as a list, but enclosed in parentheses and are immutable (cannot be changed after creation).\n",
    "- Dictionary: An unordered collection of key-value pairs, enclosed in curly braces. Dictionaries are mutable.\n",
    "- Set: An unordered collection of unique items, enclosed in curly braces. Sets are mutable.\n",
    "- String: A sequence of characters, enclosed in single or double quotes. Strings are immutable."
   ]
  },
  {
   "cell_type": "code",
   "execution_count": null,
   "id": "e904c45e-e245-4ceb-b585-6f4e2ff71ad2",
   "metadata": {},
   "outputs": [],
   "source": []
  }
 ],
 "metadata": {
  "kernelspec": {
   "display_name": "Python 3 (ipykernel)",
   "language": "python",
   "name": "python3"
  },
  "language_info": {
   "codemirror_mode": {
    "name": "ipython",
    "version": 3
   },
   "file_extension": ".py",
   "mimetype": "text/x-python",
   "name": "python",
   "nbconvert_exporter": "python",
   "pygments_lexer": "ipython3",
   "version": "3.9.13"
  }
 },
 "nbformat": 4,
 "nbformat_minor": 5
}
